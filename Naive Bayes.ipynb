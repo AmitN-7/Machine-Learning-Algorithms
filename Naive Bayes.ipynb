{
 "cells": [
  {
   "cell_type": "code",
   "execution_count": 1,
   "id": "703a1142",
   "metadata": {},
   "outputs": [],
   "source": [
    "import numpy as np\n",
    "import pandas as pd"
   ]
  },
  {
   "cell_type": "code",
   "execution_count": 2,
   "id": "aa653eb2",
   "metadata": {},
   "outputs": [],
   "source": [
    "df= pd.read_csv('play_tennis.csv')\n",
    "df.drop(columns=['day'],inplace=True)"
   ]
  },
  {
   "cell_type": "code",
   "execution_count": 3,
   "id": "1cbebcc1",
   "metadata": {},
   "outputs": [
    {
     "data": {
      "text/html": [
       "<div>\n",
       "<style scoped>\n",
       "    .dataframe tbody tr th:only-of-type {\n",
       "        vertical-align: middle;\n",
       "    }\n",
       "\n",
       "    .dataframe tbody tr th {\n",
       "        vertical-align: top;\n",
       "    }\n",
       "\n",
       "    .dataframe thead th {\n",
       "        text-align: right;\n",
       "    }\n",
       "</style>\n",
       "<table border=\"1\" class=\"dataframe\">\n",
       "  <thead>\n",
       "    <tr style=\"text-align: right;\">\n",
       "      <th></th>\n",
       "      <th>outlook</th>\n",
       "      <th>temp</th>\n",
       "      <th>humidity</th>\n",
       "      <th>wind</th>\n",
       "      <th>play</th>\n",
       "    </tr>\n",
       "  </thead>\n",
       "  <tbody>\n",
       "    <tr>\n",
       "      <th>0</th>\n",
       "      <td>Sunny</td>\n",
       "      <td>Hot</td>\n",
       "      <td>High</td>\n",
       "      <td>Weak</td>\n",
       "      <td>No</td>\n",
       "    </tr>\n",
       "    <tr>\n",
       "      <th>1</th>\n",
       "      <td>Sunny</td>\n",
       "      <td>Hot</td>\n",
       "      <td>High</td>\n",
       "      <td>Strong</td>\n",
       "      <td>No</td>\n",
       "    </tr>\n",
       "    <tr>\n",
       "      <th>2</th>\n",
       "      <td>Overcast</td>\n",
       "      <td>Hot</td>\n",
       "      <td>High</td>\n",
       "      <td>Weak</td>\n",
       "      <td>Yes</td>\n",
       "    </tr>\n",
       "    <tr>\n",
       "      <th>3</th>\n",
       "      <td>Rain</td>\n",
       "      <td>Mild</td>\n",
       "      <td>High</td>\n",
       "      <td>Weak</td>\n",
       "      <td>Yes</td>\n",
       "    </tr>\n",
       "    <tr>\n",
       "      <th>4</th>\n",
       "      <td>Rain</td>\n",
       "      <td>Cool</td>\n",
       "      <td>Normal</td>\n",
       "      <td>Weak</td>\n",
       "      <td>Yes</td>\n",
       "    </tr>\n",
       "  </tbody>\n",
       "</table>\n",
       "</div>"
      ],
      "text/plain": [
       "    outlook  temp humidity    wind play\n",
       "0     Sunny   Hot     High    Weak   No\n",
       "1     Sunny   Hot     High  Strong   No\n",
       "2  Overcast   Hot     High    Weak  Yes\n",
       "3      Rain  Mild     High    Weak  Yes\n",
       "4      Rain  Cool   Normal    Weak  Yes"
      ]
     },
     "execution_count": 3,
     "metadata": {},
     "output_type": "execute_result"
    }
   ],
   "source": [
    "df.head()"
   ]
  },
  {
   "cell_type": "code",
   "execution_count": 4,
   "id": "2812348b",
   "metadata": {},
   "outputs": [],
   "source": [
    "# Problem 1\n",
    "# Outlook-Sunny, Temp-Hot, Humidity-High, wind-weak\n",
    "# Play or No Play?"
   ]
  },
  {
   "cell_type": "code",
   "execution_count": 5,
   "id": "e723249e",
   "metadata": {},
   "outputs": [],
   "source": [
    "# Solution\n",
    "# P(Yes | Sunny, Hot, High, weak)=P(Sunny | Yes) * P(Hot | Yes) * P(High | Yes) * P(Weak | Yes)\n",
    "# P(No | Sunny, Hot, High, weak)=P(Sunny | No) * P(Hot | No) * P(High | No) * P(Weak | No)"
   ]
  },
  {
   "cell_type": "code",
   "execution_count": 6,
   "id": "cc0f24cc",
   "metadata": {},
   "outputs": [],
   "source": [
    "# Problem 2\n",
    "# Outlook-Overcast, Temp-Cold, Humidity-Low, wind-weak\n",
    "# Play or No Play?"
   ]
  },
  {
   "cell_type": "code",
   "execution_count": 7,
   "id": "73a0be55",
   "metadata": {},
   "outputs": [],
   "source": [
    "#P(Yes | Overcast, Cold, Low, weak)=P(Overcast | Yes) * P(Cold | Yes) * P(Low | Yes) * P(weak | Yes)\n",
    "#P(No | Overcast, Cold, Low, weak)=P(Overcast | No) * P(Cold | No) * P(Low | No) * P(weak | No)"
   ]
  },
  {
   "cell_type": "code",
   "execution_count": 8,
   "id": "75e34fcd",
   "metadata": {},
   "outputs": [],
   "source": [
    "#In training stage, Naive Bayes creates a lookup table  which it stores in a dictionary.Lookup table is a set of probabilities\n",
    "#In Naive bayes, In backend it calculates probabilities & stores it"
   ]
  },
  {
   "cell_type": "code",
   "execution_count": 9,
   "id": "f2897f4c",
   "metadata": {},
   "outputs": [
    {
     "data": {
      "text/plain": [
       "Yes    9\n",
       "No     5\n",
       "Name: play, dtype: int64"
      ]
     },
     "execution_count": 9,
     "metadata": {},
     "output_type": "execute_result"
    }
   ],
   "source": [
    "df['play'].value_counts()"
   ]
  },
  {
   "cell_type": "code",
   "execution_count": 10,
   "id": "fe9b113d",
   "metadata": {},
   "outputs": [
    {
     "name": "stdout",
     "output_type": "stream",
     "text": [
      "0.6428571428571429\n",
      "0.35714285714285715\n"
     ]
    }
   ],
   "source": [
    "py=9/14\n",
    "pn=5/14\n",
    "print(py)#Prob(Yes)\n",
    "print(pn)#Prob(No)"
   ]
  },
  {
   "cell_type": "code",
   "execution_count": 12,
   "id": "958499ef",
   "metadata": {},
   "outputs": [
    {
     "data": {
      "text/html": [
       "<div>\n",
       "<style scoped>\n",
       "    .dataframe tbody tr th:only-of-type {\n",
       "        vertical-align: middle;\n",
       "    }\n",
       "\n",
       "    .dataframe tbody tr th {\n",
       "        vertical-align: top;\n",
       "    }\n",
       "\n",
       "    .dataframe thead th {\n",
       "        text-align: right;\n",
       "    }\n",
       "</style>\n",
       "<table border=\"1\" class=\"dataframe\">\n",
       "  <thead>\n",
       "    <tr style=\"text-align: right;\">\n",
       "      <th>play</th>\n",
       "      <th>No</th>\n",
       "      <th>Yes</th>\n",
       "    </tr>\n",
       "    <tr>\n",
       "      <th>outlook</th>\n",
       "      <th></th>\n",
       "      <th></th>\n",
       "    </tr>\n",
       "  </thead>\n",
       "  <tbody>\n",
       "    <tr>\n",
       "      <th>Overcast</th>\n",
       "      <td>0</td>\n",
       "      <td>4</td>\n",
       "    </tr>\n",
       "    <tr>\n",
       "      <th>Rain</th>\n",
       "      <td>2</td>\n",
       "      <td>3</td>\n",
       "    </tr>\n",
       "    <tr>\n",
       "      <th>Sunny</th>\n",
       "      <td>3</td>\n",
       "      <td>2</td>\n",
       "    </tr>\n",
       "  </tbody>\n",
       "</table>\n",
       "</div>"
      ],
      "text/plain": [
       "play      No  Yes\n",
       "outlook          \n",
       "Overcast   0    4\n",
       "Rain       2    3\n",
       "Sunny      3    2"
      ]
     },
     "execution_count": 12,
     "metadata": {},
     "output_type": "execute_result"
    }
   ],
   "source": [
    "pd.crosstab(df['outlook'], df['play'])"
   ]
  },
  {
   "cell_type": "code",
   "execution_count": 23,
   "id": "362c1ba0",
   "metadata": {},
   "outputs": [],
   "source": [
    "Pon=0           #Prob(Overcast/No)\n",
    "Prn=2/5\n",
    "Psn=3/5\n",
    "\n",
    "Poy=4/9\n",
    "Pry=3/9\n",
    "Psy=2/9"
   ]
  },
  {
   "cell_type": "code",
   "execution_count": 14,
   "id": "23797314",
   "metadata": {},
   "outputs": [
    {
     "data": {
      "text/html": [
       "<div>\n",
       "<style scoped>\n",
       "    .dataframe tbody tr th:only-of-type {\n",
       "        vertical-align: middle;\n",
       "    }\n",
       "\n",
       "    .dataframe tbody tr th {\n",
       "        vertical-align: top;\n",
       "    }\n",
       "\n",
       "    .dataframe thead th {\n",
       "        text-align: right;\n",
       "    }\n",
       "</style>\n",
       "<table border=\"1\" class=\"dataframe\">\n",
       "  <thead>\n",
       "    <tr style=\"text-align: right;\">\n",
       "      <th>play</th>\n",
       "      <th>No</th>\n",
       "      <th>Yes</th>\n",
       "    </tr>\n",
       "    <tr>\n",
       "      <th>temp</th>\n",
       "      <th></th>\n",
       "      <th></th>\n",
       "    </tr>\n",
       "  </thead>\n",
       "  <tbody>\n",
       "    <tr>\n",
       "      <th>Cool</th>\n",
       "      <td>1</td>\n",
       "      <td>3</td>\n",
       "    </tr>\n",
       "    <tr>\n",
       "      <th>Hot</th>\n",
       "      <td>2</td>\n",
       "      <td>2</td>\n",
       "    </tr>\n",
       "    <tr>\n",
       "      <th>Mild</th>\n",
       "      <td>2</td>\n",
       "      <td>4</td>\n",
       "    </tr>\n",
       "  </tbody>\n",
       "</table>\n",
       "</div>"
      ],
      "text/plain": [
       "play  No  Yes\n",
       "temp         \n",
       "Cool   1    3\n",
       "Hot    2    2\n",
       "Mild   2    4"
      ]
     },
     "execution_count": 14,
     "metadata": {},
     "output_type": "execute_result"
    }
   ],
   "source": [
    "pd.crosstab(df['temp'], df['play'])"
   ]
  },
  {
   "cell_type": "code",
   "execution_count": 15,
   "id": "6654e2e6",
   "metadata": {},
   "outputs": [],
   "source": [
    "PCoolNo=1/5     #Prob(Cool/No)\n",
    "PHotNo=2/5\n",
    "PMildNo=2/5\n",
    "\n",
    "PCoolYes=3/9           \n",
    "PHotYes=2/9\n",
    "PMildYes=4/9"
   ]
  },
  {
   "cell_type": "code",
   "execution_count": 17,
   "id": "5c84d10a",
   "metadata": {},
   "outputs": [
    {
     "data": {
      "text/html": [
       "<div>\n",
       "<style scoped>\n",
       "    .dataframe tbody tr th:only-of-type {\n",
       "        vertical-align: middle;\n",
       "    }\n",
       "\n",
       "    .dataframe tbody tr th {\n",
       "        vertical-align: top;\n",
       "    }\n",
       "\n",
       "    .dataframe thead th {\n",
       "        text-align: right;\n",
       "    }\n",
       "</style>\n",
       "<table border=\"1\" class=\"dataframe\">\n",
       "  <thead>\n",
       "    <tr style=\"text-align: right;\">\n",
       "      <th>play</th>\n",
       "      <th>No</th>\n",
       "      <th>Yes</th>\n",
       "    </tr>\n",
       "    <tr>\n",
       "      <th>humidity</th>\n",
       "      <th></th>\n",
       "      <th></th>\n",
       "    </tr>\n",
       "  </thead>\n",
       "  <tbody>\n",
       "    <tr>\n",
       "      <th>High</th>\n",
       "      <td>4</td>\n",
       "      <td>3</td>\n",
       "    </tr>\n",
       "    <tr>\n",
       "      <th>Normal</th>\n",
       "      <td>1</td>\n",
       "      <td>6</td>\n",
       "    </tr>\n",
       "  </tbody>\n",
       "</table>\n",
       "</div>"
      ],
      "text/plain": [
       "play      No  Yes\n",
       "humidity         \n",
       "High       4    3\n",
       "Normal     1    6"
      ]
     },
     "execution_count": 17,
     "metadata": {},
     "output_type": "execute_result"
    }
   ],
   "source": [
    "pd.crosstab(df['humidity'], df['play'])"
   ]
  },
  {
   "cell_type": "code",
   "execution_count": 18,
   "id": "48295965",
   "metadata": {},
   "outputs": [],
   "source": [
    "PHighNo=4/5     #Prob(High/No)\n",
    "PNormalNo=1/5\n",
    "\n",
    "PHighYes=3/9   \n",
    "PNormalYes=6/9"
   ]
  },
  {
   "cell_type": "code",
   "execution_count": 19,
   "id": "9ffbbdbd",
   "metadata": {},
   "outputs": [
    {
     "data": {
      "text/html": [
       "<div>\n",
       "<style scoped>\n",
       "    .dataframe tbody tr th:only-of-type {\n",
       "        vertical-align: middle;\n",
       "    }\n",
       "\n",
       "    .dataframe tbody tr th {\n",
       "        vertical-align: top;\n",
       "    }\n",
       "\n",
       "    .dataframe thead th {\n",
       "        text-align: right;\n",
       "    }\n",
       "</style>\n",
       "<table border=\"1\" class=\"dataframe\">\n",
       "  <thead>\n",
       "    <tr style=\"text-align: right;\">\n",
       "      <th>play</th>\n",
       "      <th>No</th>\n",
       "      <th>Yes</th>\n",
       "    </tr>\n",
       "    <tr>\n",
       "      <th>wind</th>\n",
       "      <th></th>\n",
       "      <th></th>\n",
       "    </tr>\n",
       "  </thead>\n",
       "  <tbody>\n",
       "    <tr>\n",
       "      <th>Strong</th>\n",
       "      <td>3</td>\n",
       "      <td>3</td>\n",
       "    </tr>\n",
       "    <tr>\n",
       "      <th>Weak</th>\n",
       "      <td>2</td>\n",
       "      <td>6</td>\n",
       "    </tr>\n",
       "  </tbody>\n",
       "</table>\n",
       "</div>"
      ],
      "text/plain": [
       "play    No  Yes\n",
       "wind           \n",
       "Strong   3    3\n",
       "Weak     2    6"
      ]
     },
     "execution_count": 19,
     "metadata": {},
     "output_type": "execute_result"
    }
   ],
   "source": [
    "pd.crosstab(df['wind'], df['play'])"
   ]
  },
  {
   "cell_type": "code",
   "execution_count": 20,
   "id": "31bc8c6e",
   "metadata": {},
   "outputs": [],
   "source": [
    "PStrongNo=3/5     #Prob(Sreong/No)\n",
    "PWeakNo=2/5\n",
    "\n",
    "PStrongYes=3/9   \n",
    "PWeakYes=6/9"
   ]
  },
  {
   "cell_type": "code",
   "execution_count": 26,
   "id": "c98088f6",
   "metadata": {},
   "outputs": [
    {
     "name": "stdout",
     "output_type": "stream",
     "text": [
      "0.007054673721340388\n",
      "0.02742857142857143\n"
     ]
    }
   ],
   "source": [
    "# P(Yes | Sunny, Hot, High, weak)=P(Sunny | Yes) * P(Hot | Yes) * P(High | Yes) * P(Weak | Yes)\n",
    "Pyes = py*Psy*PHotYes*PHighYes*PWeakYes \n",
    "print(Pyes)\n",
    "# P(No | Sunny, Hot, High, weak)=P(Sunny | No) * P(Hot | No) * P(High | No) * P(Weak | No)\n",
    "Pno = pn*Psn*PHotNo*PHighNo*PWeakNo\n",
    "print(Pno)"
   ]
  },
  {
   "cell_type": "code",
   "execution_count": 27,
   "id": "98adfb9e",
   "metadata": {},
   "outputs": [],
   "source": [
    "#No play"
   ]
  },
  {
   "cell_type": "code",
   "execution_count": null,
   "id": "8f0d3619",
   "metadata": {},
   "outputs": [],
   "source": []
  }
 ],
 "metadata": {
  "kernelspec": {
   "display_name": "Python 3 (ipykernel)",
   "language": "python",
   "name": "python3"
  },
  "language_info": {
   "codemirror_mode": {
    "name": "ipython",
    "version": 3
   },
   "file_extension": ".py",
   "mimetype": "text/x-python",
   "name": "python",
   "nbconvert_exporter": "python",
   "pygments_lexer": "ipython3",
   "version": "3.10.3"
  }
 },
 "nbformat": 4,
 "nbformat_minor": 5
}
