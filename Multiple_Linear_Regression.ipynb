{
  "cells": [
    {
      "cell_type": "code",
      "execution_count": null,
      "metadata": {
        "id": "KWhLqUiThpzv"
      },
      "outputs": [],
      "source": [
        "import numpy as np\n",
        "import pandas as pd"
      ]
    },
    {
      "cell_type": "code",
      "execution_count": null,
      "metadata": {
        "id": "5metwl5ehpzw"
      },
      "outputs": [],
      "source": [
        "df =pd.read_csv('Housing.csv')"
      ]
    },
    {
      "cell_type": "code",
      "execution_count": null,
      "metadata": {
        "id": "XYmrOOsihpzw",
        "outputId": "6438a16d-4c3c-4829-f43f-7fabb371f281"
      },
      "outputs": [
        {
          "data": {
            "text/html": [
              "<div>\n",
              "<style scoped>\n",
              "    .dataframe tbody tr th:only-of-type {\n",
              "        vertical-align: middle;\n",
              "    }\n",
              "\n",
              "    .dataframe tbody tr th {\n",
              "        vertical-align: top;\n",
              "    }\n",
              "\n",
              "    .dataframe thead th {\n",
              "        text-align: right;\n",
              "    }\n",
              "</style>\n",
              "<table border=\"1\" class=\"dataframe\">\n",
              "  <thead>\n",
              "    <tr style=\"text-align: right;\">\n",
              "      <th></th>\n",
              "      <th>price</th>\n",
              "      <th>area</th>\n",
              "      <th>bedrooms</th>\n",
              "      <th>bathrooms</th>\n",
              "      <th>stories</th>\n",
              "      <th>mainroad</th>\n",
              "      <th>guestroom</th>\n",
              "      <th>basement</th>\n",
              "      <th>hotwaterheating</th>\n",
              "      <th>airconditioning</th>\n",
              "      <th>parking</th>\n",
              "      <th>prefarea</th>\n",
              "      <th>furnishingstatus</th>\n",
              "    </tr>\n",
              "  </thead>\n",
              "  <tbody>\n",
              "    <tr>\n",
              "      <th>0</th>\n",
              "      <td>13300000</td>\n",
              "      <td>7420</td>\n",
              "      <td>4</td>\n",
              "      <td>2</td>\n",
              "      <td>3</td>\n",
              "      <td>yes</td>\n",
              "      <td>no</td>\n",
              "      <td>no</td>\n",
              "      <td>no</td>\n",
              "      <td>yes</td>\n",
              "      <td>2</td>\n",
              "      <td>yes</td>\n",
              "      <td>furnished</td>\n",
              "    </tr>\n",
              "    <tr>\n",
              "      <th>1</th>\n",
              "      <td>12250000</td>\n",
              "      <td>8960</td>\n",
              "      <td>4</td>\n",
              "      <td>4</td>\n",
              "      <td>4</td>\n",
              "      <td>yes</td>\n",
              "      <td>no</td>\n",
              "      <td>no</td>\n",
              "      <td>no</td>\n",
              "      <td>yes</td>\n",
              "      <td>3</td>\n",
              "      <td>no</td>\n",
              "      <td>furnished</td>\n",
              "    </tr>\n",
              "    <tr>\n",
              "      <th>2</th>\n",
              "      <td>12250000</td>\n",
              "      <td>9960</td>\n",
              "      <td>3</td>\n",
              "      <td>2</td>\n",
              "      <td>2</td>\n",
              "      <td>yes</td>\n",
              "      <td>no</td>\n",
              "      <td>yes</td>\n",
              "      <td>no</td>\n",
              "      <td>no</td>\n",
              "      <td>2</td>\n",
              "      <td>yes</td>\n",
              "      <td>semi-furnished</td>\n",
              "    </tr>\n",
              "    <tr>\n",
              "      <th>3</th>\n",
              "      <td>12215000</td>\n",
              "      <td>7500</td>\n",
              "      <td>4</td>\n",
              "      <td>2</td>\n",
              "      <td>2</td>\n",
              "      <td>yes</td>\n",
              "      <td>no</td>\n",
              "      <td>yes</td>\n",
              "      <td>no</td>\n",
              "      <td>yes</td>\n",
              "      <td>3</td>\n",
              "      <td>yes</td>\n",
              "      <td>furnished</td>\n",
              "    </tr>\n",
              "    <tr>\n",
              "      <th>4</th>\n",
              "      <td>11410000</td>\n",
              "      <td>7420</td>\n",
              "      <td>4</td>\n",
              "      <td>1</td>\n",
              "      <td>2</td>\n",
              "      <td>yes</td>\n",
              "      <td>yes</td>\n",
              "      <td>yes</td>\n",
              "      <td>no</td>\n",
              "      <td>yes</td>\n",
              "      <td>2</td>\n",
              "      <td>no</td>\n",
              "      <td>furnished</td>\n",
              "    </tr>\n",
              "  </tbody>\n",
              "</table>\n",
              "</div>"
            ],
            "text/plain": [
              "      price  area  bedrooms  bathrooms  stories mainroad guestroom basement  \\\n",
              "0  13300000  7420         4          2        3      yes        no       no   \n",
              "1  12250000  8960         4          4        4      yes        no       no   \n",
              "2  12250000  9960         3          2        2      yes        no      yes   \n",
              "3  12215000  7500         4          2        2      yes        no      yes   \n",
              "4  11410000  7420         4          1        2      yes       yes      yes   \n",
              "\n",
              "  hotwaterheating airconditioning  parking prefarea furnishingstatus  \n",
              "0              no             yes        2      yes        furnished  \n",
              "1              no             yes        3       no        furnished  \n",
              "2              no              no        2      yes   semi-furnished  \n",
              "3              no             yes        3      yes        furnished  \n",
              "4              no             yes        2       no        furnished  "
            ]
          },
          "execution_count": 3,
          "metadata": {},
          "output_type": "execute_result"
        }
      ],
      "source": [
        "df.head()"
      ]
    },
    {
      "cell_type": "code",
      "execution_count": null,
      "metadata": {
        "id": "aXfdhiq4hpzy",
        "outputId": "025b4383-f1f4-4348-fc24-5ff800b9d385"
      },
      "outputs": [
        {
          "name": "stdout",
          "output_type": "stream",
          "text": [
            "<class 'pandas.core.frame.DataFrame'>\n",
            "RangeIndex: 545 entries, 0 to 544\n",
            "Data columns (total 13 columns):\n",
            " #   Column            Non-Null Count  Dtype \n",
            "---  ------            --------------  ----- \n",
            " 0   price             545 non-null    int64 \n",
            " 1   area              545 non-null    int64 \n",
            " 2   bedrooms          545 non-null    int64 \n",
            " 3   bathrooms         545 non-null    int64 \n",
            " 4   stories           545 non-null    int64 \n",
            " 5   mainroad          545 non-null    object\n",
            " 6   guestroom         545 non-null    object\n",
            " 7   basement          545 non-null    object\n",
            " 8   hotwaterheating   545 non-null    object\n",
            " 9   airconditioning   545 non-null    object\n",
            " 10  parking           545 non-null    int64 \n",
            " 11  prefarea          545 non-null    object\n",
            " 12  furnishingstatus  545 non-null    object\n",
            "dtypes: int64(6), object(7)\n",
            "memory usage: 55.5+ KB\n"
          ]
        }
      ],
      "source": [
        "df.info()"
      ]
    },
    {
      "cell_type": "code",
      "execution_count": null,
      "metadata": {
        "id": "D1cG00dnhpzz"
      },
      "outputs": [],
      "source": [
        "df['mainroad'] = df['mainroad'].map({'yes':1, 'no':0})\n",
        "df['guestroom'] = df['guestroom'].map({'yes':1, 'no':0})\n",
        "df['basement'] = df['basement'].map({'yes':1, 'no':0})\n",
        "df['hotwaterheating'] = df['hotwaterheating'].map({'yes':1, 'no':0})\n",
        "df['airconditioning'] = df['airconditioning'] .map({'yes':1, 'no':0})\n",
        "df['prefarea'] = df['prefarea'] .map({'yes':1, 'no':0})"
      ]
    },
    {
      "cell_type": "code",
      "execution_count": null,
      "metadata": {
        "id": "BGb8S8fehpzz",
        "outputId": "e997e796-bb28-4a8d-927a-644198827b91"
      },
      "outputs": [
        {
          "data": {
            "text/html": [
              "<div>\n",
              "<style scoped>\n",
              "    .dataframe tbody tr th:only-of-type {\n",
              "        vertical-align: middle;\n",
              "    }\n",
              "\n",
              "    .dataframe tbody tr th {\n",
              "        vertical-align: top;\n",
              "    }\n",
              "\n",
              "    .dataframe thead th {\n",
              "        text-align: right;\n",
              "    }\n",
              "</style>\n",
              "<table border=\"1\" class=\"dataframe\">\n",
              "  <thead>\n",
              "    <tr style=\"text-align: right;\">\n",
              "      <th></th>\n",
              "      <th>price</th>\n",
              "      <th>area</th>\n",
              "      <th>bedrooms</th>\n",
              "      <th>bathrooms</th>\n",
              "      <th>stories</th>\n",
              "      <th>mainroad</th>\n",
              "      <th>guestroom</th>\n",
              "      <th>basement</th>\n",
              "      <th>hotwaterheating</th>\n",
              "      <th>airconditioning</th>\n",
              "      <th>parking</th>\n",
              "      <th>prefarea</th>\n",
              "      <th>furnishingstatus</th>\n",
              "    </tr>\n",
              "  </thead>\n",
              "  <tbody>\n",
              "    <tr>\n",
              "      <th>0</th>\n",
              "      <td>13300000</td>\n",
              "      <td>7420</td>\n",
              "      <td>4</td>\n",
              "      <td>2</td>\n",
              "      <td>3</td>\n",
              "      <td>1</td>\n",
              "      <td>0</td>\n",
              "      <td>0</td>\n",
              "      <td>0</td>\n",
              "      <td>1</td>\n",
              "      <td>2</td>\n",
              "      <td>1</td>\n",
              "      <td>furnished</td>\n",
              "    </tr>\n",
              "    <tr>\n",
              "      <th>1</th>\n",
              "      <td>12250000</td>\n",
              "      <td>8960</td>\n",
              "      <td>4</td>\n",
              "      <td>4</td>\n",
              "      <td>4</td>\n",
              "      <td>1</td>\n",
              "      <td>0</td>\n",
              "      <td>0</td>\n",
              "      <td>0</td>\n",
              "      <td>1</td>\n",
              "      <td>3</td>\n",
              "      <td>0</td>\n",
              "      <td>furnished</td>\n",
              "    </tr>\n",
              "    <tr>\n",
              "      <th>2</th>\n",
              "      <td>12250000</td>\n",
              "      <td>9960</td>\n",
              "      <td>3</td>\n",
              "      <td>2</td>\n",
              "      <td>2</td>\n",
              "      <td>1</td>\n",
              "      <td>0</td>\n",
              "      <td>1</td>\n",
              "      <td>0</td>\n",
              "      <td>0</td>\n",
              "      <td>2</td>\n",
              "      <td>1</td>\n",
              "      <td>semi-furnished</td>\n",
              "    </tr>\n",
              "    <tr>\n",
              "      <th>3</th>\n",
              "      <td>12215000</td>\n",
              "      <td>7500</td>\n",
              "      <td>4</td>\n",
              "      <td>2</td>\n",
              "      <td>2</td>\n",
              "      <td>1</td>\n",
              "      <td>0</td>\n",
              "      <td>1</td>\n",
              "      <td>0</td>\n",
              "      <td>1</td>\n",
              "      <td>3</td>\n",
              "      <td>1</td>\n",
              "      <td>furnished</td>\n",
              "    </tr>\n",
              "    <tr>\n",
              "      <th>4</th>\n",
              "      <td>11410000</td>\n",
              "      <td>7420</td>\n",
              "      <td>4</td>\n",
              "      <td>1</td>\n",
              "      <td>2</td>\n",
              "      <td>1</td>\n",
              "      <td>1</td>\n",
              "      <td>1</td>\n",
              "      <td>0</td>\n",
              "      <td>1</td>\n",
              "      <td>2</td>\n",
              "      <td>0</td>\n",
              "      <td>furnished</td>\n",
              "    </tr>\n",
              "  </tbody>\n",
              "</table>\n",
              "</div>"
            ],
            "text/plain": [
              "      price  area  bedrooms  bathrooms  stories  mainroad  guestroom  \\\n",
              "0  13300000  7420         4          2        3         1          0   \n",
              "1  12250000  8960         4          4        4         1          0   \n",
              "2  12250000  9960         3          2        2         1          0   \n",
              "3  12215000  7500         4          2        2         1          0   \n",
              "4  11410000  7420         4          1        2         1          1   \n",
              "\n",
              "   basement  hotwaterheating  airconditioning  parking  prefarea  \\\n",
              "0         0                0                1        2         1   \n",
              "1         0                0                1        3         0   \n",
              "2         1                0                0        2         1   \n",
              "3         1                0                1        3         1   \n",
              "4         1                0                1        2         0   \n",
              "\n",
              "  furnishingstatus  \n",
              "0        furnished  \n",
              "1        furnished  \n",
              "2   semi-furnished  \n",
              "3        furnished  \n",
              "4        furnished  "
            ]
          },
          "execution_count": 6,
          "metadata": {},
          "output_type": "execute_result"
        }
      ],
      "source": [
        "df.head()"
      ]
    },
    {
      "cell_type": "code",
      "execution_count": null,
      "metadata": {
        "id": "sXvFV-nAhpz0"
      },
      "outputs": [],
      "source": [
        "status = pd.get_dummies(df['furnishingstatus'])"
      ]
    },
    {
      "cell_type": "code",
      "execution_count": null,
      "metadata": {
        "id": "BP9cnqnQhpz0",
        "outputId": "8faf9986-a8c6-4ae7-d167-6f3589ed0f5f"
      },
      "outputs": [
        {
          "data": {
            "text/html": [
              "<div>\n",
              "<style scoped>\n",
              "    .dataframe tbody tr th:only-of-type {\n",
              "        vertical-align: middle;\n",
              "    }\n",
              "\n",
              "    .dataframe tbody tr th {\n",
              "        vertical-align: top;\n",
              "    }\n",
              "\n",
              "    .dataframe thead th {\n",
              "        text-align: right;\n",
              "    }\n",
              "</style>\n",
              "<table border=\"1\" class=\"dataframe\">\n",
              "  <thead>\n",
              "    <tr style=\"text-align: right;\">\n",
              "      <th></th>\n",
              "      <th>furnished</th>\n",
              "      <th>semi-furnished</th>\n",
              "      <th>unfurnished</th>\n",
              "    </tr>\n",
              "  </thead>\n",
              "  <tbody>\n",
              "    <tr>\n",
              "      <th>0</th>\n",
              "      <td>1</td>\n",
              "      <td>0</td>\n",
              "      <td>0</td>\n",
              "    </tr>\n",
              "    <tr>\n",
              "      <th>1</th>\n",
              "      <td>1</td>\n",
              "      <td>0</td>\n",
              "      <td>0</td>\n",
              "    </tr>\n",
              "    <tr>\n",
              "      <th>2</th>\n",
              "      <td>0</td>\n",
              "      <td>1</td>\n",
              "      <td>0</td>\n",
              "    </tr>\n",
              "    <tr>\n",
              "      <th>3</th>\n",
              "      <td>1</td>\n",
              "      <td>0</td>\n",
              "      <td>0</td>\n",
              "    </tr>\n",
              "    <tr>\n",
              "      <th>4</th>\n",
              "      <td>1</td>\n",
              "      <td>0</td>\n",
              "      <td>0</td>\n",
              "    </tr>\n",
              "  </tbody>\n",
              "</table>\n",
              "</div>"
            ],
            "text/plain": [
              "   furnished  semi-furnished  unfurnished\n",
              "0          1               0            0\n",
              "1          1               0            0\n",
              "2          0               1            0\n",
              "3          1               0            0\n",
              "4          1               0            0"
            ]
          },
          "execution_count": 8,
          "metadata": {},
          "output_type": "execute_result"
        }
      ],
      "source": [
        "status.head()"
      ]
    },
    {
      "cell_type": "code",
      "execution_count": null,
      "metadata": {
        "id": "lvHWQFu_hpz0"
      },
      "outputs": [],
      "source": [
        "status = pd.get_dummies(df['furnishingstatus'],drop_first = True)"
      ]
    },
    {
      "cell_type": "code",
      "execution_count": null,
      "metadata": {
        "id": "1osnd-m6hpz1",
        "outputId": "b0133e21-8b2e-41d3-c5ce-1b6db95736da"
      },
      "outputs": [
        {
          "data": {
            "text/html": [
              "<div>\n",
              "<style scoped>\n",
              "    .dataframe tbody tr th:only-of-type {\n",
              "        vertical-align: middle;\n",
              "    }\n",
              "\n",
              "    .dataframe tbody tr th {\n",
              "        vertical-align: top;\n",
              "    }\n",
              "\n",
              "    .dataframe thead th {\n",
              "        text-align: right;\n",
              "    }\n",
              "</style>\n",
              "<table border=\"1\" class=\"dataframe\">\n",
              "  <thead>\n",
              "    <tr style=\"text-align: right;\">\n",
              "      <th></th>\n",
              "      <th>semi-furnished</th>\n",
              "      <th>unfurnished</th>\n",
              "    </tr>\n",
              "  </thead>\n",
              "  <tbody>\n",
              "    <tr>\n",
              "      <th>0</th>\n",
              "      <td>0</td>\n",
              "      <td>0</td>\n",
              "    </tr>\n",
              "    <tr>\n",
              "      <th>1</th>\n",
              "      <td>0</td>\n",
              "      <td>0</td>\n",
              "    </tr>\n",
              "    <tr>\n",
              "      <th>2</th>\n",
              "      <td>1</td>\n",
              "      <td>0</td>\n",
              "    </tr>\n",
              "    <tr>\n",
              "      <th>3</th>\n",
              "      <td>0</td>\n",
              "      <td>0</td>\n",
              "    </tr>\n",
              "    <tr>\n",
              "      <th>4</th>\n",
              "      <td>0</td>\n",
              "      <td>0</td>\n",
              "    </tr>\n",
              "  </tbody>\n",
              "</table>\n",
              "</div>"
            ],
            "text/plain": [
              "   semi-furnished  unfurnished\n",
              "0               0            0\n",
              "1               0            0\n",
              "2               1            0\n",
              "3               0            0\n",
              "4               0            0"
            ]
          },
          "execution_count": 10,
          "metadata": {},
          "output_type": "execute_result"
        }
      ],
      "source": [
        "status.head()"
      ]
    },
    {
      "cell_type": "code",
      "execution_count": null,
      "metadata": {
        "id": "Yo6iUdJXhpz1"
      },
      "outputs": [],
      "source": [
        "df = pd.concat([df,status],axis=1)"
      ]
    },
    {
      "cell_type": "code",
      "execution_count": null,
      "metadata": {
        "id": "St31XvGqhpz1"
      },
      "outputs": [],
      "source": [
        "df.drop(['furnishingstatus'],axis=1,inplace=True)"
      ]
    },
    {
      "cell_type": "code",
      "execution_count": null,
      "metadata": {
        "id": "UvTmIhmDhpz1",
        "outputId": "7a452b65-2538-4824-bafa-217233ebaf22"
      },
      "outputs": [
        {
          "data": {
            "text/html": [
              "<div>\n",
              "<style scoped>\n",
              "    .dataframe tbody tr th:only-of-type {\n",
              "        vertical-align: middle;\n",
              "    }\n",
              "\n",
              "    .dataframe tbody tr th {\n",
              "        vertical-align: top;\n",
              "    }\n",
              "\n",
              "    .dataframe thead th {\n",
              "        text-align: right;\n",
              "    }\n",
              "</style>\n",
              "<table border=\"1\" class=\"dataframe\">\n",
              "  <thead>\n",
              "    <tr style=\"text-align: right;\">\n",
              "      <th></th>\n",
              "      <th>price</th>\n",
              "      <th>area</th>\n",
              "      <th>bedrooms</th>\n",
              "      <th>bathrooms</th>\n",
              "      <th>stories</th>\n",
              "      <th>mainroad</th>\n",
              "      <th>guestroom</th>\n",
              "      <th>basement</th>\n",
              "      <th>hotwaterheating</th>\n",
              "      <th>airconditioning</th>\n",
              "      <th>parking</th>\n",
              "      <th>prefarea</th>\n",
              "      <th>semi-furnished</th>\n",
              "      <th>unfurnished</th>\n",
              "    </tr>\n",
              "  </thead>\n",
              "  <tbody>\n",
              "    <tr>\n",
              "      <th>0</th>\n",
              "      <td>13300000</td>\n",
              "      <td>7420</td>\n",
              "      <td>4</td>\n",
              "      <td>2</td>\n",
              "      <td>3</td>\n",
              "      <td>1</td>\n",
              "      <td>0</td>\n",
              "      <td>0</td>\n",
              "      <td>0</td>\n",
              "      <td>1</td>\n",
              "      <td>2</td>\n",
              "      <td>1</td>\n",
              "      <td>0</td>\n",
              "      <td>0</td>\n",
              "    </tr>\n",
              "    <tr>\n",
              "      <th>1</th>\n",
              "      <td>12250000</td>\n",
              "      <td>8960</td>\n",
              "      <td>4</td>\n",
              "      <td>4</td>\n",
              "      <td>4</td>\n",
              "      <td>1</td>\n",
              "      <td>0</td>\n",
              "      <td>0</td>\n",
              "      <td>0</td>\n",
              "      <td>1</td>\n",
              "      <td>3</td>\n",
              "      <td>0</td>\n",
              "      <td>0</td>\n",
              "      <td>0</td>\n",
              "    </tr>\n",
              "    <tr>\n",
              "      <th>2</th>\n",
              "      <td>12250000</td>\n",
              "      <td>9960</td>\n",
              "      <td>3</td>\n",
              "      <td>2</td>\n",
              "      <td>2</td>\n",
              "      <td>1</td>\n",
              "      <td>0</td>\n",
              "      <td>1</td>\n",
              "      <td>0</td>\n",
              "      <td>0</td>\n",
              "      <td>2</td>\n",
              "      <td>1</td>\n",
              "      <td>1</td>\n",
              "      <td>0</td>\n",
              "    </tr>\n",
              "    <tr>\n",
              "      <th>3</th>\n",
              "      <td>12215000</td>\n",
              "      <td>7500</td>\n",
              "      <td>4</td>\n",
              "      <td>2</td>\n",
              "      <td>2</td>\n",
              "      <td>1</td>\n",
              "      <td>0</td>\n",
              "      <td>1</td>\n",
              "      <td>0</td>\n",
              "      <td>1</td>\n",
              "      <td>3</td>\n",
              "      <td>1</td>\n",
              "      <td>0</td>\n",
              "      <td>0</td>\n",
              "    </tr>\n",
              "    <tr>\n",
              "      <th>4</th>\n",
              "      <td>11410000</td>\n",
              "      <td>7420</td>\n",
              "      <td>4</td>\n",
              "      <td>1</td>\n",
              "      <td>2</td>\n",
              "      <td>1</td>\n",
              "      <td>1</td>\n",
              "      <td>1</td>\n",
              "      <td>0</td>\n",
              "      <td>1</td>\n",
              "      <td>2</td>\n",
              "      <td>0</td>\n",
              "      <td>0</td>\n",
              "      <td>0</td>\n",
              "    </tr>\n",
              "  </tbody>\n",
              "</table>\n",
              "</div>"
            ],
            "text/plain": [
              "      price  area  bedrooms  bathrooms  stories  mainroad  guestroom  \\\n",
              "0  13300000  7420         4          2        3         1          0   \n",
              "1  12250000  8960         4          4        4         1          0   \n",
              "2  12250000  9960         3          2        2         1          0   \n",
              "3  12215000  7500         4          2        2         1          0   \n",
              "4  11410000  7420         4          1        2         1          1   \n",
              "\n",
              "   basement  hotwaterheating  airconditioning  parking  prefarea  \\\n",
              "0         0                0                1        2         1   \n",
              "1         0                0                1        3         0   \n",
              "2         1                0                0        2         1   \n",
              "3         1                0                1        3         1   \n",
              "4         1                0                1        2         0   \n",
              "\n",
              "   semi-furnished  unfurnished  \n",
              "0               0            0  \n",
              "1               0            0  \n",
              "2               1            0  \n",
              "3               0            0  \n",
              "4               0            0  "
            ]
          },
          "execution_count": 13,
          "metadata": {},
          "output_type": "execute_result"
        }
      ],
      "source": [
        "df.head()"
      ]
    },
    {
      "cell_type": "code",
      "execution_count": null,
      "metadata": {
        "id": "aBggS3Zchpz2"
      },
      "outputs": [],
      "source": [
        "df['areaperbedroom'] = df['area']/df['bedrooms']"
      ]
    },
    {
      "cell_type": "code",
      "execution_count": null,
      "metadata": {
        "id": "3MCuCQwIhpz2"
      },
      "outputs": [],
      "source": [
        "df['bbratio'] = df['bathrooms']/df['bedrooms']"
      ]
    },
    {
      "cell_type": "code",
      "execution_count": null,
      "metadata": {
        "id": "ikHWQtnphpz2",
        "outputId": "e21aae77-7e94-4c2a-a7b3-6f779c25135c"
      },
      "outputs": [
        {
          "data": {
            "text/html": [
              "<div>\n",
              "<style scoped>\n",
              "    .dataframe tbody tr th:only-of-type {\n",
              "        vertical-align: middle;\n",
              "    }\n",
              "\n",
              "    .dataframe tbody tr th {\n",
              "        vertical-align: top;\n",
              "    }\n",
              "\n",
              "    .dataframe thead th {\n",
              "        text-align: right;\n",
              "    }\n",
              "</style>\n",
              "<table border=\"1\" class=\"dataframe\">\n",
              "  <thead>\n",
              "    <tr style=\"text-align: right;\">\n",
              "      <th></th>\n",
              "      <th>price</th>\n",
              "      <th>area</th>\n",
              "      <th>bedrooms</th>\n",
              "      <th>bathrooms</th>\n",
              "      <th>stories</th>\n",
              "      <th>mainroad</th>\n",
              "      <th>guestroom</th>\n",
              "      <th>basement</th>\n",
              "      <th>hotwaterheating</th>\n",
              "      <th>airconditioning</th>\n",
              "      <th>parking</th>\n",
              "      <th>prefarea</th>\n",
              "      <th>semi-furnished</th>\n",
              "      <th>unfurnished</th>\n",
              "      <th>areaperbedroom</th>\n",
              "      <th>bbratio</th>\n",
              "    </tr>\n",
              "  </thead>\n",
              "  <tbody>\n",
              "    <tr>\n",
              "      <th>0</th>\n",
              "      <td>13300000</td>\n",
              "      <td>7420</td>\n",
              "      <td>4</td>\n",
              "      <td>2</td>\n",
              "      <td>3</td>\n",
              "      <td>1</td>\n",
              "      <td>0</td>\n",
              "      <td>0</td>\n",
              "      <td>0</td>\n",
              "      <td>1</td>\n",
              "      <td>2</td>\n",
              "      <td>1</td>\n",
              "      <td>0</td>\n",
              "      <td>0</td>\n",
              "      <td>1855.0</td>\n",
              "      <td>0.500000</td>\n",
              "    </tr>\n",
              "    <tr>\n",
              "      <th>1</th>\n",
              "      <td>12250000</td>\n",
              "      <td>8960</td>\n",
              "      <td>4</td>\n",
              "      <td>4</td>\n",
              "      <td>4</td>\n",
              "      <td>1</td>\n",
              "      <td>0</td>\n",
              "      <td>0</td>\n",
              "      <td>0</td>\n",
              "      <td>1</td>\n",
              "      <td>3</td>\n",
              "      <td>0</td>\n",
              "      <td>0</td>\n",
              "      <td>0</td>\n",
              "      <td>2240.0</td>\n",
              "      <td>1.000000</td>\n",
              "    </tr>\n",
              "    <tr>\n",
              "      <th>2</th>\n",
              "      <td>12250000</td>\n",
              "      <td>9960</td>\n",
              "      <td>3</td>\n",
              "      <td>2</td>\n",
              "      <td>2</td>\n",
              "      <td>1</td>\n",
              "      <td>0</td>\n",
              "      <td>1</td>\n",
              "      <td>0</td>\n",
              "      <td>0</td>\n",
              "      <td>2</td>\n",
              "      <td>1</td>\n",
              "      <td>1</td>\n",
              "      <td>0</td>\n",
              "      <td>3320.0</td>\n",
              "      <td>0.666667</td>\n",
              "    </tr>\n",
              "    <tr>\n",
              "      <th>3</th>\n",
              "      <td>12215000</td>\n",
              "      <td>7500</td>\n",
              "      <td>4</td>\n",
              "      <td>2</td>\n",
              "      <td>2</td>\n",
              "      <td>1</td>\n",
              "      <td>0</td>\n",
              "      <td>1</td>\n",
              "      <td>0</td>\n",
              "      <td>1</td>\n",
              "      <td>3</td>\n",
              "      <td>1</td>\n",
              "      <td>0</td>\n",
              "      <td>0</td>\n",
              "      <td>1875.0</td>\n",
              "      <td>0.500000</td>\n",
              "    </tr>\n",
              "    <tr>\n",
              "      <th>4</th>\n",
              "      <td>11410000</td>\n",
              "      <td>7420</td>\n",
              "      <td>4</td>\n",
              "      <td>1</td>\n",
              "      <td>2</td>\n",
              "      <td>1</td>\n",
              "      <td>1</td>\n",
              "      <td>1</td>\n",
              "      <td>0</td>\n",
              "      <td>1</td>\n",
              "      <td>2</td>\n",
              "      <td>0</td>\n",
              "      <td>0</td>\n",
              "      <td>0</td>\n",
              "      <td>1855.0</td>\n",
              "      <td>0.250000</td>\n",
              "    </tr>\n",
              "  </tbody>\n",
              "</table>\n",
              "</div>"
            ],
            "text/plain": [
              "      price  area  bedrooms  bathrooms  stories  mainroad  guestroom  \\\n",
              "0  13300000  7420         4          2        3         1          0   \n",
              "1  12250000  8960         4          4        4         1          0   \n",
              "2  12250000  9960         3          2        2         1          0   \n",
              "3  12215000  7500         4          2        2         1          0   \n",
              "4  11410000  7420         4          1        2         1          1   \n",
              "\n",
              "   basement  hotwaterheating  airconditioning  parking  prefarea  \\\n",
              "0         0                0                1        2         1   \n",
              "1         0                0                1        3         0   \n",
              "2         1                0                0        2         1   \n",
              "3         1                0                1        3         1   \n",
              "4         1                0                1        2         0   \n",
              "\n",
              "   semi-furnished  unfurnished  areaperbedroom   bbratio  \n",
              "0               0            0          1855.0  0.500000  \n",
              "1               0            0          2240.0  1.000000  \n",
              "2               1            0          3320.0  0.666667  \n",
              "3               0            0          1875.0  0.500000  \n",
              "4               0            0          1855.0  0.250000  "
            ]
          },
          "execution_count": 16,
          "metadata": {},
          "output_type": "execute_result"
        }
      ],
      "source": [
        "df.head()"
      ]
    },
    {
      "cell_type": "code",
      "execution_count": null,
      "metadata": {
        "id": "HQAhg3ZOhpz2"
      },
      "outputs": [],
      "source": [
        "def normalize (x):\n",
        "    return ((x-min(x))/(max(x) - min(x)))\n",
        "    \n",
        "df = df.apply(normalize)\n"
      ]
    },
    {
      "cell_type": "code",
      "execution_count": null,
      "metadata": {
        "id": "F3wTfqYW2Op4",
        "outputId": "712c1f81-e55a-4baf-f0d7-88c55f042780"
      },
      "outputs": [
        {
          "data": {
            "text/html": [
              "<div>\n",
              "<style scoped>\n",
              "    .dataframe tbody tr th:only-of-type {\n",
              "        vertical-align: middle;\n",
              "    }\n",
              "\n",
              "    .dataframe tbody tr th {\n",
              "        vertical-align: top;\n",
              "    }\n",
              "\n",
              "    .dataframe thead th {\n",
              "        text-align: right;\n",
              "    }\n",
              "</style>\n",
              "<table border=\"1\" class=\"dataframe\">\n",
              "  <thead>\n",
              "    <tr style=\"text-align: right;\">\n",
              "      <th></th>\n",
              "      <th>price</th>\n",
              "      <th>area</th>\n",
              "      <th>bedrooms</th>\n",
              "      <th>bathrooms</th>\n",
              "      <th>stories</th>\n",
              "      <th>mainroad</th>\n",
              "      <th>guestroom</th>\n",
              "      <th>basement</th>\n",
              "      <th>hotwaterheating</th>\n",
              "      <th>airconditioning</th>\n",
              "      <th>parking</th>\n",
              "      <th>prefarea</th>\n",
              "      <th>semi-furnished</th>\n",
              "      <th>unfurnished</th>\n",
              "      <th>areaperbedroom</th>\n",
              "      <th>bbratio</th>\n",
              "    </tr>\n",
              "  </thead>\n",
              "  <tbody>\n",
              "    <tr>\n",
              "      <th>0</th>\n",
              "      <td>1.000000</td>\n",
              "      <td>0.396564</td>\n",
              "      <td>0.6</td>\n",
              "      <td>0.333333</td>\n",
              "      <td>0.666667</td>\n",
              "      <td>1.0</td>\n",
              "      <td>0.0</td>\n",
              "      <td>0.0</td>\n",
              "      <td>0.0</td>\n",
              "      <td>1.0</td>\n",
              "      <td>0.666667</td>\n",
              "      <td>1.0</td>\n",
              "      <td>0.0</td>\n",
              "      <td>0.0</td>\n",
              "      <td>0.237016</td>\n",
              "      <td>0.4</td>\n",
              "    </tr>\n",
              "    <tr>\n",
              "      <th>1</th>\n",
              "      <td>0.909091</td>\n",
              "      <td>0.502405</td>\n",
              "      <td>0.6</td>\n",
              "      <td>1.000000</td>\n",
              "      <td>1.000000</td>\n",
              "      <td>1.0</td>\n",
              "      <td>0.0</td>\n",
              "      <td>0.0</td>\n",
              "      <td>0.0</td>\n",
              "      <td>1.0</td>\n",
              "      <td>1.000000</td>\n",
              "      <td>0.0</td>\n",
              "      <td>0.0</td>\n",
              "      <td>0.0</td>\n",
              "      <td>0.298923</td>\n",
              "      <td>1.0</td>\n",
              "    </tr>\n",
              "    <tr>\n",
              "      <th>2</th>\n",
              "      <td>0.909091</td>\n",
              "      <td>0.571134</td>\n",
              "      <td>0.4</td>\n",
              "      <td>0.333333</td>\n",
              "      <td>0.333333</td>\n",
              "      <td>1.0</td>\n",
              "      <td>0.0</td>\n",
              "      <td>1.0</td>\n",
              "      <td>0.0</td>\n",
              "      <td>0.0</td>\n",
              "      <td>0.666667</td>\n",
              "      <td>1.0</td>\n",
              "      <td>1.0</td>\n",
              "      <td>0.0</td>\n",
              "      <td>0.472584</td>\n",
              "      <td>0.6</td>\n",
              "    </tr>\n",
              "    <tr>\n",
              "      <th>3</th>\n",
              "      <td>0.906061</td>\n",
              "      <td>0.402062</td>\n",
              "      <td>0.6</td>\n",
              "      <td>0.333333</td>\n",
              "      <td>0.333333</td>\n",
              "      <td>1.0</td>\n",
              "      <td>0.0</td>\n",
              "      <td>1.0</td>\n",
              "      <td>0.0</td>\n",
              "      <td>1.0</td>\n",
              "      <td>1.000000</td>\n",
              "      <td>1.0</td>\n",
              "      <td>0.0</td>\n",
              "      <td>0.0</td>\n",
              "      <td>0.240232</td>\n",
              "      <td>0.4</td>\n",
              "    </tr>\n",
              "    <tr>\n",
              "      <th>4</th>\n",
              "      <td>0.836364</td>\n",
              "      <td>0.396564</td>\n",
              "      <td>0.6</td>\n",
              "      <td>0.000000</td>\n",
              "      <td>0.333333</td>\n",
              "      <td>1.0</td>\n",
              "      <td>1.0</td>\n",
              "      <td>1.0</td>\n",
              "      <td>0.0</td>\n",
              "      <td>1.0</td>\n",
              "      <td>0.666667</td>\n",
              "      <td>0.0</td>\n",
              "      <td>0.0</td>\n",
              "      <td>0.0</td>\n",
              "      <td>0.237016</td>\n",
              "      <td>0.1</td>\n",
              "    </tr>\n",
              "  </tbody>\n",
              "</table>\n",
              "</div>"
            ],
            "text/plain": [
              "      price      area  bedrooms  bathrooms   stories  mainroad  guestroom  \\\n",
              "0  1.000000  0.396564       0.6   0.333333  0.666667       1.0        0.0   \n",
              "1  0.909091  0.502405       0.6   1.000000  1.000000       1.0        0.0   \n",
              "2  0.909091  0.571134       0.4   0.333333  0.333333       1.0        0.0   \n",
              "3  0.906061  0.402062       0.6   0.333333  0.333333       1.0        0.0   \n",
              "4  0.836364  0.396564       0.6   0.000000  0.333333       1.0        1.0   \n",
              "\n",
              "   basement  hotwaterheating  airconditioning   parking  prefarea  \\\n",
              "0       0.0              0.0              1.0  0.666667       1.0   \n",
              "1       0.0              0.0              1.0  1.000000       0.0   \n",
              "2       1.0              0.0              0.0  0.666667       1.0   \n",
              "3       1.0              0.0              1.0  1.000000       1.0   \n",
              "4       1.0              0.0              1.0  0.666667       0.0   \n",
              "\n",
              "   semi-furnished  unfurnished  areaperbedroom  bbratio  \n",
              "0             0.0          0.0        0.237016      0.4  \n",
              "1             0.0          0.0        0.298923      1.0  \n",
              "2             1.0          0.0        0.472584      0.6  \n",
              "3             0.0          0.0        0.240232      0.4  \n",
              "4             0.0          0.0        0.237016      0.1  "
            ]
          },
          "execution_count": 18,
          "metadata": {},
          "output_type": "execute_result"
        }
      ],
      "source": [
        "df.head()"
      ]
    },
    {
      "cell_type": "code",
      "execution_count": null,
      "metadata": {
        "id": "5Y5ufFGahpz3",
        "outputId": "89265488-53da-4e70-da0c-815e561b2bd0"
      },
      "outputs": [
        {
          "data": {
            "text/plain": [
              "Index(['price', 'area', 'bedrooms', 'bathrooms', 'stories', 'mainroad',\n",
              "       'guestroom', 'basement', 'hotwaterheating', 'airconditioning',\n",
              "       'parking', 'prefarea', 'semi-furnished', 'unfurnished',\n",
              "       'areaperbedroom', 'bbratio'],\n",
              "      dtype='object')"
            ]
          },
          "execution_count": 19,
          "metadata": {},
          "output_type": "execute_result"
        }
      ],
      "source": [
        "df.columns"
      ]
    },
    {
      "cell_type": "code",
      "execution_count": null,
      "metadata": {
        "id": "aZZBBFRAhpz3"
      },
      "outputs": [],
      "source": [
        "X = df[['area', 'bedrooms', 'bathrooms', 'stories', 'mainroad',\n",
        "       'guestroom', 'basement', 'hotwaterheating', 'airconditioning',\n",
        "       'parking', 'prefarea', 'semi-furnished', 'unfurnished',\n",
        "       'areaperbedroom', 'bbratio']]\n",
        "\n",
        "y = df['price']\n"
      ]
    },
    {
      "cell_type": "code",
      "execution_count": null,
      "metadata": {
        "id": "ZOadPskRhpz3"
      },
      "outputs": [],
      "source": [
        "from sklearn.model_selection import train_test_split\n",
        "X_train, X_test, y_train, y_test = train_test_split(X, y, test_size=0.3, random_state= 42)\n"
      ]
    },
    {
      "cell_type": "code",
      "execution_count": null,
      "metadata": {
        "id": "Al2OTipm2Op-",
        "outputId": "3114df29-3ba1-4aa6-9de6-4771ba14ff16"
      },
      "outputs": [
        {
          "name": "stdout",
          "output_type": "stream",
          "text": [
            "(381, 15)\n",
            "(164, 15)\n",
            "(381,)\n",
            "(164,)\n"
          ]
        }
      ],
      "source": [
        "print(X_train.shape)\n",
        "print(X_test.shape)\n",
        "print(y_train.shape)\n",
        "print(y_test.shape)"
      ]
    },
    {
      "cell_type": "code",
      "execution_count": null,
      "metadata": {
        "id": "cnjt9D-Xhpz4"
      },
      "outputs": [],
      "source": [
        "import statsmodels.api as sm\n",
        "X_train = sm.add_constant(X_train)\n",
        "lm_1 = sm.OLS(y_train,X_train).fit()\n"
      ]
    },
    {
      "cell_type": "code",
      "execution_count": null,
      "metadata": {
        "id": "36OuT608hpz4",
        "outputId": "67408fd7-bd9b-4782-bbbd-d57d159509c2"
      },
      "outputs": [
        {
          "name": "stdout",
          "output_type": "stream",
          "text": [
            "                            OLS Regression Results                            \n",
            "==============================================================================\n",
            "Dep. Variable:                  price   R-squared:                       0.696\n",
            "Model:                            OLS   Adj. R-squared:                  0.684\n",
            "Method:                 Least Squares   F-statistic:                     55.74\n",
            "Date:                Mon, 20 Feb 2023   Prob (F-statistic):           1.17e-84\n",
            "Time:                        20:38:39   Log-Likelihood:                 400.40\n",
            "No. Observations:                 381   AIC:                            -768.8\n",
            "Df Residuals:                     365   BIC:                            -705.7\n",
            "Df Model:                          15                                         \n",
            "Covariance Type:            nonrobust                                         \n",
            "===================================================================================\n",
            "                      coef    std err          t      P>|t|      [0.025      0.975]\n",
            "-----------------------------------------------------------------------------------\n",
            "const               0.1228      0.059      2.077      0.038       0.007       0.239\n",
            "area                0.4351      0.119      3.667      0.000       0.202       0.668\n",
            "bedrooms           -0.1140      0.091     -1.248      0.213      -0.294       0.066\n",
            "bathrooms           0.3893      0.122      3.203      0.001       0.150       0.628\n",
            "stories             0.1046      0.019      5.382      0.000       0.066       0.143\n",
            "mainroad            0.0334      0.014      2.379      0.018       0.006       0.061\n",
            "guestroom           0.0235      0.013      1.810      0.071      -0.002       0.049\n",
            "basement            0.0423      0.011      3.847      0.000       0.021       0.064\n",
            "hotwaterheating     0.0540      0.020      2.646      0.008       0.014       0.094\n",
            "airconditioning     0.0595      0.011      5.526      0.000       0.038       0.081\n",
            "parking             0.0776      0.017      4.489      0.000       0.044       0.112\n",
            "prefarea            0.0420      0.011      3.729      0.000       0.020       0.064\n",
            "semi-furnished     -0.0126      0.011     -1.123      0.262      -0.035       0.009\n",
            "unfurnished        -0.0362      0.012     -2.920      0.004      -0.061      -0.012\n",
            "areaperbedroom     -0.1466      0.138     -1.064      0.288      -0.418       0.124\n",
            "bbratio            -0.0899      0.102     -0.882      0.378      -0.290       0.111\n",
            "==============================================================================\n",
            "Omnibus:                       62.456   Durbin-Watson:                   1.885\n",
            "Prob(Omnibus):                  0.000   Jarque-Bera (JB):              147.890\n",
            "Skew:                           0.823   Prob(JB):                     7.69e-33\n",
            "Kurtosis:                       5.571   Cond. No.                         80.5\n",
            "==============================================================================\n",
            "\n",
            "Notes:\n",
            "[1] Standard Errors assume that the covariance matrix of the errors is correctly specified.\n"
          ]
        }
      ],
      "source": [
        "print(lm_1.summary())"
      ]
    },
    {
      "cell_type": "markdown",
      "metadata": {
        "id": "nWjQ0wwy2OqD"
      },
      "source": [
        "Need to keep pvalue within 0.05"
      ]
    },
    {
      "cell_type": "code",
      "execution_count": null,
      "metadata": {
        "id": "APZHiHJzhpz4"
      },
      "outputs": [],
      "source": [
        "import matplotlib.pyplot as plt\n",
        "import seaborn as sns\n",
        "%matplotlib inline"
      ]
    },
    {
      "cell_type": "code",
      "execution_count": null,
      "metadata": {
        "id": "VxidSX_6hpz5",
        "outputId": "4a1ff90b-3ce9-4144-8ef4-31d22c0fb0c7"
      },
      "outputs": [
        {
          "data": {
            "text/plain": [
              "<AxesSubplot:>"
            ]
          },
          "execution_count": 26,
          "metadata": {},
          "output_type": "execute_result"
        },
        {
          "data": {
            "image/png": "[encoded data removed]",
            "text/plain": [
              "<Figure size 1152x720 with 2 Axes>"
            ]
          },
          "metadata": {
            "needs_background": "light"
          },
          "output_type": "display_data"
        }
      ],
      "source": [
        "plt.figure(figsize = (16,10))     \n",
        "sns.heatmap(df.corr(),annot=True)"
      ]
    },
    {
      "cell_type": "code",
      "execution_count": null,
      "metadata": {
        "id": "GTSHuMJuhpz5",
        "outputId": "8060fb26-2ae7-4bd9-c573-0df3c2113ac6"
      },
      "outputs": [
        {
          "data": {
            "text/html": [
              "<div>\n",
              "<style scoped>\n",
              "    .dataframe tbody tr th:only-of-type {\n",
              "        vertical-align: middle;\n",
              "    }\n",
              "\n",
              "    .dataframe tbody tr th {\n",
              "        vertical-align: top;\n",
              "    }\n",
              "\n",
              "    .dataframe thead th {\n",
              "        text-align: right;\n",
              "    }\n",
              "</style>\n",
              "<table border=\"1\" class=\"dataframe\">\n",
              "  <thead>\n",
              "    <tr style=\"text-align: right;\">\n",
              "      <th></th>\n",
              "      <th>variables</th>\n",
              "      <th>VIF</th>\n",
              "    </tr>\n",
              "  </thead>\n",
              "  <tbody>\n",
              "    <tr>\n",
              "      <th>13</th>\n",
              "      <td>areaperbedroom</td>\n",
              "      <td>68.707105</td>\n",
              "    </tr>\n",
              "    <tr>\n",
              "      <th>0</th>\n",
              "      <td>area</td>\n",
              "      <td>57.516048</td>\n",
              "    </tr>\n",
              "    <tr>\n",
              "      <th>14</th>\n",
              "      <td>bbratio</td>\n",
              "      <td>29.249998</td>\n",
              "    </tr>\n",
              "    <tr>\n",
              "      <th>2</th>\n",
              "      <td>bathrooms</td>\n",
              "      <td>11.106354</td>\n",
              "    </tr>\n",
              "    <tr>\n",
              "      <th>1</th>\n",
              "      <td>bedrooms</td>\n",
              "      <td>10.683404</td>\n",
              "    </tr>\n",
              "    <tr>\n",
              "      <th>4</th>\n",
              "      <td>mainroad</td>\n",
              "      <td>7.910522</td>\n",
              "    </tr>\n",
              "    <tr>\n",
              "      <th>3</th>\n",
              "      <td>stories</td>\n",
              "      <td>2.805901</td>\n",
              "    </tr>\n",
              "    <tr>\n",
              "      <th>11</th>\n",
              "      <td>semi-furnished</td>\n",
              "      <td>2.614252</td>\n",
              "    </tr>\n",
              "    <tr>\n",
              "      <th>12</th>\n",
              "      <td>unfurnished</td>\n",
              "      <td>2.382862</td>\n",
              "    </tr>\n",
              "    <tr>\n",
              "      <th>6</th>\n",
              "      <td>basement</td>\n",
              "      <td>2.045854</td>\n",
              "    </tr>\n",
              "    <tr>\n",
              "      <th>9</th>\n",
              "      <td>parking</td>\n",
              "      <td>2.007955</td>\n",
              "    </tr>\n",
              "    <tr>\n",
              "      <th>8</th>\n",
              "      <td>airconditioning</td>\n",
              "      <td>1.768615</td>\n",
              "    </tr>\n",
              "    <tr>\n",
              "      <th>10</th>\n",
              "      <td>prefarea</td>\n",
              "      <td>1.509807</td>\n",
              "    </tr>\n",
              "    <tr>\n",
              "      <th>5</th>\n",
              "      <td>guestroom</td>\n",
              "      <td>1.492428</td>\n",
              "    </tr>\n",
              "    <tr>\n",
              "      <th>7</th>\n",
              "      <td>hotwaterheating</td>\n",
              "      <td>1.097694</td>\n",
              "    </tr>\n",
              "  </tbody>\n",
              "</table>\n",
              "</div>"
            ],
            "text/plain": [
              "          variables        VIF\n",
              "13   areaperbedroom  68.707105\n",
              "0              area  57.516048\n",
              "14          bbratio  29.249998\n",
              "2         bathrooms  11.106354\n",
              "1          bedrooms  10.683404\n",
              "4          mainroad   7.910522\n",
              "3           stories   2.805901\n",
              "11   semi-furnished   2.614252\n",
              "12      unfurnished   2.382862\n",
              "6          basement   2.045854\n",
              "9           parking   2.007955\n",
              "8   airconditioning   1.768615\n",
              "10         prefarea   1.509807\n",
              "5         guestroom   1.492428\n",
              "7   hotwaterheating   1.097694"
            ]
          },
          "execution_count": 27,
          "metadata": {},
          "output_type": "execute_result"
        }
      ],
      "source": [
        "from statsmodels.stats.outliers_influence import variance_inflation_factor\n",
        "\n",
        "def vif_scores(input_data):\n",
        "    # code here\n",
        "    vif=pd.DataFrame()\n",
        "    vif[\"variables\"]=input_data.columns\n",
        "    vif['VIF']=[variance_inflation_factor(input_data.values,i) for i in range(input_data.shape[1])]\n",
        "    return vif.sort_values(by=\"VIF\", ascending=False)\n",
        "\n",
        "vif_scores(X)\n",
        "\n"
      ]
    },
    {
      "cell_type": "code",
      "execution_count": null,
      "metadata": {
        "id": "vG8mNShihpz6",
        "outputId": "b402b4e9-27c4-4878-b5d1-3e0f640c7e28"
      },
      "outputs": [
        {
          "name": "stderr",
          "output_type": "stream",
          "text": [
            "C:\\Users\\admin\\AppData\\Local\\Temp\\ipykernel_5300\\824529792.py:2: FutureWarning: In a future version of pandas all arguments of DataFrame.drop except for the argument 'labels' will be keyword-only.\n",
            "  vif_scores(X.drop('bbratio',1))\n"
          ]
        },
        {
          "data": {
            "text/html": [
              "<div>\n",
              "<style scoped>\n",
              "    .dataframe tbody tr th:only-of-type {\n",
              "        vertical-align: middle;\n",
              "    }\n",
              "\n",
              "    .dataframe tbody tr th {\n",
              "        vertical-align: top;\n",
              "    }\n",
              "\n",
              "    .dataframe thead th {\n",
              "        text-align: right;\n",
              "    }\n",
              "</style>\n",
              "<table border=\"1\" class=\"dataframe\">\n",
              "  <thead>\n",
              "    <tr style=\"text-align: right;\">\n",
              "      <th></th>\n",
              "      <th>variables</th>\n",
              "      <th>VIF</th>\n",
              "    </tr>\n",
              "  </thead>\n",
              "  <tbody>\n",
              "    <tr>\n",
              "      <th>0</th>\n",
              "      <td>area</td>\n",
              "      <td>20.716025</td>\n",
              "    </tr>\n",
              "    <tr>\n",
              "      <th>13</th>\n",
              "      <td>areaperbedroom</td>\n",
              "      <td>18.437262</td>\n",
              "    </tr>\n",
              "    <tr>\n",
              "      <th>1</th>\n",
              "      <td>bedrooms</td>\n",
              "      <td>10.026456</td>\n",
              "    </tr>\n",
              "    <tr>\n",
              "      <th>4</th>\n",
              "      <td>mainroad</td>\n",
              "      <td>7.459237</td>\n",
              "    </tr>\n",
              "    <tr>\n",
              "      <th>3</th>\n",
              "      <td>stories</td>\n",
              "      <td>2.783201</td>\n",
              "    </tr>\n",
              "    <tr>\n",
              "      <th>11</th>\n",
              "      <td>semi-furnished</td>\n",
              "      <td>2.484125</td>\n",
              "    </tr>\n",
              "    <tr>\n",
              "      <th>12</th>\n",
              "      <td>unfurnished</td>\n",
              "      <td>2.204838</td>\n",
              "    </tr>\n",
              "    <tr>\n",
              "      <th>6</th>\n",
              "      <td>basement</td>\n",
              "      <td>2.027730</td>\n",
              "    </tr>\n",
              "    <tr>\n",
              "      <th>9</th>\n",
              "      <td>parking</td>\n",
              "      <td>2.004052</td>\n",
              "    </tr>\n",
              "    <tr>\n",
              "      <th>8</th>\n",
              "      <td>airconditioning</td>\n",
              "      <td>1.768236</td>\n",
              "    </tr>\n",
              "    <tr>\n",
              "      <th>2</th>\n",
              "      <td>bathrooms</td>\n",
              "      <td>1.712298</td>\n",
              "    </tr>\n",
              "    <tr>\n",
              "      <th>10</th>\n",
              "      <td>prefarea</td>\n",
              "      <td>1.509389</td>\n",
              "    </tr>\n",
              "    <tr>\n",
              "      <th>5</th>\n",
              "      <td>guestroom</td>\n",
              "      <td>1.478756</td>\n",
              "    </tr>\n",
              "    <tr>\n",
              "      <th>7</th>\n",
              "      <td>hotwaterheating</td>\n",
              "      <td>1.093564</td>\n",
              "    </tr>\n",
              "  </tbody>\n",
              "</table>\n",
              "</div>"
            ],
            "text/plain": [
              "          variables        VIF\n",
              "0              area  20.716025\n",
              "13   areaperbedroom  18.437262\n",
              "1          bedrooms  10.026456\n",
              "4          mainroad   7.459237\n",
              "3           stories   2.783201\n",
              "11   semi-furnished   2.484125\n",
              "12      unfurnished   2.204838\n",
              "6          basement   2.027730\n",
              "9           parking   2.004052\n",
              "8   airconditioning   1.768236\n",
              "2         bathrooms   1.712298\n",
              "10         prefarea   1.509389\n",
              "5         guestroom   1.478756\n",
              "7   hotwaterheating   1.093564"
            ]
          },
          "execution_count": 28,
          "metadata": {},
          "output_type": "execute_result"
        }
      ],
      "source": [
        "vif_scores(X.drop('bbratio',1))"
      ]
    },
    {
      "cell_type": "markdown",
      "metadata": {
        "id": "f_OyDsyEhpz6"
      },
      "source": [
        "As you can see the vif scores are still high. Lets drop bedroom also as input feature and again check vif scores.\n"
      ]
    },
    {
      "cell_type": "code",
      "execution_count": null,
      "metadata": {
        "id": "LQlfAUWlhpz6",
        "outputId": "37f8f6a7-50a1-48af-9bb1-5307397ec013"
      },
      "outputs": [
        {
          "name": "stderr",
          "output_type": "stream",
          "text": [
            "C:\\Users\\admin\\AppData\\Local\\Temp\\ipykernel_5300\\3506128967.py:2: FutureWarning: In a future version of pandas all arguments of DataFrame.drop except for the argument 'labels' will be keyword-only.\n",
            "  vif_scores(X.drop(['bbratio','bedrooms'],1))\n"
          ]
        },
        {
          "data": {
            "text/html": [
              "<div>\n",
              "<style scoped>\n",
              "    .dataframe tbody tr th:only-of-type {\n",
              "        vertical-align: middle;\n",
              "    }\n",
              "\n",
              "    .dataframe tbody tr th {\n",
              "        vertical-align: top;\n",
              "    }\n",
              "\n",
              "    .dataframe thead th {\n",
              "        text-align: right;\n",
              "    }\n",
              "</style>\n",
              "<table border=\"1\" class=\"dataframe\">\n",
              "  <thead>\n",
              "    <tr style=\"text-align: right;\">\n",
              "      <th></th>\n",
              "      <th>variables</th>\n",
              "      <th>VIF</th>\n",
              "    </tr>\n",
              "  </thead>\n",
              "  <tbody>\n",
              "    <tr>\n",
              "      <th>0</th>\n",
              "      <td>area</td>\n",
              "      <td>14.978857</td>\n",
              "    </tr>\n",
              "    <tr>\n",
              "      <th>12</th>\n",
              "      <td>areaperbedroom</td>\n",
              "      <td>13.881473</td>\n",
              "    </tr>\n",
              "    <tr>\n",
              "      <th>3</th>\n",
              "      <td>mainroad</td>\n",
              "      <td>6.099134</td>\n",
              "    </tr>\n",
              "    <tr>\n",
              "      <th>2</th>\n",
              "      <td>stories</td>\n",
              "      <td>2.559555</td>\n",
              "    </tr>\n",
              "    <tr>\n",
              "      <th>10</th>\n",
              "      <td>semi-furnished</td>\n",
              "      <td>2.037729</td>\n",
              "    </tr>\n",
              "    <tr>\n",
              "      <th>8</th>\n",
              "      <td>parking</td>\n",
              "      <td>1.999982</td>\n",
              "    </tr>\n",
              "    <tr>\n",
              "      <th>5</th>\n",
              "      <td>basement</td>\n",
              "      <td>1.901473</td>\n",
              "    </tr>\n",
              "    <tr>\n",
              "      <th>7</th>\n",
              "      <td>airconditioning</td>\n",
              "      <td>1.762488</td>\n",
              "    </tr>\n",
              "    <tr>\n",
              "      <th>11</th>\n",
              "      <td>unfurnished</td>\n",
              "      <td>1.722278</td>\n",
              "    </tr>\n",
              "    <tr>\n",
              "      <th>1</th>\n",
              "      <td>bathrooms</td>\n",
              "      <td>1.692180</td>\n",
              "    </tr>\n",
              "    <tr>\n",
              "      <th>9</th>\n",
              "      <td>prefarea</td>\n",
              "      <td>1.504964</td>\n",
              "    </tr>\n",
              "    <tr>\n",
              "      <th>4</th>\n",
              "      <td>guestroom</td>\n",
              "      <td>1.475441</td>\n",
              "    </tr>\n",
              "    <tr>\n",
              "      <th>6</th>\n",
              "      <td>hotwaterheating</td>\n",
              "      <td>1.087115</td>\n",
              "    </tr>\n",
              "  </tbody>\n",
              "</table>\n",
              "</div>"
            ],
            "text/plain": [
              "          variables        VIF\n",
              "0              area  14.978857\n",
              "12   areaperbedroom  13.881473\n",
              "3          mainroad   6.099134\n",
              "2           stories   2.559555\n",
              "10   semi-furnished   2.037729\n",
              "8           parking   1.999982\n",
              "5          basement   1.901473\n",
              "7   airconditioning   1.762488\n",
              "11      unfurnished   1.722278\n",
              "1         bathrooms   1.692180\n",
              "9          prefarea   1.504964\n",
              "4         guestroom   1.475441\n",
              "6   hotwaterheating   1.087115"
            ]
          },
          "execution_count": 29,
          "metadata": {},
          "output_type": "execute_result"
        }
      ],
      "source": [
        "vif_scores(X.drop(['bbratio','bedrooms'],1))"
      ]
    },
    {
      "cell_type": "markdown",
      "metadata": {
        "id": "XlAxOyt2hpz7"
      },
      "source": [
        "As you can see the vif scores are still high. Lets drop areaperbedroom which we calculated as input feature and again check vif scores.\n",
        "\n",
        "Its very natural that both area, bedroom and areaperbedroom will be highly correlated with each other as areaperbedroom is calculated out of area and bedroom.\n",
        "\n"
      ]
    },
    {
      "cell_type": "code",
      "execution_count": null,
      "metadata": {
        "id": "0_R7wsclhpz7",
        "outputId": "b5cd647e-f8ac-4e1e-9394-5b7b429b5c3b"
      },
      "outputs": [
        {
          "name": "stderr",
          "output_type": "stream",
          "text": [
            "C:\\Users\\admin\\AppData\\Local\\Temp\\ipykernel_5300\\3744430889.py:2: FutureWarning: In a future version of pandas all arguments of DataFrame.drop except for the argument 'labels' will be keyword-only.\n",
            "  vif_scores(X.drop(['bbratio','bedrooms','areaperbedroom'],1))\n"
          ]
        },
        {
          "data": {
            "text/html": [
              "<div>\n",
              "<style scoped>\n",
              "    .dataframe tbody tr th:only-of-type {\n",
              "        vertical-align: middle;\n",
              "    }\n",
              "\n",
              "    .dataframe tbody tr th {\n",
              "        vertical-align: top;\n",
              "    }\n",
              "\n",
              "    .dataframe thead th {\n",
              "        text-align: right;\n",
              "    }\n",
              "</style>\n",
              "<table border=\"1\" class=\"dataframe\">\n",
              "  <thead>\n",
              "    <tr style=\"text-align: right;\">\n",
              "      <th></th>\n",
              "      <th>variables</th>\n",
              "      <th>VIF</th>\n",
              "    </tr>\n",
              "  </thead>\n",
              "  <tbody>\n",
              "    <tr>\n",
              "      <th>3</th>\n",
              "      <td>mainroad</td>\n",
              "      <td>5.513523</td>\n",
              "    </tr>\n",
              "    <tr>\n",
              "      <th>0</th>\n",
              "      <td>area</td>\n",
              "      <td>4.427217</td>\n",
              "    </tr>\n",
              "    <tr>\n",
              "      <th>2</th>\n",
              "      <td>stories</td>\n",
              "      <td>2.323144</td>\n",
              "    </tr>\n",
              "    <tr>\n",
              "      <th>10</th>\n",
              "      <td>semi-furnished</td>\n",
              "      <td>2.004738</td>\n",
              "    </tr>\n",
              "    <tr>\n",
              "      <th>8</th>\n",
              "      <td>parking</td>\n",
              "      <td>1.987943</td>\n",
              "    </tr>\n",
              "    <tr>\n",
              "      <th>5</th>\n",
              "      <td>basement</td>\n",
              "      <td>1.896942</td>\n",
              "    </tr>\n",
              "    <tr>\n",
              "      <th>7</th>\n",
              "      <td>airconditioning</td>\n",
              "      <td>1.760737</td>\n",
              "    </tr>\n",
              "    <tr>\n",
              "      <th>11</th>\n",
              "      <td>unfurnished</td>\n",
              "      <td>1.652372</td>\n",
              "    </tr>\n",
              "    <tr>\n",
              "      <th>1</th>\n",
              "      <td>bathrooms</td>\n",
              "      <td>1.619363</td>\n",
              "    </tr>\n",
              "    <tr>\n",
              "      <th>9</th>\n",
              "      <td>prefarea</td>\n",
              "      <td>1.497335</td>\n",
              "    </tr>\n",
              "    <tr>\n",
              "      <th>4</th>\n",
              "      <td>guestroom</td>\n",
              "      <td>1.474326</td>\n",
              "    </tr>\n",
              "    <tr>\n",
              "      <th>6</th>\n",
              "      <td>hotwaterheating</td>\n",
              "      <td>1.086273</td>\n",
              "    </tr>\n",
              "  </tbody>\n",
              "</table>\n",
              "</div>"
            ],
            "text/plain": [
              "          variables       VIF\n",
              "3          mainroad  5.513523\n",
              "0              area  4.427217\n",
              "2           stories  2.323144\n",
              "10   semi-furnished  2.004738\n",
              "8           parking  1.987943\n",
              "5          basement  1.896942\n",
              "7   airconditioning  1.760737\n",
              "11      unfurnished  1.652372\n",
              "1         bathrooms  1.619363\n",
              "9          prefarea  1.497335\n",
              "4         guestroom  1.474326\n",
              "6   hotwaterheating  1.086273"
            ]
          },
          "execution_count": 30,
          "metadata": {},
          "output_type": "execute_result"
        }
      ],
      "source": [
        "vif_scores(X.drop(['bbratio','bedrooms','areaperbedroom'],1))"
      ]
    },
    {
      "cell_type": "code",
      "execution_count": null,
      "metadata": {
        "id": "WRVdCZL0hpz7",
        "outputId": "29bdace4-eb64-4f62-e159-9f8726134788"
      },
      "outputs": [
        {
          "name": "stderr",
          "output_type": "stream",
          "text": [
            "C:\\Users\\admin\\AppData\\Local\\Temp\\ipykernel_5300\\2299088664.py:3: FutureWarning: In a future version of pandas all arguments of DataFrame.drop except for the argument 'labels' will be keyword-only.\n",
            "  vif_scores(X.drop(['bbratio','bedrooms','areaperbedroom','semi-furnished'],1))\n"
          ]
        },
        {
          "data": {
            "text/html": [
              "<div>\n",
              "<style scoped>\n",
              "    .dataframe tbody tr th:only-of-type {\n",
              "        vertical-align: middle;\n",
              "    }\n",
              "\n",
              "    .dataframe tbody tr th {\n",
              "        vertical-align: top;\n",
              "    }\n",
              "\n",
              "    .dataframe thead th {\n",
              "        text-align: right;\n",
              "    }\n",
              "</style>\n",
              "<table border=\"1\" class=\"dataframe\">\n",
              "  <thead>\n",
              "    <tr style=\"text-align: right;\">\n",
              "      <th></th>\n",
              "      <th>variables</th>\n",
              "      <th>VIF</th>\n",
              "    </tr>\n",
              "  </thead>\n",
              "  <tbody>\n",
              "    <tr>\n",
              "      <th>3</th>\n",
              "      <td>mainroad</td>\n",
              "      <td>4.845386</td>\n",
              "    </tr>\n",
              "    <tr>\n",
              "      <th>0</th>\n",
              "      <td>area</td>\n",
              "      <td>4.362200</td>\n",
              "    </tr>\n",
              "    <tr>\n",
              "      <th>2</th>\n",
              "      <td>stories</td>\n",
              "      <td>2.301304</td>\n",
              "    </tr>\n",
              "    <tr>\n",
              "      <th>8</th>\n",
              "      <td>parking</td>\n",
              "      <td>1.987700</td>\n",
              "    </tr>\n",
              "    <tr>\n",
              "      <th>5</th>\n",
              "      <td>basement</td>\n",
              "      <td>1.860222</td>\n",
              "    </tr>\n",
              "    <tr>\n",
              "      <th>7</th>\n",
              "      <td>airconditioning</td>\n",
              "      <td>1.753933</td>\n",
              "    </tr>\n",
              "    <tr>\n",
              "      <th>1</th>\n",
              "      <td>bathrooms</td>\n",
              "      <td>1.619286</td>\n",
              "    </tr>\n",
              "    <tr>\n",
              "      <th>9</th>\n",
              "      <td>prefarea</td>\n",
              "      <td>1.490106</td>\n",
              "    </tr>\n",
              "    <tr>\n",
              "      <th>4</th>\n",
              "      <td>guestroom</td>\n",
              "      <td>1.470984</td>\n",
              "    </tr>\n",
              "    <tr>\n",
              "      <th>10</th>\n",
              "      <td>unfurnished</td>\n",
              "      <td>1.341568</td>\n",
              "    </tr>\n",
              "    <tr>\n",
              "      <th>6</th>\n",
              "      <td>hotwaterheating</td>\n",
              "      <td>1.081743</td>\n",
              "    </tr>\n",
              "  </tbody>\n",
              "</table>\n",
              "</div>"
            ],
            "text/plain": [
              "          variables       VIF\n",
              "3          mainroad  4.845386\n",
              "0              area  4.362200\n",
              "2           stories  2.301304\n",
              "8           parking  1.987700\n",
              "5          basement  1.860222\n",
              "7   airconditioning  1.753933\n",
              "1         bathrooms  1.619286\n",
              "9          prefarea  1.490106\n",
              "4         guestroom  1.470984\n",
              "10      unfurnished  1.341568\n",
              "6   hotwaterheating  1.081743"
            ]
          },
          "execution_count": 31,
          "metadata": {},
          "output_type": "execute_result"
        }
      ],
      "source": [
        "vif_scores(X.drop(['bbratio','bedrooms','areaperbedroom','semi-furnished'],1))"
      ]
    },
    {
      "cell_type": "code",
      "execution_count": null,
      "metadata": {
        "id": "XcUOo3JHhpz8",
        "outputId": "be13ba50-4836-4dc8-b4bf-190acacdb5a3"
      },
      "outputs": [
        {
          "name": "stderr",
          "output_type": "stream",
          "text": [
            "C:\\Users\\admin\\AppData\\Local\\Temp\\ipykernel_5300\\2820508186.py:3: FutureWarning: In a future version of pandas all arguments of DataFrame.drop except for the argument 'labels' will be keyword-only.\n",
            "  vif_scores(X.drop(['bbratio','bedrooms','areaperbedroom','mainroad','basement'],1))\n"
          ]
        },
        {
          "data": {
            "text/html": [
              "<div>\n",
              "<style scoped>\n",
              "    .dataframe tbody tr th:only-of-type {\n",
              "        vertical-align: middle;\n",
              "    }\n",
              "\n",
              "    .dataframe tbody tr th {\n",
              "        vertical-align: top;\n",
              "    }\n",
              "\n",
              "    .dataframe thead th {\n",
              "        text-align: right;\n",
              "    }\n",
              "</style>\n",
              "<table border=\"1\" class=\"dataframe\">\n",
              "  <thead>\n",
              "    <tr style=\"text-align: right;\">\n",
              "      <th></th>\n",
              "      <th>variables</th>\n",
              "      <th>VIF</th>\n",
              "    </tr>\n",
              "  </thead>\n",
              "  <tbody>\n",
              "    <tr>\n",
              "      <th>0</th>\n",
              "      <td>area</td>\n",
              "      <td>3.581339</td>\n",
              "    </tr>\n",
              "    <tr>\n",
              "      <th>2</th>\n",
              "      <td>stories</td>\n",
              "      <td>2.086055</td>\n",
              "    </tr>\n",
              "    <tr>\n",
              "      <th>6</th>\n",
              "      <td>parking</td>\n",
              "      <td>1.930839</td>\n",
              "    </tr>\n",
              "    <tr>\n",
              "      <th>5</th>\n",
              "      <td>airconditioning</td>\n",
              "      <td>1.750905</td>\n",
              "    </tr>\n",
              "    <tr>\n",
              "      <th>8</th>\n",
              "      <td>semi-furnished</td>\n",
              "      <td>1.681399</td>\n",
              "    </tr>\n",
              "    <tr>\n",
              "      <th>1</th>\n",
              "      <td>bathrooms</td>\n",
              "      <td>1.585659</td>\n",
              "    </tr>\n",
              "    <tr>\n",
              "      <th>7</th>\n",
              "      <td>prefarea</td>\n",
              "      <td>1.410651</td>\n",
              "    </tr>\n",
              "    <tr>\n",
              "      <th>9</th>\n",
              "      <td>unfurnished</td>\n",
              "      <td>1.398869</td>\n",
              "    </tr>\n",
              "    <tr>\n",
              "      <th>3</th>\n",
              "      <td>guestroom</td>\n",
              "      <td>1.280357</td>\n",
              "    </tr>\n",
              "    <tr>\n",
              "      <th>4</th>\n",
              "      <td>hotwaterheating</td>\n",
              "      <td>1.083603</td>\n",
              "    </tr>\n",
              "  </tbody>\n",
              "</table>\n",
              "</div>"
            ],
            "text/plain": [
              "         variables       VIF\n",
              "0             area  3.581339\n",
              "2          stories  2.086055\n",
              "6          parking  1.930839\n",
              "5  airconditioning  1.750905\n",
              "8   semi-furnished  1.681399\n",
              "1        bathrooms  1.585659\n",
              "7         prefarea  1.410651\n",
              "9      unfurnished  1.398869\n",
              "3        guestroom  1.280357\n",
              "4  hotwaterheating  1.083603"
            ]
          },
          "execution_count": 32,
          "metadata": {},
          "output_type": "execute_result"
        }
      ],
      "source": [
        "vif_scores(X.drop(['bbratio','bedrooms','areaperbedroom','mainroad','basement'],1))\n"
      ]
    },
    {
      "cell_type": "code",
      "execution_count": null,
      "metadata": {
        "id": "zxmVBFmKhpz8"
      },
      "outputs": [],
      "source": [
        "X = df[['area',  'bathrooms', 'stories',\n",
        "       'guestroom', 'hotwaterheating', 'airconditioning',\n",
        "       'parking', 'prefarea', 'unfurnished']]\n",
        "\n",
        "y = df['price']\n"
      ]
    },
    {
      "cell_type": "code",
      "execution_count": null,
      "metadata": {
        "id": "8d2AxMuehpz8",
        "outputId": "abce6ed4-3cd9-4604-d5ff-e0d196c68b95"
      },
      "outputs": [
        {
          "name": "stdout",
          "output_type": "stream",
          "text": [
            "Train Data: (381, 9),(381,)\n",
            "Test Data: (164, 9),(164,)\n"
          ]
        }
      ],
      "source": [
        "X_train, X_test, y_train, y_test = train_test_split(X, y, test_size=0.3, random_state= 42)\n",
        "print(f\"Train Data: {X_train.shape},{y_train.shape}\")\n",
        "print(f\"Test Data: {X_test.shape},{y_test.shape}\")\n"
      ]
    },
    {
      "cell_type": "markdown",
      "metadata": {
        "id": "L8N1a0lihpz8"
      },
      "source": [
        "Building our linear model again"
      ]
    },
    {
      "cell_type": "code",
      "execution_count": null,
      "metadata": {
        "id": "oMqPBgF5hpz9"
      },
      "outputs": [],
      "source": [
        "X_train = sm.add_constant(X_train)\n",
        "X_test = sm.add_constant(X_test)\n",
        "lm_2 =  sm.OLS(y_train,X_train).fit()\n"
      ]
    },
    {
      "cell_type": "code",
      "execution_count": null,
      "metadata": {
        "id": "mTCnmIA0hpz9",
        "outputId": "c7c2f46a-e52c-4979-98c4-0ac79be67c10"
      },
      "outputs": [
        {
          "name": "stdout",
          "output_type": "stream",
          "text": [
            "                            OLS Regression Results                            \n",
            "==============================================================================\n",
            "Dep. Variable:                  price   R-squared:                       0.673\n",
            "Model:                            OLS   Adj. R-squared:                  0.665\n",
            "Method:                 Least Squares   F-statistic:                     84.88\n",
            "Date:                Mon, 20 Feb 2023   Prob (F-statistic):           1.65e-84\n",
            "Time:                        20:38:48   Log-Likelihood:                 386.50\n",
            "No. Observations:                 381   AIC:                            -753.0\n",
            "Df Residuals:                     371   BIC:                            -713.6\n",
            "Df Model:                           9                                         \n",
            "Covariance Type:            nonrobust                                         \n",
            "===================================================================================\n",
            "                      coef    std err          t      P>|t|      [0.025      0.975]\n",
            "-----------------------------------------------------------------------------------\n",
            "const               0.0765      0.011      7.163      0.000       0.056       0.098\n",
            "area                0.3281      0.034      9.693      0.000       0.262       0.395\n",
            "bathrooms           0.3096      0.031      9.883      0.000       0.248       0.371\n",
            "stories             0.0969      0.018      5.487      0.000       0.062       0.132\n",
            "guestroom           0.0430      0.012      3.527      0.000       0.019       0.067\n",
            "hotwaterheating     0.0544      0.021      2.601      0.010       0.013       0.096\n",
            "airconditioning     0.0662      0.011      6.047      0.000       0.045       0.088\n",
            "parking             0.0828      0.018      4.685      0.000       0.048       0.118\n",
            "prefarea            0.0572      0.011      5.111      0.000       0.035       0.079\n",
            "unfurnished        -0.0333      0.010     -3.285      0.001      -0.053      -0.013\n",
            "==============================================================================\n",
            "Omnibus:                       71.200   Durbin-Watson:                   1.926\n",
            "Prob(Omnibus):                  0.000   Jarque-Bera (JB):              170.862\n",
            "Skew:                           0.927   Prob(JB):                     7.90e-38\n",
            "Kurtosis:                       5.706   Cond. No.                         9.72\n",
            "==============================================================================\n",
            "\n",
            "Notes:\n",
            "[1] Standard Errors assume that the covariance matrix of the errors is correctly specified.\n"
          ]
        }
      ],
      "source": [
        "print(lm_2.summary())\n"
      ]
    },
    {
      "cell_type": "markdown",
      "metadata": {
        "id": "wuKtgB_Y2OqY"
      },
      "source": [
        "The main focus is to keep pvalue is less thn 0.05"
      ]
    },
    {
      "cell_type": "code",
      "execution_count": null,
      "metadata": {
        "id": "QJ7peOK1hpz9",
        "outputId": "8048fb26-e77a-42dc-9b15-96ae2c199ca1"
      },
      "outputs": [
        {
          "data": {
            "text/plain": [
              "316    0.302090\n",
              "77     0.476953\n",
              "360    0.130398\n",
              "90     0.250494\n",
              "493    0.128594\n",
              "         ...   \n",
              "395    0.147035\n",
              "425    0.166300\n",
              "195    0.432600\n",
              "452    0.329693\n",
              "154    0.312266\n",
              "Length: 164, dtype: float64"
            ]
          },
          "execution_count": 37,
          "metadata": {},
          "output_type": "execute_result"
        }
      ],
      "source": [
        "y_pred =lm_2.predict(X_test) \n",
        "y_pred "
      ]
    },
    {
      "cell_type": "code",
      "execution_count": null,
      "metadata": {
        "id": "O7RV7Xzh2Oqc",
        "outputId": "164277b7-1ad0-415b-c53a-1c02cf4208db"
      },
      "outputs": [
        {
          "data": {
            "text/plain": [
              "(164, 10)"
            ]
          },
          "execution_count": 38,
          "metadata": {},
          "output_type": "execute_result"
        }
      ],
      "source": [
        "X_test.shape"
      ]
    },
    {
      "cell_type": "code",
      "execution_count": null,
      "metadata": {
        "id": "LQ8tI-L3hpz9",
        "outputId": "20684b7e-5d9f-4e58-fe90-91879a605502"
      },
      "outputs": [
        {
          "data": {
            "image/png": "[encoded data removed]",
            "text/plain": [
              "<Figure size 432x288 with 1 Axes>"
            ]
          },
          "metadata": {
            "needs_background": "light"
          },
          "output_type": "display_data"
        }
      ],
      "source": [
        "c = [i for i in range(1,165,1)]\n",
        "fig = plt.figure()\n",
        "\n",
        "plt.plot(c,y_test, color='blue', linewidth=2.5, linestyle='-') \n",
        "plt.plot(c,y_pred, color='red', linewidth=2.5, linestyle='-') \n",
        "\n",
        "plt.title('Actual vs Predicted') \n",
        "plt.xlabel('Index')\n",
        "plt.ylabel('Housing Price')\n",
        "                 \n",
        "                      \n",
        "plt.show()"
      ]
    },
    {
      "cell_type": "code",
      "execution_count": null,
      "metadata": {
        "id": "itHgHNwChpz9",
        "outputId": "c9d5f1c2-0479-4df6-9a81-647d8a394fa4"
      },
      "outputs": [
        {
          "data": {
            "image/png": "[encoded data removed]",
            "text/plain": [
              "<Figure size 432x288 with 1 Axes>"
            ]
          },
          "metadata": {
            "needs_background": "light"
          },
          "output_type": "display_data"
        }
      ],
      "source": [
        "fig = plt.figure()\n",
        "\n",
        "plt.scatter(y_test,y_pred)\n",
        "\n",
        "plt.xlabel('y_test')\n",
        "plt.ylabel('y_pred')    \n",
        "plt.title('y_test vs y_pred')\n",
        "                       \n",
        "plt.show()"
      ]
    },
    {
      "cell_type": "code",
      "execution_count": null,
      "metadata": {
        "id": "3dxgn-W-hpz-",
        "outputId": "51ae7f65-5f51-4c93-8efd-1b34149f40d8"
      },
      "outputs": [
        {
          "data": {
            "image/png": "[encoded data removed]",
            "text/plain": [
              "<Figure size 432x288 with 1 Axes>"
            ]
          },
          "metadata": {
            "needs_background": "light"
          },
          "output_type": "display_data"
        }
      ],
      "source": [
        "fig = plt.figure()\n",
        "c = [i for i in range(1,165,1)]\n",
        "\n",
        "plt.plot(c,y_test - y_pred, color='blue', linewidth=2.5, linestyle='-')       \n",
        "plt.title('Error Terms') \n",
        "plt.xlabel('Index')\n",
        "plt.ylabel('y_test - y_pred')\n",
        "plt.show()\n",
        "                 "
      ]
    },
    {
      "cell_type": "markdown",
      "metadata": {
        "id": "Buniz3NN2Oqg"
      },
      "source": [
        "Error is totally random & not violating the assumption"
      ]
    },
    {
      "cell_type": "code",
      "execution_count": null,
      "metadata": {
        "id": "hvuez443hpz-",
        "outputId": "1074a109-ff78-4b10-dcfe-fe12a2ccb41e"
      },
      "outputs": [
        {
          "name": "stderr",
          "output_type": "stream",
          "text": [
            "C:\\Users\\admin\\AppData\\Roaming\\Python\\Python310\\site-packages\\seaborn\\distributions.py:2619: FutureWarning: `distplot` is a deprecated function and will be removed in a future version. Please adapt your code to use either `displot` (a figure-level function with similar flexibility) or `histplot` (an axes-level function for histograms).\n",
            "  warnings.warn(msg, FutureWarning)\n"
          ]
        },
        {
          "data": {
            "image/png": "[encoded data removed]",
            "text/plain": [
              "<Figure size 432x288 with 1 Axes>"
            ]
          },
          "metadata": {
            "needs_background": "light"
          },
          "output_type": "display_data"
        }
      ],
      "source": [
        "fig = plt.figure()\n",
        "sns.distplot((y_test - y_pred), bins=50)\n",
        "plt.xlabel('Index')\n",
        "plt.ylabel('y_test - y_pred')\n",
        "plt.show()\n",
        "\n"
      ]
    },
    {
      "cell_type": "code",
      "execution_count": null,
      "metadata": {
        "id": "nMR5WkvQhpz-",
        "outputId": "40f25827-bd19-47bb-af5f-ede0b330353f"
      },
      "outputs": [
        {
          "name": "stdout",
          "output_type": "stream",
          "text": [
            "RMSE value: 0.1065813104056132\n"
          ]
        }
      ],
      "source": [
        "from sklearn import metrics\n",
        "mse=metrics.mean_squared_error(y_test,y_pred)\n",
        "rmse=np.sqrt(mse)\n",
        "print(f\"RMSE value: {rmse}\")"
      ]
    },
    {
      "cell_type": "code",
      "execution_count": null,
      "metadata": {
        "id": "leovIZpehpz_",
        "outputId": "2549406e-5596-4fe3-d2c2-b51212ae19f5"
      },
      "outputs": [
        {
          "data": {
            "text/plain": [
              "0.011359575727777672"
            ]
          },
          "execution_count": 44,
          "metadata": {},
          "output_type": "execute_result"
        }
      ],
      "source": [
        "mse=metrics.mean_squared_error(y_test,y_pred)\n",
        "mse\n"
      ]
    },
    {
      "cell_type": "code",
      "execution_count": null,
      "metadata": {
        "id": "aycs_OSqhpz_",
        "outputId": "f9cac823-364e-4d07-973f-fd57b96a88c1"
      },
      "outputs": [
        {
          "data": {
            "text/plain": [
              "0.07757131230351447"
            ]
          },
          "execution_count": 45,
          "metadata": {},
          "output_type": "execute_result"
        }
      ],
      "source": [
        "mae=metrics.mean_absolute_error(y_test,y_pred)\n",
        "mae"
      ]
    },
    {
      "cell_type": "code",
      "execution_count": null,
      "metadata": {
        "id": "6zvbUxi9hpz_"
      },
      "outputs": [],
      "source": [
        "from sklearn.feature_selection import RFE\n",
        "from sklearn.linear_model import LinearRegression"
      ]
    },
    {
      "cell_type": "code",
      "execution_count": null,
      "metadata": {
        "id": "5E-qAAyuhpz_",
        "outputId": "5ea6a413-ddee-46a5-a260-d4a45fb2b0b1"
      },
      "outputs": [
        {
          "name": "stdout",
          "output_type": "stream",
          "text": [
            "[False  True  True  True False False  True  True False False]\n",
            "[6 1 1 1 4 3 1 1 2 5]\n"
          ]
        }
      ],
      "source": [
        "lm = LinearRegression()\n",
        "\n",
        "rfe = RFE(lm)\n",
        "rfe = rfe.fit(X_train,y_train)\n",
        "\n",
        "print(rfe.support_)\n",
        "print(rfe.ranking_)\n",
        " "
      ]
    },
    {
      "cell_type": "code",
      "execution_count": null,
      "metadata": {
        "id": "ot25lFBVhp0A",
        "outputId": "50ae06fd-339b-40f7-91dd-0597d5bfefd4"
      },
      "outputs": [
        {
          "name": "stdout",
          "output_type": "stream",
          "text": [
            "9\n",
            "Index(['area', 'bathrooms', 'stories', 'airconditioning', 'parking'], dtype='object')\n"
          ]
        }
      ],
      "source": [
        "print(len(X.columns))\n",
        "col=X_train.columns[rfe.support_]\n",
        "print(col)"
      ]
    },
    {
      "cell_type": "markdown",
      "metadata": {
        "id": "Rp5Y_xVohp0A"
      },
      "source": [
        "As you can see that 5 features got selected out of initial 11 features.\n"
      ]
    },
    {
      "cell_type": "code",
      "execution_count": null,
      "metadata": {
        "id": "EoQrjN_vhp0A",
        "outputId": "5db6af4f-d861-40b7-e799-ea6e43279c9d"
      },
      "outputs": [
        {
          "data": {
            "text/plain": [
              "<seaborn.axisgrid.PairGrid at 0xbb8e566860>"
            ]
          },
          "execution_count": 49,
          "metadata": {},
          "output_type": "execute_result"
        },
        {
          "data": {
            "image/png": "[encoded data removed]",
            "text/plain": [
              "<Figure size 900x900 with 30 Axes>"
            ]
          },
          "metadata": {
            "needs_background": "light"
          },
          "output_type": "display_data"
        }
      ],
      "source": [
        "sns.pairplot(df[col])"
      ]
    },
    {
      "cell_type": "code",
      "execution_count": null,
      "metadata": {
        "id": "Z74DwgpThp0A",
        "outputId": "1361d7f1-726e-4d24-89fa-ada552fc9293"
      },
      "outputs": [
        {
          "name": "stderr",
          "output_type": "stream",
          "text": [
            "C:\\Users\\admin\\AppData\\Roaming\\Python\\Python310\\site-packages\\seaborn\\axisgrid.py:2076: UserWarning: The `size` parameter has been renamed to `height`; please update your code.\n",
            "  warnings.warn(msg, UserWarning)\n"
          ]
        },
        {
          "data": {
            "text/plain": [
              "<seaborn.axisgrid.PairGrid at 0xbb8c3a44c0>"
            ]
          },
          "execution_count": 50,
          "metadata": {},
          "output_type": "execute_result"
        },
        {
          "data": {
            "image/png": "[encoded data removed]",
            "text/plain": [
              "<Figure size 1764x504 with 5 Axes>"
            ]
          },
          "metadata": {
            "needs_background": "light"
          },
          "output_type": "display_data"
        }
      ],
      "source": [
        "sns.pairplot(df, x_vars=col, y_vars='price', size=7, aspect=0.7,kind='scatter')"
      ]
    },
    {
      "cell_type": "code",
      "execution_count": null,
      "metadata": {
        "id": "DMkjE22Ohp0A"
      },
      "outputs": [],
      "source": [
        "X_train_rfe = X_train[col] \n"
      ]
    },
    {
      "cell_type": "code",
      "execution_count": null,
      "metadata": {
        "id": "wUCtEHK2hp0B"
      },
      "outputs": [],
      "source": [
        "X_train_rfe = sm.add_constant(X_train_rfe)\n"
      ]
    },
    {
      "cell_type": "code",
      "execution_count": null,
      "metadata": {
        "id": "t9-MfCHZhp0B"
      },
      "outputs": [],
      "source": [
        "lm_3 = sm.OLS(y_train,X_train_rfe ).fit()\n",
        "  "
      ]
    },
    {
      "cell_type": "code",
      "execution_count": null,
      "metadata": {
        "id": "GVLiRcCzhp0B",
        "outputId": "65205280-6b72-4929-82b3-f6c7ab73b7fb"
      },
      "outputs": [
        {
          "name": "stdout",
          "output_type": "stream",
          "text": [
            "                            OLS Regression Results                            \n",
            "==============================================================================\n",
            "Dep. Variable:                  price   R-squared:                       0.613\n",
            "Model:                            OLS   Adj. R-squared:                  0.608\n",
            "Method:                 Least Squares   F-statistic:                     119.0\n",
            "Date:                Mon, 20 Feb 2023   Prob (F-statistic):           4.03e-75\n",
            "Time:                        20:39:09   Log-Likelihood:                 354.50\n",
            "No. Observations:                 381   AIC:                            -697.0\n",
            "Df Residuals:                     375   BIC:                            -673.3\n",
            "Df Model:                           5                                         \n",
            "Covariance Type:            nonrobust                                         \n",
            "===================================================================================\n",
            "                      coef    std err          t      P>|t|      [0.025      0.975]\n",
            "-----------------------------------------------------------------------------------\n",
            "const               0.0723      0.010      7.094      0.000       0.052       0.092\n",
            "area                0.3829      0.036     10.705      0.000       0.313       0.453\n",
            "bathrooms           0.3163      0.034      9.368      0.000       0.250       0.383\n",
            "stories             0.1012      0.019      5.323      0.000       0.064       0.139\n",
            "airconditioning     0.0694      0.012      5.993      0.000       0.047       0.092\n",
            "parking             0.0934      0.019      4.955      0.000       0.056       0.130\n",
            "==============================================================================\n",
            "Omnibus:                       62.002   Durbin-Watson:                   1.914\n",
            "Prob(Omnibus):                  0.000   Jarque-Bera (JB):              133.283\n",
            "Skew:                           0.852   Prob(JB):                     1.14e-29\n",
            "Kurtosis:                       5.343   Cond. No.                         8.90\n",
            "==============================================================================\n",
            "\n",
            "Notes:\n",
            "[1] Standard Errors assume that the covariance matrix of the errors is correctly specified.\n"
          ]
        }
      ],
      "source": [
        "print(lm_3.summary())\n"
      ]
    },
    {
      "cell_type": "code",
      "execution_count": null,
      "metadata": {
        "id": "wMLNOzY-hp0B",
        "outputId": "3afe4679-77f1-4d43-ca72-6cd8064fe09a"
      },
      "outputs": [
        {
          "data": {
            "text/html": [
              "<div>\n",
              "<style scoped>\n",
              "    .dataframe tbody tr th:only-of-type {\n",
              "        vertical-align: middle;\n",
              "    }\n",
              "\n",
              "    .dataframe tbody tr th {\n",
              "        vertical-align: top;\n",
              "    }\n",
              "\n",
              "    .dataframe thead th {\n",
              "        text-align: right;\n",
              "    }\n",
              "</style>\n",
              "<table border=\"1\" class=\"dataframe\">\n",
              "  <thead>\n",
              "    <tr style=\"text-align: right;\">\n",
              "      <th></th>\n",
              "      <th>variables</th>\n",
              "      <th>VIF</th>\n",
              "    </tr>\n",
              "  </thead>\n",
              "  <tbody>\n",
              "    <tr>\n",
              "      <th>0</th>\n",
              "      <td>area</td>\n",
              "      <td>2.568418</td>\n",
              "    </tr>\n",
              "    <tr>\n",
              "      <th>2</th>\n",
              "      <td>stories</td>\n",
              "      <td>1.969377</td>\n",
              "    </tr>\n",
              "    <tr>\n",
              "      <th>4</th>\n",
              "      <td>parking</td>\n",
              "      <td>1.900270</td>\n",
              "    </tr>\n",
              "    <tr>\n",
              "      <th>3</th>\n",
              "      <td>airconditioning</td>\n",
              "      <td>1.686193</td>\n",
              "    </tr>\n",
              "    <tr>\n",
              "      <th>1</th>\n",
              "      <td>bathrooms</td>\n",
              "      <td>1.557703</td>\n",
              "    </tr>\n",
              "  </tbody>\n",
              "</table>\n",
              "</div>"
            ],
            "text/plain": [
              "         variables       VIF\n",
              "0             area  2.568418\n",
              "2          stories  1.969377\n",
              "4          parking  1.900270\n",
              "3  airconditioning  1.686193\n",
              "1        bathrooms  1.557703"
            ]
          },
          "execution_count": 55,
          "metadata": {},
          "output_type": "execute_result"
        }
      ],
      "source": [
        "vif_scores(df[col])\n"
      ]
    },
    {
      "cell_type": "code",
      "execution_count": null,
      "metadata": {
        "id": "EzfsQex3hp0B"
      },
      "outputs": [],
      "source": [
        "X_test_rfe = X_test[col]\n",
        "\n",
        "X_test_rfe = sm.add_constant(X_test_rfe)\n",
        "y_pred = lm_3.predict(X_test_rfe)\n"
      ]
    },
    {
      "cell_type": "markdown",
      "metadata": {
        "id": "4y6O85uGhp0B"
      },
      "source": [
        "Now again lets evaluate oour third model.\n",
        "\n"
      ]
    },
    {
      "cell_type": "code",
      "execution_count": null,
      "metadata": {
        "id": "Stk00fc9hp0B",
        "outputId": "c49019f7-77e8-471d-9c1c-893c09b7fcfc"
      },
      "outputs": [
        {
          "data": {
            "image/png": "[encoded data removed]",
            "text/plain": [
              "<Figure size 432x288 with 1 Axes>"
            ]
          },
          "metadata": {
            "needs_background": "light"
          },
          "output_type": "display_data"
        }
      ],
      "source": [
        "fig = plt.figure()\n",
        "plt.scatter(y_test,y_pred)\n",
        "\n",
        "plt.xlabel('y_test')\n",
        "plt.ylabel('y_pred')    \n",
        "plt.title('y_test vs y_pred')\n",
        "                       \n",
        "plt.show()\n"
      ]
    },
    {
      "cell_type": "code",
      "execution_count": null,
      "metadata": {
        "id": "rSVG3chshp0C",
        "outputId": "baf8df22-6f04-4ab6-cc21-1433b85d404b"
      },
      "outputs": [
        {
          "name": "stdout",
          "output_type": "stream",
          "text": [
            "0.013616114786620325\n",
            "0.08950049088382549\n",
            "0.1166881090198154\n"
          ]
        }
      ],
      "source": [
        "mse=metrics.mean_squared_error(y_test,y_pred)\n",
        "print(mse)\n",
        "\n",
        "mae=metrics.mean_absolute_error(y_test,y_pred)\n",
        "print(mae)\n",
        "\n",
        "mse=metrics.mean_squared_error(y_test,y_pred)\n",
        "rmse=np.sqrt(mse)\n",
        "print(rmse)\n",
        "\n",
        "\n"
      ]
    },
    {
      "cell_type": "code",
      "execution_count": null,
      "metadata": {
        "id": "IgoDQJ72hp0C",
        "outputId": "e4ee42b4-f6d0-40e3-afcc-6452d2a96b8a"
      },
      "outputs": [
        {
          "name": "stdout",
          "output_type": "stream",
          "text": [
            "                            OLS Regression Results                            \n",
            "==============================================================================\n",
            "Dep. Variable:                  price   R-squared:                       0.696\n",
            "Model:                            OLS   Adj. R-squared:                  0.684\n",
            "Method:                 Least Squares   F-statistic:                     55.74\n",
            "Date:                Mon, 20 Feb 2023   Prob (F-statistic):           1.17e-84\n",
            "Time:                        20:39:10   Log-Likelihood:                 400.40\n",
            "No. Observations:                 381   AIC:                            -768.8\n",
            "Df Residuals:                     365   BIC:                            -705.7\n",
            "Df Model:                          15                                         \n",
            "Covariance Type:            nonrobust                                         \n",
            "===================================================================================\n",
            "                      coef    std err          t      P>|t|      [0.025      0.975]\n",
            "-----------------------------------------------------------------------------------\n",
            "const               0.1228      0.059      2.077      0.038       0.007       0.239\n",
            "area                0.4351      0.119      3.667      0.000       0.202       0.668\n",
            "bedrooms           -0.1140      0.091     -1.248      0.213      -0.294       0.066\n",
            "bathrooms           0.3893      0.122      3.203      0.001       0.150       0.628\n",
            "stories             0.1046      0.019      5.382      0.000       0.066       0.143\n",
            "mainroad            0.0334      0.014      2.379      0.018       0.006       0.061\n",
            "guestroom           0.0235      0.013      1.810      0.071      -0.002       0.049\n",
            "basement            0.0423      0.011      3.847      0.000       0.021       0.064\n",
            "hotwaterheating     0.0540      0.020      2.646      0.008       0.014       0.094\n",
            "airconditioning     0.0595      0.011      5.526      0.000       0.038       0.081\n",
            "parking             0.0776      0.017      4.489      0.000       0.044       0.112\n",
            "prefarea            0.0420      0.011      3.729      0.000       0.020       0.064\n",
            "semi-furnished     -0.0126      0.011     -1.123      0.262      -0.035       0.009\n",
            "unfurnished        -0.0362      0.012     -2.920      0.004      -0.061      -0.012\n",
            "areaperbedroom     -0.1466      0.138     -1.064      0.288      -0.418       0.124\n",
            "bbratio            -0.0899      0.102     -0.882      0.378      -0.290       0.111\n",
            "==============================================================================\n",
            "Omnibus:                       62.456   Durbin-Watson:                   1.885\n",
            "Prob(Omnibus):                  0.000   Jarque-Bera (JB):              147.890\n",
            "Skew:                           0.823   Prob(JB):                     7.69e-33\n",
            "Kurtosis:                       5.571   Cond. No.                         80.5\n",
            "==============================================================================\n",
            "\n",
            "Notes:\n",
            "[1] Standard Errors assume that the covariance matrix of the errors is correctly specified.\n",
            "                            OLS Regression Results                            \n",
            "==============================================================================\n",
            "Dep. Variable:                  price   R-squared:                       0.673\n",
            "Model:                            OLS   Adj. R-squared:                  0.665\n",
            "Method:                 Least Squares   F-statistic:                     84.88\n",
            "Date:                Mon, 20 Feb 2023   Prob (F-statistic):           1.65e-84\n",
            "Time:                        20:39:10   Log-Likelihood:                 386.50\n",
            "No. Observations:                 381   AIC:                            -753.0\n",
            "Df Residuals:                     371   BIC:                            -713.6\n",
            "Df Model:                           9                                         \n",
            "Covariance Type:            nonrobust                                         \n",
            "===================================================================================\n",
            "                      coef    std err          t      P>|t|      [0.025      0.975]\n",
            "-----------------------------------------------------------------------------------\n",
            "const               0.0765      0.011      7.163      0.000       0.056       0.098\n",
            "area                0.3281      0.034      9.693      0.000       0.262       0.395\n",
            "bathrooms           0.3096      0.031      9.883      0.000       0.248       0.371\n",
            "stories             0.0969      0.018      5.487      0.000       0.062       0.132\n",
            "guestroom           0.0430      0.012      3.527      0.000       0.019       0.067\n",
            "hotwaterheating     0.0544      0.021      2.601      0.010       0.013       0.096\n",
            "airconditioning     0.0662      0.011      6.047      0.000       0.045       0.088\n",
            "parking             0.0828      0.018      4.685      0.000       0.048       0.118\n",
            "prefarea            0.0572      0.011      5.111      0.000       0.035       0.079\n",
            "unfurnished        -0.0333      0.010     -3.285      0.001      -0.053      -0.013\n",
            "==============================================================================\n",
            "Omnibus:                       71.200   Durbin-Watson:                   1.926\n",
            "Prob(Omnibus):                  0.000   Jarque-Bera (JB):              170.862\n",
            "Skew:                           0.927   Prob(JB):                     7.90e-38\n",
            "Kurtosis:                       5.706   Cond. No.                         9.72\n",
            "==============================================================================\n",
            "\n",
            "Notes:\n",
            "[1] Standard Errors assume that the covariance matrix of the errors is correctly specified.\n",
            "                            OLS Regression Results                            \n",
            "==============================================================================\n",
            "Dep. Variable:                  price   R-squared:                       0.613\n",
            "Model:                            OLS   Adj. R-squared:                  0.608\n",
            "Method:                 Least Squares   F-statistic:                     119.0\n",
            "Date:                Mon, 20 Feb 2023   Prob (F-statistic):           4.03e-75\n",
            "Time:                        20:39:10   Log-Likelihood:                 354.50\n",
            "No. Observations:                 381   AIC:                            -697.0\n",
            "Df Residuals:                     375   BIC:                            -673.3\n",
            "Df Model:                           5                                         \n",
            "Covariance Type:            nonrobust                                         \n",
            "===================================================================================\n",
            "                      coef    std err          t      P>|t|      [0.025      0.975]\n",
            "-----------------------------------------------------------------------------------\n",
            "const               0.0723      0.010      7.094      0.000       0.052       0.092\n",
            "area                0.3829      0.036     10.705      0.000       0.313       0.453\n",
            "bathrooms           0.3163      0.034      9.368      0.000       0.250       0.383\n",
            "stories             0.1012      0.019      5.323      0.000       0.064       0.139\n",
            "airconditioning     0.0694      0.012      5.993      0.000       0.047       0.092\n",
            "parking             0.0934      0.019      4.955      0.000       0.056       0.130\n",
            "==============================================================================\n",
            "Omnibus:                       62.002   Durbin-Watson:                   1.914\n",
            "Prob(Omnibus):                  0.000   Jarque-Bera (JB):              133.283\n",
            "Skew:                           0.852   Prob(JB):                     1.14e-29\n",
            "Kurtosis:                       5.343   Cond. No.                         8.90\n",
            "==============================================================================\n",
            "\n",
            "Notes:\n",
            "[1] Standard Errors assume that the covariance matrix of the errors is correctly specified.\n"
          ]
        }
      ],
      "source": [
        "print(lm_1.summary())\n",
        "print(lm_2.summary())\n",
        "print(lm_3.summary())\n",
        "\n"
      ]
    }
  ],
  "metadata": {
    "colab": {
      "provenance": []
    },
    "kernelspec": {
      "display_name": "Python 3 (ipykernel)",
      "language": "python",
      "name": "python3"
    },
    "language_info": {
      "codemirror_mode": {
        "name": "ipython",
        "version": 3
      },
      "file_extension": ".py",
      "mimetype": "text/x-python",
      "name": "python",
      "nbconvert_exporter": "python",
      "pygments_lexer": "ipython3",
      "version": "3.10.3"
    }
  },
  "nbformat": 4,
  "nbformat_minor": 0
}