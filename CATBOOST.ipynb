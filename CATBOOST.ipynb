{
  "cells": [
    {
      "cell_type": "code",
      "source": [
        "!pip install catboost"
      ],
      "metadata": {
        "colab": {
          "base_uri": "https://localhost:8080/"
        },
        "id": "7_LcREmG6GnD",
        "outputId": "d0a8479f-090a-44f4-ab1e-1ad2bdf9dae7"
      },
      "id": "7_LcREmG6GnD",
      "execution_count": 1,
      "outputs": [
        {
          "output_type": "stream",
          "name": "stdout",
          "text": [
            "Looking in indexes: https://pypi.org/simple, https://us-python.pkg.dev/colab-wheels/public/simple/\n",
            "Requirement already satisfied: catboost in /usr/local/lib/python3.8/dist-packages (1.1.1)\n",
            "Requirement already satisfied: matplotlib in /usr/local/lib/python3.8/dist-packages (from catboost) (3.5.3)\n",
            "Requirement already satisfied: scipy in /usr/local/lib/python3.8/dist-packages (from catboost) (1.10.1)\n",
            "Requirement already satisfied: six in /usr/local/lib/python3.8/dist-packages (from catboost) (1.15.0)\n",
            "Requirement already satisfied: numpy>=1.16.0 in /usr/local/lib/python3.8/dist-packages (from catboost) (1.22.4)\n",
            "Requirement already satisfied: graphviz in /usr/local/lib/python3.8/dist-packages (from catboost) (0.10.1)\n",
            "Requirement already satisfied: plotly in /usr/local/lib/python3.8/dist-packages (from catboost) (5.5.0)\n",
            "Requirement already satisfied: pandas>=0.24.0 in /usr/local/lib/python3.8/dist-packages (from catboost) (1.3.5)\n",
            "Requirement already satisfied: pytz>=2017.3 in /usr/local/lib/python3.8/dist-packages (from pandas>=0.24.0->catboost) (2022.7.1)\n",
            "Requirement already satisfied: python-dateutil>=2.7.3 in /usr/local/lib/python3.8/dist-packages (from pandas>=0.24.0->catboost) (2.8.2)\n",
            "Requirement already satisfied: pyparsing>=2.2.1 in /usr/local/lib/python3.8/dist-packages (from matplotlib->catboost) (3.0.9)\n",
            "Requirement already satisfied: kiwisolver>=1.0.1 in /usr/local/lib/python3.8/dist-packages (from matplotlib->catboost) (1.4.4)\n",
            "Requirement already satisfied: packaging>=20.0 in /usr/local/lib/python3.8/dist-packages (from matplotlib->catboost) (23.0)\n",
            "Requirement already satisfied: pillow>=6.2.0 in /usr/local/lib/python3.8/dist-packages (from matplotlib->catboost) (8.4.0)\n",
            "Requirement already satisfied: cycler>=0.10 in /usr/local/lib/python3.8/dist-packages (from matplotlib->catboost) (0.11.0)\n",
            "Requirement already satisfied: fonttools>=4.22.0 in /usr/local/lib/python3.8/dist-packages (from matplotlib->catboost) (4.38.0)\n",
            "Requirement already satisfied: tenacity>=6.2.0 in /usr/local/lib/python3.8/dist-packages (from plotly->catboost) (8.2.2)\n"
          ]
        }
      ]
    },
    {
      "cell_type": "code",
      "execution_count": 2,
      "id": "6c93f146",
      "metadata": {
        "id": "6c93f146"
      },
      "outputs": [],
      "source": [
        "import numpy as np\n",
        "import pandas as pd\n",
        "import matplotlib.pyplot as plt\n",
        "import seaborn as sns\n",
        "import statsmodels.api as sm\n",
        "from catboost import CatBoostClassifier\n",
        "from scipy import stats\n",
        "from sklearn.model_selection import train_test_split\n",
        "from sklearn.metrics import accuracy_score, f1_score"
      ]
    },
    {
      "cell_type": "markdown",
      "source": [
        "Catboost is a boosting algorithm on decision trees.\n",
        "Advantages:\n",
        "No need to spend time on transformation of data(Feature Enginnering)\n",
        "It can be trained on the GPU, so it is faster"
      ],
      "metadata": {
        "id": "onCrfD-r6PcV"
      },
      "id": "onCrfD-r6PcV"
    },
    {
      "cell_type": "code",
      "source": [
        "def get_summary (df):\n",
        "  print (f\"Dataset Shape: {df. shape}\")\n",
        "  summary = pd.DataFrame(df.dtypes, columns=['dtypes'])\n",
        "  summary= summary.reset_index()\n",
        "  summary['Name'] = summary['index']\n",
        "  summary= summary [['Name', 'dtypes']] \n",
        "  summary['Missing'] = df.isnull().sum().values\n",
        "  summary['Uniques '] = df.nunique().values\n",
        "  summary['First Value'] = df.loc[0].values \n",
        "  summary['Second Value'] = df.loc[1].values\n",
        "  return summary"
      ],
      "metadata": {
        "id": "WrN2frqO6tHg"
      },
      "id": "WrN2frqO6tHg",
      "execution_count": 3,
      "outputs": []
    },
    {
      "cell_type": "code",
      "source": [
        "df= pd.read_csv('loan_data_set.csv')"
      ],
      "metadata": {
        "id": "hF0XJy0Z8TCB"
      },
      "id": "hF0XJy0Z8TCB",
      "execution_count": 4,
      "outputs": []
    },
    {
      "cell_type": "code",
      "source": [
        "df.head()"
      ],
      "metadata": {
        "colab": {
          "base_uri": "https://localhost:8080/",
          "height": 206
        },
        "id": "F7YnQmEg8THO",
        "outputId": "2b8e05d0-97e3-4844-806a-985f21ae67e5"
      },
      "id": "F7YnQmEg8THO",
      "execution_count": 5,
      "outputs": [
        {
          "output_type": "execute_result",
          "data": {
            "text/plain": [
              "   ApplicantIncome  CoapplicantIncome  LoanAmount  Loan_Amount_Term  \\\n",
              "0             5849                0.0         NaN             360.0   \n",
              "1             4583             1508.0       128.0             360.0   \n",
              "2             3000                0.0        66.0             360.0   \n",
              "3             2583             2358.0       120.0             360.0   \n",
              "4             6000                0.0       141.0             360.0   \n",
              "\n",
              "   Credit_History Loan_Status  \n",
              "0             1.0           Y  \n",
              "1             1.0           N  \n",
              "2             1.0           Y  \n",
              "3             1.0           Y  \n",
              "4             1.0           Y  "
            ],
            "text/html": [
              "\n",
              "  <div id=\"df-622a9d40-bf95-4d2a-987f-b3029d863c00\">\n",
              "    <div class=\"colab-df-container\">\n",
              "      <div>\n",
              "<style scoped>\n",
              "    .dataframe tbody tr th:only-of-type {\n",
              "        vertical-align: middle;\n",
              "    }\n",
              "\n",
              "    .dataframe tbody tr th {\n",
              "        vertical-align: top;\n",
              "    }\n",
              "\n",
              "    .dataframe thead th {\n",
              "        text-align: right;\n",
              "    }\n",
              "</style>\n",
              "<table border=\"1\" class=\"dataframe\">\n",
              "  <thead>\n",
              "    <tr style=\"text-align: right;\">\n",
              "      <th></th>\n",
              "      <th>ApplicantIncome</th>\n",
              "      <th>CoapplicantIncome</th>\n",
              "      <th>LoanAmount</th>\n",
              "      <th>Loan_Amount_Term</th>\n",
              "      <th>Credit_History</th>\n",
              "      <th>Loan_Status</th>\n",
              "    </tr>\n",
              "  </thead>\n",
              "  <tbody>\n",
              "    <tr>\n",
              "      <th>0</th>\n",
              "      <td>5849</td>\n",
              "      <td>0.0</td>\n",
              "      <td>NaN</td>\n",
              "      <td>360.0</td>\n",
              "      <td>1.0</td>\n",
              "      <td>Y</td>\n",
              "    </tr>\n",
              "    <tr>\n",
              "      <th>1</th>\n",
              "      <td>4583</td>\n",
              "      <td>1508.0</td>\n",
              "      <td>128.0</td>\n",
              "      <td>360.0</td>\n",
              "      <td>1.0</td>\n",
              "      <td>N</td>\n",
              "    </tr>\n",
              "    <tr>\n",
              "      <th>2</th>\n",
              "      <td>3000</td>\n",
              "      <td>0.0</td>\n",
              "      <td>66.0</td>\n",
              "      <td>360.0</td>\n",
              "      <td>1.0</td>\n",
              "      <td>Y</td>\n",
              "    </tr>\n",
              "    <tr>\n",
              "      <th>3</th>\n",
              "      <td>2583</td>\n",
              "      <td>2358.0</td>\n",
              "      <td>120.0</td>\n",
              "      <td>360.0</td>\n",
              "      <td>1.0</td>\n",
              "      <td>Y</td>\n",
              "    </tr>\n",
              "    <tr>\n",
              "      <th>4</th>\n",
              "      <td>6000</td>\n",
              "      <td>0.0</td>\n",
              "      <td>141.0</td>\n",
              "      <td>360.0</td>\n",
              "      <td>1.0</td>\n",
              "      <td>Y</td>\n",
              "    </tr>\n",
              "  </tbody>\n",
              "</table>\n",
              "</div>\n",
              "      <button class=\"colab-df-convert\" onclick=\"convertToInteractive('df-622a9d40-bf95-4d2a-987f-b3029d863c00')\"\n",
              "              title=\"Convert this dataframe to an interactive table.\"\n",
              "              style=\"display:none;\">\n",
              "        \n",
              "  <svg xmlns=\"http://www.w3.org/2000/svg\" height=\"24px\"viewBox=\"0 0 24 24\"\n",
              "       width=\"24px\">\n",
              "    <path d=\"M0 0h24v24H0V0z\" fill=\"none\"/>\n",
              "    <path d=\"M18.56 5.44l.94 2.06.94-2.06 2.06-.94-2.06-.94-.94-2.06-.94 2.06-2.06.94zm-11 1L8.5 8.5l.94-2.06 2.06-.94-2.06-.94L8.5 2.5l-.94 2.06-2.06.94zm10 10l.94 2.06.94-2.06 2.06-.94-2.06-.94-.94-2.06-.94 2.06-2.06.94z\"/><path d=\"M17.41 7.96l-1.37-1.37c-.4-.4-.92-.59-1.43-.59-.52 0-1.04.2-1.43.59L10.3 9.45l-7.72 7.72c-.78.78-.78 2.05 0 2.83L4 21.41c.39.39.9.59 1.41.59.51 0 1.02-.2 1.41-.59l7.78-7.78 2.81-2.81c.8-.78.8-2.07 0-2.86zM5.41 20L4 18.59l7.72-7.72 1.47 1.35L5.41 20z\"/>\n",
              "  </svg>\n",
              "      </button>\n",
              "      \n",
              "  <style>\n",
              "    .colab-df-container {\n",
              "      display:flex;\n",
              "      flex-wrap:wrap;\n",
              "      gap: 12px;\n",
              "    }\n",
              "\n",
              "    .colab-df-convert {\n",
              "      background-color: #E8F0FE;\n",
              "      border: none;\n",
              "      border-radius: 50%;\n",
              "      cursor: pointer;\n",
              "      display: none;\n",
              "      fill: #1967D2;\n",
              "      height: 32px;\n",
              "      padding: 0 0 0 0;\n",
              "      width: 32px;\n",
              "    }\n",
              "\n",
              "    .colab-df-convert:hover {\n",
              "      background-color: #E2EBFA;\n",
              "      box-shadow: 0px 1px 2px rgba(60, 64, 67, 0.3), 0px 1px 3px 1px rgba(60, 64, 67, 0.15);\n",
              "      fill: #174EA6;\n",
              "    }\n",
              "\n",
              "    [theme=dark] .colab-df-convert {\n",
              "      background-color: #3B4455;\n",
              "      fill: #D2E3FC;\n",
              "    }\n",
              "\n",
              "    [theme=dark] .colab-df-convert:hover {\n",
              "      background-color: #434B5C;\n",
              "      box-shadow: 0px 1px 3px 1px rgba(0, 0, 0, 0.15);\n",
              "      filter: drop-shadow(0px 1px 2px rgba(0, 0, 0, 0.3));\n",
              "      fill: #FFFFFF;\n",
              "    }\n",
              "  </style>\n",
              "\n",
              "      <script>\n",
              "        const buttonEl =\n",
              "          document.querySelector('#df-622a9d40-bf95-4d2a-987f-b3029d863c00 button.colab-df-convert');\n",
              "        buttonEl.style.display =\n",
              "          google.colab.kernel.accessAllowed ? 'block' : 'none';\n",
              "\n",
              "        async function convertToInteractive(key) {\n",
              "          const element = document.querySelector('#df-622a9d40-bf95-4d2a-987f-b3029d863c00');\n",
              "          const dataTable =\n",
              "            await google.colab.kernel.invokeFunction('convertToInteractive',\n",
              "                                                     [key], {});\n",
              "          if (!dataTable) return;\n",
              "\n",
              "          const docLinkHtml = 'Like what you see? Visit the ' +\n",
              "            '<a target=\"_blank\" href=https://colab.research.google.com/notebooks/data_table.ipynb>data table notebook</a>'\n",
              "            + ' to learn more about interactive tables.';\n",
              "          element.innerHTML = '';\n",
              "          dataTable['output_type'] = 'display_data';\n",
              "          await google.colab.output.renderOutput(dataTable, element);\n",
              "          const docLink = document.createElement('div');\n",
              "          docLink.innerHTML = docLinkHtml;\n",
              "          element.appendChild(docLink);\n",
              "        }\n",
              "      </script>\n",
              "    </div>\n",
              "  </div>\n",
              "  "
            ]
          },
          "metadata": {},
          "execution_count": 5
        }
      ]
    },
    {
      "cell_type": "code",
      "source": [
        "df.shape"
      ],
      "metadata": {
        "colab": {
          "base_uri": "https://localhost:8080/"
        },
        "id": "LFyG9QTc8TK5",
        "outputId": "37dbb197-480e-4dee-b275-4f53b9a6c9e7"
      },
      "id": "LFyG9QTc8TK5",
      "execution_count": 6,
      "outputs": [
        {
          "output_type": "execute_result",
          "data": {
            "text/plain": [
              "(614, 6)"
            ]
          },
          "metadata": {},
          "execution_count": 6
        }
      ]
    },
    {
      "cell_type": "code",
      "source": [
        "result=get_summary(df)\n",
        "result"
      ],
      "metadata": {
        "colab": {
          "base_uri": "https://localhost:8080/",
          "height": 255
        },
        "id": "lAk2MnzZ8TOR",
        "outputId": "a4cf21de-3a2c-4917-fced-3f411e4dd9f7"
      },
      "id": "lAk2MnzZ8TOR",
      "execution_count": 7,
      "outputs": [
        {
          "output_type": "stream",
          "name": "stdout",
          "text": [
            "Dataset Shape: (614, 6)\n"
          ]
        },
        {
          "output_type": "execute_result",
          "data": {
            "text/plain": [
              "                Name   dtypes  Missing  Uniques  First Value Second Value\n",
              "0    ApplicantIncome    int64        0       505        5849         4583\n",
              "1  CoapplicantIncome  float64        0       287         0.0       1508.0\n",
              "2         LoanAmount  float64       22       203         NaN        128.0\n",
              "3   Loan_Amount_Term  float64       14        10       360.0        360.0\n",
              "4     Credit_History  float64       50         2         1.0          1.0\n",
              "5        Loan_Status   object        0         2           Y            N"
            ],
            "text/html": [
              "\n",
              "  <div id=\"df-bbef2d91-0b0b-4b13-ba3e-e048c2f6ab01\">\n",
              "    <div class=\"colab-df-container\">\n",
              "      <div>\n",
              "<style scoped>\n",
              "    .dataframe tbody tr th:only-of-type {\n",
              "        vertical-align: middle;\n",
              "    }\n",
              "\n",
              "    .dataframe tbody tr th {\n",
              "        vertical-align: top;\n",
              "    }\n",
              "\n",
              "    .dataframe thead th {\n",
              "        text-align: right;\n",
              "    }\n",
              "</style>\n",
              "<table border=\"1\" class=\"dataframe\">\n",
              "  <thead>\n",
              "    <tr style=\"text-align: right;\">\n",
              "      <th></th>\n",
              "      <th>Name</th>\n",
              "      <th>dtypes</th>\n",
              "      <th>Missing</th>\n",
              "      <th>Uniques</th>\n",
              "      <th>First Value</th>\n",
              "      <th>Second Value</th>\n",
              "    </tr>\n",
              "  </thead>\n",
              "  <tbody>\n",
              "    <tr>\n",
              "      <th>0</th>\n",
              "      <td>ApplicantIncome</td>\n",
              "      <td>int64</td>\n",
              "      <td>0</td>\n",
              "      <td>505</td>\n",
              "      <td>5849</td>\n",
              "      <td>4583</td>\n",
              "    </tr>\n",
              "    <tr>\n",
              "      <th>1</th>\n",
              "      <td>CoapplicantIncome</td>\n",
              "      <td>float64</td>\n",
              "      <td>0</td>\n",
              "      <td>287</td>\n",
              "      <td>0.0</td>\n",
              "      <td>1508.0</td>\n",
              "    </tr>\n",
              "    <tr>\n",
              "      <th>2</th>\n",
              "      <td>LoanAmount</td>\n",
              "      <td>float64</td>\n",
              "      <td>22</td>\n",
              "      <td>203</td>\n",
              "      <td>NaN</td>\n",
              "      <td>128.0</td>\n",
              "    </tr>\n",
              "    <tr>\n",
              "      <th>3</th>\n",
              "      <td>Loan_Amount_Term</td>\n",
              "      <td>float64</td>\n",
              "      <td>14</td>\n",
              "      <td>10</td>\n",
              "      <td>360.0</td>\n",
              "      <td>360.0</td>\n",
              "    </tr>\n",
              "    <tr>\n",
              "      <th>4</th>\n",
              "      <td>Credit_History</td>\n",
              "      <td>float64</td>\n",
              "      <td>50</td>\n",
              "      <td>2</td>\n",
              "      <td>1.0</td>\n",
              "      <td>1.0</td>\n",
              "    </tr>\n",
              "    <tr>\n",
              "      <th>5</th>\n",
              "      <td>Loan_Status</td>\n",
              "      <td>object</td>\n",
              "      <td>0</td>\n",
              "      <td>2</td>\n",
              "      <td>Y</td>\n",
              "      <td>N</td>\n",
              "    </tr>\n",
              "  </tbody>\n",
              "</table>\n",
              "</div>\n",
              "      <button class=\"colab-df-convert\" onclick=\"convertToInteractive('df-bbef2d91-0b0b-4b13-ba3e-e048c2f6ab01')\"\n",
              "              title=\"Convert this dataframe to an interactive table.\"\n",
              "              style=\"display:none;\">\n",
              "        \n",
              "  <svg xmlns=\"http://www.w3.org/2000/svg\" height=\"24px\"viewBox=\"0 0 24 24\"\n",
              "       width=\"24px\">\n",
              "    <path d=\"M0 0h24v24H0V0z\" fill=\"none\"/>\n",
              "    <path d=\"M18.56 5.44l.94 2.06.94-2.06 2.06-.94-2.06-.94-.94-2.06-.94 2.06-2.06.94zm-11 1L8.5 8.5l.94-2.06 2.06-.94-2.06-.94L8.5 2.5l-.94 2.06-2.06.94zm10 10l.94 2.06.94-2.06 2.06-.94-2.06-.94-.94-2.06-.94 2.06-2.06.94z\"/><path d=\"M17.41 7.96l-1.37-1.37c-.4-.4-.92-.59-1.43-.59-.52 0-1.04.2-1.43.59L10.3 9.45l-7.72 7.72c-.78.78-.78 2.05 0 2.83L4 21.41c.39.39.9.59 1.41.59.51 0 1.02-.2 1.41-.59l7.78-7.78 2.81-2.81c.8-.78.8-2.07 0-2.86zM5.41 20L4 18.59l7.72-7.72 1.47 1.35L5.41 20z\"/>\n",
              "  </svg>\n",
              "      </button>\n",
              "      \n",
              "  <style>\n",
              "    .colab-df-container {\n",
              "      display:flex;\n",
              "      flex-wrap:wrap;\n",
              "      gap: 12px;\n",
              "    }\n",
              "\n",
              "    .colab-df-convert {\n",
              "      background-color: #E8F0FE;\n",
              "      border: none;\n",
              "      border-radius: 50%;\n",
              "      cursor: pointer;\n",
              "      display: none;\n",
              "      fill: #1967D2;\n",
              "      height: 32px;\n",
              "      padding: 0 0 0 0;\n",
              "      width: 32px;\n",
              "    }\n",
              "\n",
              "    .colab-df-convert:hover {\n",
              "      background-color: #E2EBFA;\n",
              "      box-shadow: 0px 1px 2px rgba(60, 64, 67, 0.3), 0px 1px 3px 1px rgba(60, 64, 67, 0.15);\n",
              "      fill: #174EA6;\n",
              "    }\n",
              "\n",
              "    [theme=dark] .colab-df-convert {\n",
              "      background-color: #3B4455;\n",
              "      fill: #D2E3FC;\n",
              "    }\n",
              "\n",
              "    [theme=dark] .colab-df-convert:hover {\n",
              "      background-color: #434B5C;\n",
              "      box-shadow: 0px 1px 3px 1px rgba(0, 0, 0, 0.15);\n",
              "      filter: drop-shadow(0px 1px 2px rgba(0, 0, 0, 0.3));\n",
              "      fill: #FFFFFF;\n",
              "    }\n",
              "  </style>\n",
              "\n",
              "      <script>\n",
              "        const buttonEl =\n",
              "          document.querySelector('#df-bbef2d91-0b0b-4b13-ba3e-e048c2f6ab01 button.colab-df-convert');\n",
              "        buttonEl.style.display =\n",
              "          google.colab.kernel.accessAllowed ? 'block' : 'none';\n",
              "\n",
              "        async function convertToInteractive(key) {\n",
              "          const element = document.querySelector('#df-bbef2d91-0b0b-4b13-ba3e-e048c2f6ab01');\n",
              "          const dataTable =\n",
              "            await google.colab.kernel.invokeFunction('convertToInteractive',\n",
              "                                                     [key], {});\n",
              "          if (!dataTable) return;\n",
              "\n",
              "          const docLinkHtml = 'Like what you see? Visit the ' +\n",
              "            '<a target=\"_blank\" href=https://colab.research.google.com/notebooks/data_table.ipynb>data table notebook</a>'\n",
              "            + ' to learn more about interactive tables.';\n",
              "          element.innerHTML = '';\n",
              "          dataTable['output_type'] = 'display_data';\n",
              "          await google.colab.output.renderOutput(dataTable, element);\n",
              "          const docLink = document.createElement('div');\n",
              "          docLink.innerHTML = docLinkHtml;\n",
              "          element.appendChild(docLink);\n",
              "        }\n",
              "      </script>\n",
              "    </div>\n",
              "  </div>\n",
              "  "
            ]
          },
          "metadata": {},
          "execution_count": 7
        }
      ]
    },
    {
      "cell_type": "code",
      "source": [
        "df['Credit_History']=df['Credit_History'].astype(str)\n"
      ],
      "metadata": {
        "id": "6gi23GoZAf7m"
      },
      "id": "6gi23GoZAf7m",
      "execution_count": 9,
      "outputs": []
    },
    {
      "cell_type": "code",
      "source": [
        "df.head()"
      ],
      "metadata": {
        "colab": {
          "base_uri": "https://localhost:8080/",
          "height": 206
        },
        "id": "0KBzQMuTCHba",
        "outputId": "9e221270-5882-47e8-ae47-0983915f3202"
      },
      "id": "0KBzQMuTCHba",
      "execution_count": 10,
      "outputs": [
        {
          "output_type": "execute_result",
          "data": {
            "text/plain": [
              "   ApplicantIncome  CoapplicantIncome  LoanAmount  Loan_Amount_Term  \\\n",
              "0             5849                0.0         NaN             360.0   \n",
              "1             4583             1508.0       128.0             360.0   \n",
              "2             3000                0.0        66.0             360.0   \n",
              "3             2583             2358.0       120.0             360.0   \n",
              "4             6000                0.0       141.0             360.0   \n",
              "\n",
              "  Credit_History Loan_Status  \n",
              "0            1.0           Y  \n",
              "1            1.0           N  \n",
              "2            1.0           Y  \n",
              "3            1.0           Y  \n",
              "4            1.0           Y  "
            ],
            "text/html": [
              "\n",
              "  <div id=\"df-b6e47b7b-3de6-41c7-a337-58b1ea437e7d\">\n",
              "    <div class=\"colab-df-container\">\n",
              "      <div>\n",
              "<style scoped>\n",
              "    .dataframe tbody tr th:only-of-type {\n",
              "        vertical-align: middle;\n",
              "    }\n",
              "\n",
              "    .dataframe tbody tr th {\n",
              "        vertical-align: top;\n",
              "    }\n",
              "\n",
              "    .dataframe thead th {\n",
              "        text-align: right;\n",
              "    }\n",
              "</style>\n",
              "<table border=\"1\" class=\"dataframe\">\n",
              "  <thead>\n",
              "    <tr style=\"text-align: right;\">\n",
              "      <th></th>\n",
              "      <th>ApplicantIncome</th>\n",
              "      <th>CoapplicantIncome</th>\n",
              "      <th>LoanAmount</th>\n",
              "      <th>Loan_Amount_Term</th>\n",
              "      <th>Credit_History</th>\n",
              "      <th>Loan_Status</th>\n",
              "    </tr>\n",
              "  </thead>\n",
              "  <tbody>\n",
              "    <tr>\n",
              "      <th>0</th>\n",
              "      <td>5849</td>\n",
              "      <td>0.0</td>\n",
              "      <td>NaN</td>\n",
              "      <td>360.0</td>\n",
              "      <td>1.0</td>\n",
              "      <td>Y</td>\n",
              "    </tr>\n",
              "    <tr>\n",
              "      <th>1</th>\n",
              "      <td>4583</td>\n",
              "      <td>1508.0</td>\n",
              "      <td>128.0</td>\n",
              "      <td>360.0</td>\n",
              "      <td>1.0</td>\n",
              "      <td>N</td>\n",
              "    </tr>\n",
              "    <tr>\n",
              "      <th>2</th>\n",
              "      <td>3000</td>\n",
              "      <td>0.0</td>\n",
              "      <td>66.0</td>\n",
              "      <td>360.0</td>\n",
              "      <td>1.0</td>\n",
              "      <td>Y</td>\n",
              "    </tr>\n",
              "    <tr>\n",
              "      <th>3</th>\n",
              "      <td>2583</td>\n",
              "      <td>2358.0</td>\n",
              "      <td>120.0</td>\n",
              "      <td>360.0</td>\n",
              "      <td>1.0</td>\n",
              "      <td>Y</td>\n",
              "    </tr>\n",
              "    <tr>\n",
              "      <th>4</th>\n",
              "      <td>6000</td>\n",
              "      <td>0.0</td>\n",
              "      <td>141.0</td>\n",
              "      <td>360.0</td>\n",
              "      <td>1.0</td>\n",
              "      <td>Y</td>\n",
              "    </tr>\n",
              "  </tbody>\n",
              "</table>\n",
              "</div>\n",
              "      <button class=\"colab-df-convert\" onclick=\"convertToInteractive('df-b6e47b7b-3de6-41c7-a337-58b1ea437e7d')\"\n",
              "              title=\"Convert this dataframe to an interactive table.\"\n",
              "              style=\"display:none;\">\n",
              "        \n",
              "  <svg xmlns=\"http://www.w3.org/2000/svg\" height=\"24px\"viewBox=\"0 0 24 24\"\n",
              "       width=\"24px\">\n",
              "    <path d=\"M0 0h24v24H0V0z\" fill=\"none\"/>\n",
              "    <path d=\"M18.56 5.44l.94 2.06.94-2.06 2.06-.94-2.06-.94-.94-2.06-.94 2.06-2.06.94zm-11 1L8.5 8.5l.94-2.06 2.06-.94-2.06-.94L8.5 2.5l-.94 2.06-2.06.94zm10 10l.94 2.06.94-2.06 2.06-.94-2.06-.94-.94-2.06-.94 2.06-2.06.94z\"/><path d=\"M17.41 7.96l-1.37-1.37c-.4-.4-.92-.59-1.43-.59-.52 0-1.04.2-1.43.59L10.3 9.45l-7.72 7.72c-.78.78-.78 2.05 0 2.83L4 21.41c.39.39.9.59 1.41.59.51 0 1.02-.2 1.41-.59l7.78-7.78 2.81-2.81c.8-.78.8-2.07 0-2.86zM5.41 20L4 18.59l7.72-7.72 1.47 1.35L5.41 20z\"/>\n",
              "  </svg>\n",
              "      </button>\n",
              "      \n",
              "  <style>\n",
              "    .colab-df-container {\n",
              "      display:flex;\n",
              "      flex-wrap:wrap;\n",
              "      gap: 12px;\n",
              "    }\n",
              "\n",
              "    .colab-df-convert {\n",
              "      background-color: #E8F0FE;\n",
              "      border: none;\n",
              "      border-radius: 50%;\n",
              "      cursor: pointer;\n",
              "      display: none;\n",
              "      fill: #1967D2;\n",
              "      height: 32px;\n",
              "      padding: 0 0 0 0;\n",
              "      width: 32px;\n",
              "    }\n",
              "\n",
              "    .colab-df-convert:hover {\n",
              "      background-color: #E2EBFA;\n",
              "      box-shadow: 0px 1px 2px rgba(60, 64, 67, 0.3), 0px 1px 3px 1px rgba(60, 64, 67, 0.15);\n",
              "      fill: #174EA6;\n",
              "    }\n",
              "\n",
              "    [theme=dark] .colab-df-convert {\n",
              "      background-color: #3B4455;\n",
              "      fill: #D2E3FC;\n",
              "    }\n",
              "\n",
              "    [theme=dark] .colab-df-convert:hover {\n",
              "      background-color: #434B5C;\n",
              "      box-shadow: 0px 1px 3px 1px rgba(0, 0, 0, 0.15);\n",
              "      filter: drop-shadow(0px 1px 2px rgba(0, 0, 0, 0.3));\n",
              "      fill: #FFFFFF;\n",
              "    }\n",
              "  </style>\n",
              "\n",
              "      <script>\n",
              "        const buttonEl =\n",
              "          document.querySelector('#df-b6e47b7b-3de6-41c7-a337-58b1ea437e7d button.colab-df-convert');\n",
              "        buttonEl.style.display =\n",
              "          google.colab.kernel.accessAllowed ? 'block' : 'none';\n",
              "\n",
              "        async function convertToInteractive(key) {\n",
              "          const element = document.querySelector('#df-b6e47b7b-3de6-41c7-a337-58b1ea437e7d');\n",
              "          const dataTable =\n",
              "            await google.colab.kernel.invokeFunction('convertToInteractive',\n",
              "                                                     [key], {});\n",
              "          if (!dataTable) return;\n",
              "\n",
              "          const docLinkHtml = 'Like what you see? Visit the ' +\n",
              "            '<a target=\"_blank\" href=https://colab.research.google.com/notebooks/data_table.ipynb>data table notebook</a>'\n",
              "            + ' to learn more about interactive tables.';\n",
              "          element.innerHTML = '';\n",
              "          dataTable['output_type'] = 'display_data';\n",
              "          await google.colab.output.renderOutput(dataTable, element);\n",
              "          const docLink = document.createElement('div');\n",
              "          docLink.innerHTML = docLinkHtml;\n",
              "          element.appendChild(docLink);\n",
              "        }\n",
              "      </script>\n",
              "    </div>\n",
              "  </div>\n",
              "  "
            ]
          },
          "metadata": {},
          "execution_count": 10
        }
      ]
    },
    {
      "cell_type": "code",
      "source": [
        "target_col = \"Loan_Status\"\n",
        "X=df.loc[:, df.columns !=target_col]\n",
        "y=df.loc[:, target_col]"
      ],
      "metadata": {
        "id": "XyflPfv-8TUU"
      },
      "id": "XyflPfv-8TUU",
      "execution_count": 11,
      "outputs": []
    },
    {
      "cell_type": "code",
      "source": [
        "X_train, X_test, y_train, y_test = train_test_split(X, y, test_size=0.33, random_state= 42)\n",
        "print(f\"Train Data: {X_train.shape},{y_train.shape}\")\n",
        "print(f\"Test Data: {X_test.shape},{y_test.shape}\")"
      ],
      "metadata": {
        "colab": {
          "base_uri": "https://localhost:8080/"
        },
        "id": "LVmbq_uC9vPF",
        "outputId": "07e12370-2976-426b-f133-94f9cc54c6c1"
      },
      "id": "LVmbq_uC9vPF",
      "execution_count": 12,
      "outputs": [
        {
          "output_type": "stream",
          "name": "stdout",
          "text": [
            "Train Data: (411, 5),(411,)\n",
            "Test Data: (203, 5),(203,)\n"
          ]
        }
      ]
    },
    {
      "cell_type": "code",
      "source": [
        "X_train.head()"
      ],
      "metadata": {
        "colab": {
          "base_uri": "https://localhost:8080/",
          "height": 206
        },
        "id": "SMBDNYgV90Ow",
        "outputId": "8a833212-18b5-4b1a-b7b7-df17f6a2068f"
      },
      "id": "SMBDNYgV90Ow",
      "execution_count": 13,
      "outputs": [
        {
          "output_type": "execute_result",
          "data": {
            "text/plain": [
              "     ApplicantIncome  CoapplicantIncome  LoanAmount  Loan_Amount_Term  \\\n",
              "244             3406             4417.0       123.0             360.0   \n",
              "393             1993             1625.0       113.0             180.0   \n",
              "310             2917                0.0        84.0             360.0   \n",
              "408             8300                0.0       152.0             300.0   \n",
              "572            16666                0.0       275.0             360.0   \n",
              "\n",
              "    Credit_History  \n",
              "244            1.0  \n",
              "393            1.0  \n",
              "310            1.0  \n",
              "408            0.0  \n",
              "572            1.0  "
            ],
            "text/html": [
              "\n",
              "  <div id=\"df-c686a1d9-c0df-49be-bc99-31979f294294\">\n",
              "    <div class=\"colab-df-container\">\n",
              "      <div>\n",
              "<style scoped>\n",
              "    .dataframe tbody tr th:only-of-type {\n",
              "        vertical-align: middle;\n",
              "    }\n",
              "\n",
              "    .dataframe tbody tr th {\n",
              "        vertical-align: top;\n",
              "    }\n",
              "\n",
              "    .dataframe thead th {\n",
              "        text-align: right;\n",
              "    }\n",
              "</style>\n",
              "<table border=\"1\" class=\"dataframe\">\n",
              "  <thead>\n",
              "    <tr style=\"text-align: right;\">\n",
              "      <th></th>\n",
              "      <th>ApplicantIncome</th>\n",
              "      <th>CoapplicantIncome</th>\n",
              "      <th>LoanAmount</th>\n",
              "      <th>Loan_Amount_Term</th>\n",
              "      <th>Credit_History</th>\n",
              "    </tr>\n",
              "  </thead>\n",
              "  <tbody>\n",
              "    <tr>\n",
              "      <th>244</th>\n",
              "      <td>3406</td>\n",
              "      <td>4417.0</td>\n",
              "      <td>123.0</td>\n",
              "      <td>360.0</td>\n",
              "      <td>1.0</td>\n",
              "    </tr>\n",
              "    <tr>\n",
              "      <th>393</th>\n",
              "      <td>1993</td>\n",
              "      <td>1625.0</td>\n",
              "      <td>113.0</td>\n",
              "      <td>180.0</td>\n",
              "      <td>1.0</td>\n",
              "    </tr>\n",
              "    <tr>\n",
              "      <th>310</th>\n",
              "      <td>2917</td>\n",
              "      <td>0.0</td>\n",
              "      <td>84.0</td>\n",
              "      <td>360.0</td>\n",
              "      <td>1.0</td>\n",
              "    </tr>\n",
              "    <tr>\n",
              "      <th>408</th>\n",
              "      <td>8300</td>\n",
              "      <td>0.0</td>\n",
              "      <td>152.0</td>\n",
              "      <td>300.0</td>\n",
              "      <td>0.0</td>\n",
              "    </tr>\n",
              "    <tr>\n",
              "      <th>572</th>\n",
              "      <td>16666</td>\n",
              "      <td>0.0</td>\n",
              "      <td>275.0</td>\n",
              "      <td>360.0</td>\n",
              "      <td>1.0</td>\n",
              "    </tr>\n",
              "  </tbody>\n",
              "</table>\n",
              "</div>\n",
              "      <button class=\"colab-df-convert\" onclick=\"convertToInteractive('df-c686a1d9-c0df-49be-bc99-31979f294294')\"\n",
              "              title=\"Convert this dataframe to an interactive table.\"\n",
              "              style=\"display:none;\">\n",
              "        \n",
              "  <svg xmlns=\"http://www.w3.org/2000/svg\" height=\"24px\"viewBox=\"0 0 24 24\"\n",
              "       width=\"24px\">\n",
              "    <path d=\"M0 0h24v24H0V0z\" fill=\"none\"/>\n",
              "    <path d=\"M18.56 5.44l.94 2.06.94-2.06 2.06-.94-2.06-.94-.94-2.06-.94 2.06-2.06.94zm-11 1L8.5 8.5l.94-2.06 2.06-.94-2.06-.94L8.5 2.5l-.94 2.06-2.06.94zm10 10l.94 2.06.94-2.06 2.06-.94-2.06-.94-.94-2.06-.94 2.06-2.06.94z\"/><path d=\"M17.41 7.96l-1.37-1.37c-.4-.4-.92-.59-1.43-.59-.52 0-1.04.2-1.43.59L10.3 9.45l-7.72 7.72c-.78.78-.78 2.05 0 2.83L4 21.41c.39.39.9.59 1.41.59.51 0 1.02-.2 1.41-.59l7.78-7.78 2.81-2.81c.8-.78.8-2.07 0-2.86zM5.41 20L4 18.59l7.72-7.72 1.47 1.35L5.41 20z\"/>\n",
              "  </svg>\n",
              "      </button>\n",
              "      \n",
              "  <style>\n",
              "    .colab-df-container {\n",
              "      display:flex;\n",
              "      flex-wrap:wrap;\n",
              "      gap: 12px;\n",
              "    }\n",
              "\n",
              "    .colab-df-convert {\n",
              "      background-color: #E8F0FE;\n",
              "      border: none;\n",
              "      border-radius: 50%;\n",
              "      cursor: pointer;\n",
              "      display: none;\n",
              "      fill: #1967D2;\n",
              "      height: 32px;\n",
              "      padding: 0 0 0 0;\n",
              "      width: 32px;\n",
              "    }\n",
              "\n",
              "    .colab-df-convert:hover {\n",
              "      background-color: #E2EBFA;\n",
              "      box-shadow: 0px 1px 2px rgba(60, 64, 67, 0.3), 0px 1px 3px 1px rgba(60, 64, 67, 0.15);\n",
              "      fill: #174EA6;\n",
              "    }\n",
              "\n",
              "    [theme=dark] .colab-df-convert {\n",
              "      background-color: #3B4455;\n",
              "      fill: #D2E3FC;\n",
              "    }\n",
              "\n",
              "    [theme=dark] .colab-df-convert:hover {\n",
              "      background-color: #434B5C;\n",
              "      box-shadow: 0px 1px 3px 1px rgba(0, 0, 0, 0.15);\n",
              "      filter: drop-shadow(0px 1px 2px rgba(0, 0, 0, 0.3));\n",
              "      fill: #FFFFFF;\n",
              "    }\n",
              "  </style>\n",
              "\n",
              "      <script>\n",
              "        const buttonEl =\n",
              "          document.querySelector('#df-c686a1d9-c0df-49be-bc99-31979f294294 button.colab-df-convert');\n",
              "        buttonEl.style.display =\n",
              "          google.colab.kernel.accessAllowed ? 'block' : 'none';\n",
              "\n",
              "        async function convertToInteractive(key) {\n",
              "          const element = document.querySelector('#df-c686a1d9-c0df-49be-bc99-31979f294294');\n",
              "          const dataTable =\n",
              "            await google.colab.kernel.invokeFunction('convertToInteractive',\n",
              "                                                     [key], {});\n",
              "          if (!dataTable) return;\n",
              "\n",
              "          const docLinkHtml = 'Like what you see? Visit the ' +\n",
              "            '<a target=\"_blank\" href=https://colab.research.google.com/notebooks/data_table.ipynb>data table notebook</a>'\n",
              "            + ' to learn more about interactive tables.';\n",
              "          element.innerHTML = '';\n",
              "          dataTable['output_type'] = 'display_data';\n",
              "          await google.colab.output.renderOutput(dataTable, element);\n",
              "          const docLink = document.createElement('div');\n",
              "          docLink.innerHTML = docLinkHtml;\n",
              "          element.appendChild(docLink);\n",
              "        }\n",
              "      </script>\n",
              "    </div>\n",
              "  </div>\n",
              "  "
            ]
          },
          "metadata": {},
          "execution_count": 13
        }
      ]
    },
    {
      "cell_type": "code",
      "source": [
        "features=list(X_train.columns)\n",
        "features"
      ],
      "metadata": {
        "colab": {
          "base_uri": "https://localhost:8080/"
        },
        "id": "3K7XF-kk95z1",
        "outputId": "398cf5be-7812-422d-839a-66e6bd5c355f"
      },
      "id": "3K7XF-kk95z1",
      "execution_count": 14,
      "outputs": [
        {
          "output_type": "execute_result",
          "data": {
            "text/plain": [
              "['ApplicantIncome',\n",
              " 'CoapplicantIncome',\n",
              " 'LoanAmount',\n",
              " 'Loan_Amount_Term',\n",
              " 'Credit_History']"
            ]
          },
          "metadata": {},
          "execution_count": 14
        }
      ]
    },
    {
      "cell_type": "code",
      "source": [
        "cat_features=['Credit_History']"
      ],
      "metadata": {
        "id": "LESCgfVt-Nw2"
      },
      "id": "LESCgfVt-Nw2",
      "execution_count": 15,
      "outputs": []
    },
    {
      "cell_type": "code",
      "source": [
        "df.info()"
      ],
      "metadata": {
        "colab": {
          "base_uri": "https://localhost:8080/"
        },
        "id": "s6HxPDngAO_Z",
        "outputId": "00a4d263-e9ba-4b01-8e75-1e409b095bb7"
      },
      "id": "s6HxPDngAO_Z",
      "execution_count": 16,
      "outputs": [
        {
          "output_type": "stream",
          "name": "stdout",
          "text": [
            "<class 'pandas.core.frame.DataFrame'>\n",
            "RangeIndex: 614 entries, 0 to 613\n",
            "Data columns (total 6 columns):\n",
            " #   Column             Non-Null Count  Dtype  \n",
            "---  ------             --------------  -----  \n",
            " 0   ApplicantIncome    614 non-null    int64  \n",
            " 1   CoapplicantIncome  614 non-null    float64\n",
            " 2   LoanAmount         592 non-null    float64\n",
            " 3   Loan_Amount_Term   600 non-null    float64\n",
            " 4   Credit_History     614 non-null    object \n",
            " 5   Loan_Status        614 non-null    object \n",
            "dtypes: float64(3), int64(1), object(2)\n",
            "memory usage: 28.9+ KB\n"
          ]
        }
      ]
    },
    {
      "cell_type": "code",
      "source": [
        "model_cb = CatBoostClassifier(task_type='GPU', iterations=100, random_state=2021, eval_metric=\"F1\")"
      ],
      "metadata": {
        "id": "aHIBydgX-VDP"
      },
      "id": "aHIBydgX-VDP",
      "execution_count": 17,
      "outputs": []
    },
    {
      "cell_type": "code",
      "source": [
        "model_cb.fit(X_train, y_train, cat_features=cat_features, plot=True, eval_set=(X_test, y_test))"
      ],
      "metadata": {
        "colab": {
          "base_uri": "https://localhost:8080/",
          "height": 1000,
          "referenced_widgets": [
            "595cba2db0ed42d6a4d53ca2c97dd5ae"
          ]
        },
        "id": "n7eCp0SX-VKP",
        "outputId": "b7e27da5-5ec2-40f9-83af-c0910732867d"
      },
      "id": "n7eCp0SX-VKP",
      "execution_count": 18,
      "outputs": [
        {
          "output_type": "display_data",
          "data": {
            "text/plain": [
              "MetricVisualizer(layout=Layout(align_self='stretch', height='500px'))"
            ],
            "application/vnd.jupyter.widget-view+json": {
              "version_major": 2,
              "version_minor": 0,
              "model_id": "595cba2db0ed42d6a4d53ca2c97dd5ae"
            }
          },
          "metadata": {}
        },
        {
          "output_type": "stream",
          "name": "stdout",
          "text": [
            "Learning rate set to 0.199227\n",
            "0:\tlearn: 0.8401163\ttest: 0.7706422\tbest: 0.7706422 (0)\ttotal: 6.94ms\tremaining: 687ms\n",
            "1:\tlearn: 0.8689024\ttest: 0.8376623\tbest: 0.8376623 (1)\ttotal: 15.2ms\tremaining: 745ms\n",
            "2:\tlearn: 0.8788820\ttest: 0.8600000\tbest: 0.8600000 (2)\ttotal: 21.2ms\tremaining: 684ms\n",
            "3:\tlearn: 0.8806202\ttest: 0.8628763\tbest: 0.8628763 (3)\ttotal: 26.8ms\tremaining: 644ms\n",
            "4:\tlearn: 0.8765432\ttest: 0.8628763\tbest: 0.8628763 (3)\ttotal: 32.6ms\tremaining: 620ms\n",
            "5:\tlearn: 0.8765432\ttest: 0.8628763\tbest: 0.8628763 (3)\ttotal: 38.4ms\tremaining: 602ms\n",
            "6:\tlearn: 0.8765432\ttest: 0.8628763\tbest: 0.8628763 (3)\ttotal: 44.4ms\tremaining: 590ms\n",
            "7:\tlearn: 0.8765432\ttest: 0.8628763\tbest: 0.8628763 (3)\ttotal: 50.2ms\tremaining: 577ms\n",
            "8:\tlearn: 0.8778980\ttest: 0.8628763\tbest: 0.8628763 (3)\ttotal: 57.1ms\tremaining: 578ms\n",
            "9:\tlearn: 0.8792570\ttest: 0.8628763\tbest: 0.8628763 (3)\ttotal: 63.2ms\tremaining: 569ms\n",
            "10:\tlearn: 0.8778980\ttest: 0.8628763\tbest: 0.8628763 (3)\ttotal: 68.8ms\tremaining: 557ms\n",
            "11:\tlearn: 0.8792570\ttest: 0.8628763\tbest: 0.8628763 (3)\ttotal: 74.8ms\tremaining: 549ms\n",
            "12:\tlearn: 0.8792570\ttest: 0.8628763\tbest: 0.8628763 (3)\ttotal: 80.6ms\tremaining: 539ms\n",
            "13:\tlearn: 0.8792570\ttest: 0.8628763\tbest: 0.8628763 (3)\ttotal: 86.3ms\tremaining: 530ms\n",
            "14:\tlearn: 0.8792570\ttest: 0.8628763\tbest: 0.8628763 (3)\ttotal: 92.1ms\tremaining: 522ms\n",
            "15:\tlearn: 0.8792570\ttest: 0.8628763\tbest: 0.8628763 (3)\ttotal: 98ms\tremaining: 514ms\n",
            "16:\tlearn: 0.8792570\ttest: 0.8628763\tbest: 0.8628763 (3)\ttotal: 104ms\tremaining: 506ms\n",
            "17:\tlearn: 0.8792570\ttest: 0.8628763\tbest: 0.8628763 (3)\ttotal: 109ms\tremaining: 498ms\n",
            "18:\tlearn: 0.8792570\ttest: 0.8628763\tbest: 0.8628763 (3)\ttotal: 115ms\tremaining: 490ms\n",
            "19:\tlearn: 0.8806202\ttest: 0.8628763\tbest: 0.8628763 (3)\ttotal: 121ms\tremaining: 483ms\n",
            "20:\tlearn: 0.8806202\ttest: 0.8628763\tbest: 0.8628763 (3)\ttotal: 126ms\tremaining: 475ms\n",
            "21:\tlearn: 0.8806202\ttest: 0.8628763\tbest: 0.8628763 (3)\ttotal: 132ms\tremaining: 468ms\n",
            "22:\tlearn: 0.8806202\ttest: 0.8628763\tbest: 0.8628763 (3)\ttotal: 138ms\tremaining: 461ms\n",
            "23:\tlearn: 0.8806202\ttest: 0.8628763\tbest: 0.8628763 (3)\ttotal: 148ms\tremaining: 468ms\n",
            "24:\tlearn: 0.8806202\ttest: 0.8628763\tbest: 0.8628763 (3)\ttotal: 154ms\tremaining: 461ms\n",
            "25:\tlearn: 0.8833593\ttest: 0.8628763\tbest: 0.8628763 (3)\ttotal: 159ms\tremaining: 453ms\n",
            "26:\tlearn: 0.8833593\ttest: 0.8628763\tbest: 0.8628763 (3)\ttotal: 165ms\tremaining: 446ms\n",
            "27:\tlearn: 0.8833593\ttest: 0.8628763\tbest: 0.8628763 (3)\ttotal: 171ms\tremaining: 439ms\n",
            "28:\tlearn: 0.8833593\ttest: 0.8628763\tbest: 0.8628763 (3)\ttotal: 176ms\tremaining: 432ms\n",
            "29:\tlearn: 0.8833593\ttest: 0.8628763\tbest: 0.8628763 (3)\ttotal: 182ms\tremaining: 425ms\n",
            "30:\tlearn: 0.8833593\ttest: 0.8628763\tbest: 0.8628763 (3)\ttotal: 188ms\tremaining: 418ms\n",
            "31:\tlearn: 0.8833593\ttest: 0.8628763\tbest: 0.8628763 (3)\ttotal: 193ms\tremaining: 411ms\n",
            "32:\tlearn: 0.8833593\ttest: 0.8628763\tbest: 0.8628763 (3)\ttotal: 199ms\tremaining: 404ms\n",
            "33:\tlearn: 0.8833593\ttest: 0.8628763\tbest: 0.8628763 (3)\ttotal: 205ms\tremaining: 398ms\n",
            "34:\tlearn: 0.8833593\ttest: 0.8628763\tbest: 0.8628763 (3)\ttotal: 211ms\tremaining: 391ms\n",
            "35:\tlearn: 0.8833593\ttest: 0.8628763\tbest: 0.8628763 (3)\ttotal: 216ms\tremaining: 384ms\n",
            "36:\tlearn: 0.8847352\ttest: 0.8628763\tbest: 0.8628763 (3)\ttotal: 222ms\tremaining: 378ms\n",
            "37:\tlearn: 0.8847352\ttest: 0.8628763\tbest: 0.8628763 (3)\ttotal: 228ms\tremaining: 371ms\n",
            "38:\tlearn: 0.8847352\ttest: 0.8628763\tbest: 0.8628763 (3)\ttotal: 234ms\tremaining: 365ms\n",
            "39:\tlearn: 0.8847352\ttest: 0.8628763\tbest: 0.8628763 (3)\ttotal: 239ms\tremaining: 359ms\n",
            "40:\tlearn: 0.8847352\ttest: 0.8628763\tbest: 0.8628763 (3)\ttotal: 259ms\tremaining: 373ms\n",
            "41:\tlearn: 0.8847352\ttest: 0.8628763\tbest: 0.8628763 (3)\ttotal: 265ms\tremaining: 367ms\n",
            "42:\tlearn: 0.8847352\ttest: 0.8628763\tbest: 0.8628763 (3)\ttotal: 271ms\tremaining: 360ms\n",
            "43:\tlearn: 0.8847352\ttest: 0.8628763\tbest: 0.8628763 (3)\ttotal: 287ms\tremaining: 366ms\n",
            "44:\tlearn: 0.8847352\ttest: 0.8628763\tbest: 0.8628763 (3)\ttotal: 294ms\tremaining: 359ms\n",
            "45:\tlearn: 0.8861154\ttest: 0.8628763\tbest: 0.8628763 (3)\ttotal: 303ms\tremaining: 355ms\n",
            "46:\tlearn: 0.8875000\ttest: 0.8628763\tbest: 0.8628763 (3)\ttotal: 312ms\tremaining: 352ms\n",
            "47:\tlearn: 0.8875000\ttest: 0.8628763\tbest: 0.8628763 (3)\ttotal: 318ms\tremaining: 344ms\n",
            "48:\tlearn: 0.8875000\ttest: 0.8628763\tbest: 0.8628763 (3)\ttotal: 324ms\tremaining: 337ms\n",
            "49:\tlearn: 0.8875000\ttest: 0.8628763\tbest: 0.8628763 (3)\ttotal: 329ms\tremaining: 329ms\n",
            "50:\tlearn: 0.8875000\ttest: 0.8628763\tbest: 0.8628763 (3)\ttotal: 335ms\tremaining: 322ms\n",
            "51:\tlearn: 0.8875000\ttest: 0.8628763\tbest: 0.8628763 (3)\ttotal: 346ms\tremaining: 319ms\n",
            "52:\tlearn: 0.8906250\ttest: 0.8628763\tbest: 0.8628763 (3)\ttotal: 352ms\tremaining: 312ms\n",
            "53:\tlearn: 0.8923557\ttest: 0.8628763\tbest: 0.8628763 (3)\ttotal: 357ms\tremaining: 304ms\n",
            "54:\tlearn: 0.8909657\ttest: 0.8628763\tbest: 0.8628763 (3)\ttotal: 363ms\tremaining: 297ms\n",
            "55:\tlearn: 0.8923557\ttest: 0.8628763\tbest: 0.8628763 (3)\ttotal: 369ms\tremaining: 290ms\n",
            "56:\tlearn: 0.8923557\ttest: 0.8628763\tbest: 0.8628763 (3)\ttotal: 374ms\tremaining: 282ms\n",
            "57:\tlearn: 0.8923557\ttest: 0.8628763\tbest: 0.8628763 (3)\ttotal: 380ms\tremaining: 275ms\n",
            "58:\tlearn: 0.8937500\ttest: 0.8628763\tbest: 0.8628763 (3)\ttotal: 385ms\tremaining: 268ms\n",
            "59:\tlearn: 0.8937500\ttest: 0.8628763\tbest: 0.8628763 (3)\ttotal: 391ms\tremaining: 260ms\n",
            "60:\tlearn: 0.8937500\ttest: 0.8628763\tbest: 0.8628763 (3)\ttotal: 396ms\tremaining: 253ms\n",
            "61:\tlearn: 0.8951487\ttest: 0.8628763\tbest: 0.8628763 (3)\ttotal: 402ms\tremaining: 247ms\n",
            "62:\tlearn: 0.8951487\ttest: 0.8628763\tbest: 0.8628763 (3)\ttotal: 408ms\tremaining: 240ms\n",
            "63:\tlearn: 0.8951487\ttest: 0.8628763\tbest: 0.8628763 (3)\ttotal: 414ms\tremaining: 233ms\n",
            "64:\tlearn: 0.8965517\ttest: 0.8628763\tbest: 0.8628763 (3)\ttotal: 419ms\tremaining: 226ms\n",
            "65:\tlearn: 0.8979592\ttest: 0.8628763\tbest: 0.8628763 (3)\ttotal: 425ms\tremaining: 219ms\n",
            "66:\tlearn: 0.8979592\ttest: 0.8628763\tbest: 0.8628763 (3)\ttotal: 430ms\tremaining: 212ms\n",
            "67:\tlearn: 0.8979592\ttest: 0.8628763\tbest: 0.8628763 (3)\ttotal: 436ms\tremaining: 205ms\n",
            "68:\tlearn: 0.8979592\ttest: 0.8628763\tbest: 0.8628763 (3)\ttotal: 442ms\tremaining: 198ms\n",
            "69:\tlearn: 0.8979592\ttest: 0.8628763\tbest: 0.8628763 (3)\ttotal: 447ms\tremaining: 192ms\n",
            "70:\tlearn: 0.8993711\ttest: 0.8628763\tbest: 0.8628763 (3)\ttotal: 453ms\tremaining: 185ms\n",
            "71:\tlearn: 0.8993711\ttest: 0.8628763\tbest: 0.8628763 (3)\ttotal: 458ms\tremaining: 178ms\n",
            "72:\tlearn: 0.8993711\ttest: 0.8628763\tbest: 0.8628763 (3)\ttotal: 464ms\tremaining: 172ms\n",
            "73:\tlearn: 0.9007874\ttest: 0.8590604\tbest: 0.8628763 (3)\ttotal: 469ms\tremaining: 165ms\n",
            "74:\tlearn: 0.8993711\ttest: 0.8590604\tbest: 0.8628763 (3)\ttotal: 475ms\tremaining: 158ms\n",
            "75:\tlearn: 0.9025157\ttest: 0.8619529\tbest: 0.8628763 (3)\ttotal: 482ms\tremaining: 152ms\n",
            "76:\tlearn: 0.9025157\ttest: 0.8619529\tbest: 0.8628763 (3)\ttotal: 490ms\tremaining: 146ms\n",
            "77:\tlearn: 0.9025157\ttest: 0.8590604\tbest: 0.8628763 (3)\ttotal: 495ms\tremaining: 140ms\n",
            "78:\tlearn: 0.9039370\ttest: 0.8590604\tbest: 0.8628763 (3)\ttotal: 501ms\tremaining: 133ms\n",
            "79:\tlearn: 0.9067930\ttest: 0.8590604\tbest: 0.8628763 (3)\ttotal: 507ms\tremaining: 127ms\n",
            "80:\tlearn: 0.9053628\ttest: 0.8590604\tbest: 0.8628763 (3)\ttotal: 512ms\tremaining: 120ms\n",
            "81:\tlearn: 0.9053628\ttest: 0.8590604\tbest: 0.8628763 (3)\ttotal: 518ms\tremaining: 114ms\n",
            "82:\tlearn: 0.9053628\ttest: 0.8619529\tbest: 0.8628763 (3)\ttotal: 523ms\tremaining: 107ms\n",
            "83:\tlearn: 0.9067930\ttest: 0.8619529\tbest: 0.8628763 (3)\ttotal: 531ms\tremaining: 101ms\n",
            "84:\tlearn: 0.9067930\ttest: 0.8619529\tbest: 0.8628763 (3)\ttotal: 543ms\tremaining: 95.7ms\n",
            "85:\tlearn: 0.9096672\ttest: 0.8648649\tbest: 0.8648649 (85)\ttotal: 548ms\tremaining: 89.3ms\n",
            "86:\tlearn: 0.9096672\ttest: 0.8648649\tbest: 0.8648649 (85)\ttotal: 554ms\tremaining: 82.8ms\n",
            "87:\tlearn: 0.9096672\ttest: 0.8648649\tbest: 0.8648649 (85)\ttotal: 560ms\tremaining: 76.3ms\n",
            "88:\tlearn: 0.9154705\ttest: 0.8648649\tbest: 0.8648649 (85)\ttotal: 567ms\tremaining: 70ms\n",
            "89:\tlearn: 0.9154705\ttest: 0.8648649\tbest: 0.8648649 (85)\ttotal: 572ms\tremaining: 63.6ms\n",
            "90:\tlearn: 0.9140127\ttest: 0.8648649\tbest: 0.8648649 (85)\ttotal: 577ms\tremaining: 57.1ms\n",
            "91:\tlearn: 0.9140127\ttest: 0.8648649\tbest: 0.8648649 (85)\ttotal: 583ms\tremaining: 50.7ms\n",
            "92:\tlearn: 0.9154705\ttest: 0.8648649\tbest: 0.8648649 (85)\ttotal: 589ms\tremaining: 44.3ms\n",
            "93:\tlearn: 0.9154705\ttest: 0.8648649\tbest: 0.8648649 (85)\ttotal: 594ms\tremaining: 37.9ms\n",
            "94:\tlearn: 0.9154705\ttest: 0.8648649\tbest: 0.8648649 (85)\ttotal: 600ms\tremaining: 31.6ms\n",
            "95:\tlearn: 0.9154705\ttest: 0.8648649\tbest: 0.8648649 (85)\ttotal: 606ms\tremaining: 25.3ms\n",
            "96:\tlearn: 0.9154705\ttest: 0.8648649\tbest: 0.8648649 (85)\ttotal: 612ms\tremaining: 18.9ms\n",
            "97:\tlearn: 0.9154705\ttest: 0.8648649\tbest: 0.8648649 (85)\ttotal: 617ms\tremaining: 12.6ms\n",
            "98:\tlearn: 0.9169329\ttest: 0.8648649\tbest: 0.8648649 (85)\ttotal: 623ms\tremaining: 6.29ms\n",
            "99:\tlearn: 0.9184000\ttest: 0.8648649\tbest: 0.8648649 (85)\ttotal: 628ms\tremaining: 0us\n",
            "bestTest = 0.8648648649\n",
            "bestIteration = 85\n",
            "Shrink model to first 86 iterations.\n"
          ]
        },
        {
          "output_type": "execute_result",
          "data": {
            "text/plain": [
              "<catboost.core.CatBoostClassifier at 0x7f6bd4a8ad00>"
            ]
          },
          "metadata": {},
          "execution_count": 18
        }
      ]
    },
    {
      "cell_type": "code",
      "source": [
        "y_pred=model_cb.predict(X_test)"
      ],
      "metadata": {
        "id": "_BuyRrMW-VRh"
      },
      "id": "_BuyRrMW-VRh",
      "execution_count": 19,
      "outputs": []
    },
    {
      "cell_type": "code",
      "source": [
        "df['Loan_Status'].isnull().sum()"
      ],
      "metadata": {
        "colab": {
          "base_uri": "https://localhost:8080/"
        },
        "id": "6iMtAzgnD1jT",
        "outputId": "321e6d07-015a-4580-d543-e1bb72b800e4"
      },
      "id": "6iMtAzgnD1jT",
      "execution_count": 25,
      "outputs": [
        {
          "output_type": "execute_result",
          "data": {
            "text/plain": [
              "0"
            ]
          },
          "metadata": {},
          "execution_count": 25
        }
      ]
    },
    {
      "cell_type": "code",
      "source": [
        "accuracy_score(y_test, y_pred)"
      ],
      "metadata": {
        "colab": {
          "base_uri": "https://localhost:8080/"
        },
        "id": "NFSczNXoEhwJ",
        "outputId": "be3c1ffc-e781-43b6-d96b-1ca915cb138c"
      },
      "id": "NFSczNXoEhwJ",
      "execution_count": 28,
      "outputs": [
        {
          "output_type": "execute_result",
          "data": {
            "text/plain": [
              "0.8029556650246306"
            ]
          },
          "metadata": {},
          "execution_count": 28
        }
      ]
    }
  ],
  "metadata": {
    "kernelspec": {
      "display_name": "Python 3 (ipykernel)",
      "language": "python",
      "name": "python3"
    },
    "language_info": {
      "codemirror_mode": {
        "name": "ipython",
        "version": 3
      },
      "file_extension": ".py",
      "mimetype": "text/x-python",
      "name": "python",
      "nbconvert_exporter": "python",
      "pygments_lexer": "ipython3",
      "version": "3.10.3"
    },
    "colab": {
      "provenance": []
    },
    "accelerator": "GPU",
    "gpuClass": "standard",
    "widgets": {
      "application/vnd.jupyter.widget-state+json": {
        "595cba2db0ed42d6a4d53ca2c97dd5ae": {
          "model_module": "catboost-widget",
          "model_name": "CatboostWidgetModel",
          "model_module_version": "^1.0.0",
          "state": {
            "_dom_classes": [],
            "_model_module": "catboost-widget",
            "_model_module_version": "^1.0.0",
            "_model_name": "CatboostWidgetModel",
            "_view_count": null,
            "_view_module": "catboost-widget",
            "_view_module_version": "^1.0.0",
            "_view_name": "CatboostWidgetView",
            "data": {
              "catboost_info": {
                "path": "catboost_info",
                "name": "catboost_info",
                "content": {
                  "passed_iterations": 99,
                  "total_iterations": 100,
                  "data": {
                    "iterations": [
                      {
                        "learn": [
                          0.8401162791,
                          0.6574769403
                        ],
                        "iteration": 0,
                        "passed_time": 0.006942923675,
                        "remaining_time": 0.6873494438,
                        "test": [
                          0.7706422018,
                          0.6751296321
                        ]
                      },
                      {
                        "learn": [
                          0.868902439,
                          0.6065028578
                        ],
                        "iteration": 1,
                        "passed_time": 0.01519850413,
                        "remaining_time": 0.7447267023,
                        "test": [
                          0.8376623377,
                          0.6290086267
                        ]
                      },
                      {
                        "learn": [
                          0.8788819876,
                          0.5743135698
                        ],
                        "iteration": 2,
                        "passed_time": 0.02116602241,
                        "remaining_time": 0.6843680578,
                        "test": [
                          0.86,
                          0.591040024
                        ]
                      },
                      {
                        "learn": [
                          0.880620155,
                          0.5448975946
                        ],
                        "iteration": 3,
                        "passed_time": 0.02682385731,
                        "remaining_time": 0.6437725754,
                        "test": [
                          0.8628762542,
                          0.5657932676
                        ]
                      },
                      {
                        "learn": [
                          0.8765432099,
                          0.5293570563
                        ],
                        "iteration": 4,
                        "passed_time": 0.03262828776,
                        "remaining_time": 0.6199374674,
                        "test": [
                          0.8628762542,
                          0.5506507235
                        ]
                      },
                      {
                        "learn": [
                          0.8765432099,
                          0.5168359019
                        ],
                        "iteration": 5,
                        "passed_time": 0.0384238318,
                        "remaining_time": 0.6019733649,
                        "test": [
                          0.8628762542,
                          0.5416800212
                        ]
                      },
                      {
                        "learn": [
                          0.8765432099,
                          0.5024792748
                        ],
                        "iteration": 6,
                        "passed_time": 0.04442481598,
                        "remaining_time": 0.5902154123,
                        "test": [
                          0.8628762542,
                          0.5296115969
                        ]
                      },
                      {
                        "learn": [
                          0.8765432099,
                          0.4925276485
                        ],
                        "iteration": 7,
                        "passed_time": 0.05017301207,
                        "remaining_time": 0.5769896388,
                        "test": [
                          0.8628762542,
                          0.5249975796
                        ]
                      },
                      {
                        "learn": [
                          0.8778979907,
                          0.4818620148
                        ],
                        "iteration": 8,
                        "passed_time": 0.05713950384,
                        "remaining_time": 0.5777438721,
                        "test": [
                          0.8628762542,
                          0.5143926085
                        ]
                      },
                      {
                        "learn": [
                          0.8792569659,
                          0.4745412859
                        ],
                        "iteration": 9,
                        "passed_time": 0.06323085486,
                        "remaining_time": 0.5690776937,
                        "test": [
                          0.8628762542,
                          0.51115767
                        ]
                      },
                      {
                        "learn": [
                          0.8778979907,
                          0.4720261474
                        ],
                        "iteration": 10,
                        "passed_time": 0.06879060139,
                        "remaining_time": 0.5565785021,
                        "test": [
                          0.8628762542,
                          0.5103302002
                        ]
                      },
                      {
                        "learn": [
                          0.8792569659,
                          0.4669992117
                        ],
                        "iteration": 11,
                        "passed_time": 0.07484992576,
                        "remaining_time": 0.5488994556,
                        "test": [
                          0.8628762542,
                          0.5073866821
                        ]
                      },
                      {
                        "learn": [
                          0.8792569659,
                          0.4625946936
                        ],
                        "iteration": 12,
                        "passed_time": 0.08059291923,
                        "remaining_time": 0.5393526133,
                        "test": [
                          0.8628762542,
                          0.5052015934
                        ]
                      },
                      {
                        "learn": [
                          0.8792569659,
                          0.4581408721
                        ],
                        "iteration": 13,
                        "passed_time": 0.08625111286,
                        "remaining_time": 0.5298282647,
                        "test": [
                          0.8628762542,
                          0.5030746836
                        ]
                      },
                      {
                        "learn": [
                          0.8792569659,
                          0.454678909
                        ],
                        "iteration": 14,
                        "passed_time": 0.09205565767,
                        "remaining_time": 0.5216487268,
                        "test": [
                          0.8628762542,
                          0.5023875871
                        ]
                      },
                      {
                        "learn": [
                          0.8792569659,
                          0.4528269153
                        ],
                        "iteration": 15,
                        "passed_time": 0.0979887504,
                        "remaining_time": 0.5144409396,
                        "test": [
                          0.8628762542,
                          0.5043873904
                        ]
                      },
                      {
                        "learn": [
                          0.8792569659,
                          0.4494575816
                        ],
                        "iteration": 16,
                        "passed_time": 0.1036685694,
                        "remaining_time": 0.5061465445,
                        "test": [
                          0.8628762542,
                          0.5010444754
                        ]
                      },
                      {
                        "learn": [
                          0.8792569659,
                          0.4475254328
                        ],
                        "iteration": 17,
                        "passed_time": 0.1092632336,
                        "remaining_time": 0.497754731,
                        "test": [
                          0.8628762542,
                          0.5007103605
                        ]
                      },
                      {
                        "learn": [
                          0.8792569659,
                          0.4448042078
                        ],
                        "iteration": 18,
                        "passed_time": 0.1149189766,
                        "remaining_time": 0.4899177425,
                        "test": [
                          0.8628762542,
                          0.4986638788
                        ]
                      },
                      {
                        "learn": [
                          0.880620155,
                          0.4412017228
                        ],
                        "iteration": 19,
                        "passed_time": 0.1206719844,
                        "remaining_time": 0.4826879377,
                        "test": [
                          0.8628762542,
                          0.4987874149
                        ]
                      },
                      {
                        "learn": [
                          0.880620155,
                          0.4391913866
                        ],
                        "iteration": 20,
                        "passed_time": 0.1262492111,
                        "remaining_time": 0.4749375086,
                        "test": [
                          0.8628762542,
                          0.4997354141
                        ]
                      },
                      {
                        "learn": [
                          0.880620155,
                          0.434502112
                        ],
                        "iteration": 21,
                        "passed_time": 0.1319695705,
                        "remaining_time": 0.4678921136,
                        "test": [
                          0.8628762542,
                          0.5005354106
                        ]
                      },
                      {
                        "learn": [
                          0.880620155,
                          0.4333359841
                        ],
                        "iteration": 22,
                        "passed_time": 0.1376831497,
                        "remaining_time": 0.4609392404,
                        "test": [
                          0.8628762542,
                          0.5009634084
                        ]
                      },
                      {
                        "learn": [
                          0.880620155,
                          0.4307794873
                        ],
                        "iteration": 23,
                        "passed_time": 0.1478030119,
                        "remaining_time": 0.4680428709,
                        "test": [
                          0.8628762542,
                          0.4983619728
                        ]
                      },
                      {
                        "learn": [
                          0.880620155,
                          0.4287485833
                        ],
                        "iteration": 24,
                        "passed_time": 0.1535718067,
                        "remaining_time": 0.46071542,
                        "test": [
                          0.8628762542,
                          0.499323502
                        ]
                      },
                      {
                        "learn": [
                          0.8833592535,
                          0.4259539231
                        ],
                        "iteration": 25,
                        "passed_time": 0.1592895784,
                        "remaining_time": 0.4533626463,
                        "test": [
                          0.8628762542,
                          0.4989547354
                        ]
                      },
                      {
                        "learn": [
                          0.8833592535,
                          0.4241142923
                        ],
                        "iteration": 26,
                        "passed_time": 0.1648952671,
                        "remaining_time": 0.4458279445,
                        "test": [
                          0.8628762542,
                          0.4984475122
                        ]
                      },
                      {
                        "learn": [
                          0.8833592535,
                          0.4196293221
                        ],
                        "iteration": 27,
                        "passed_time": 0.1706326345,
                        "remaining_time": 0.4387696315,
                        "test": [
                          0.8628762542,
                          0.4996199584
                        ]
                      },
                      {
                        "learn": [
                          0.8833592535,
                          0.4174020586
                        ],
                        "iteration": 28,
                        "passed_time": 0.17635441,
                        "remaining_time": 0.4317642453,
                        "test": [
                          0.8628762542,
                          0.4997935178
                        ]
                      },
                      {
                        "learn": [
                          0.8833592535,
                          0.4132699711
                        ],
                        "iteration": 29,
                        "passed_time": 0.1820109509,
                        "remaining_time": 0.4246922188,
                        "test": [
                          0.8628762542,
                          0.4968405287
                        ]
                      },
                      {
                        "learn": [
                          0.8833592535,
                          0.4108994013
                        ],
                        "iteration": 30,
                        "passed_time": 0.1876680671,
                        "remaining_time": 0.4177127944,
                        "test": [
                          0.8628762542,
                          0.4974240834
                        ]
                      },
                      {
                        "learn": [
                          0.8833592535,
                          0.4072966564
                        ],
                        "iteration": 31,
                        "passed_time": 0.1932446759,
                        "remaining_time": 0.4106449363,
                        "test": [
                          0.8628762542,
                          0.5010373722
                        ]
                      },
                      {
                        "learn": [
                          0.8833592535,
                          0.4055961368
                        ],
                        "iteration": 32,
                        "passed_time": 0.199001124,
                        "remaining_time": 0.4040325851,
                        "test": [
                          0.8628762542,
                          0.5011945452
                        ]
                      },
                      {
                        "learn": [
                          0.8833592535,
                          0.4021022824
                        ],
                        "iteration": 33,
                        "passed_time": 0.2049185197,
                        "remaining_time": 0.3977830089,
                        "test": [
                          0.8628762542,
                          0.4987440438
                        ]
                      },
                      {
                        "learn": [
                          0.8833592535,
                          0.3989107823
                        ],
                        "iteration": 34,
                        "passed_time": 0.2105197242,
                        "remaining_time": 0.390965202,
                        "test": [
                          0.8628762542,
                          0.4978860188
                        ]
                      },
                      {
                        "learn": [
                          0.8833592535,
                          0.3948243598
                        ],
                        "iteration": 35,
                        "passed_time": 0.216217055,
                        "remaining_time": 0.3843858756,
                        "test": [
                          0.8628762542,
                          0.49963082
                        ]
                      },
                      {
                        "learn": [
                          0.8847352025,
                          0.3908755263
                        ],
                        "iteration": 36,
                        "passed_time": 0.2218577033,
                        "remaining_time": 0.3777577109,
                        "test": [
                          0.8628762542,
                          0.4984306749
                        ]
                      },
                      {
                        "learn": [
                          0.8847352025,
                          0.3881971819
                        ],
                        "iteration": 37,
                        "passed_time": 0.2276757966,
                        "remaining_time": 0.3714710366,
                        "test": [
                          0.8628762542,
                          0.4976996436
                        ]
                      },
                      {
                        "learn": [
                          0.8847352025,
                          0.3845632883
                        ],
                        "iteration": 38,
                        "passed_time": 0.2335041078,
                        "remaining_time": 0.3652243737,
                        "test": [
                          0.8628762542,
                          0.4963543897
                        ]
                      },
                      {
                        "learn": [
                          0.8847352025,
                          0.3831255094
                        ],
                        "iteration": 39,
                        "passed_time": 0.239494685,
                        "remaining_time": 0.3592420275,
                        "test": [
                          0.8628762542,
                          0.4979819312
                        ]
                      },
                      {
                        "learn": [
                          0.8847352025,
                          0.3817861144
                        ],
                        "iteration": 40,
                        "passed_time": 0.2592811962,
                        "remaining_time": 0.3731119653,
                        "test": [
                          0.8628762542,
                          0.4989996849
                        ]
                      },
                      {
                        "learn": [
                          0.8847352025,
                          0.3794847103
                        ],
                        "iteration": 41,
                        "passed_time": 0.2654924566,
                        "remaining_time": 0.3666324401,
                        "test": [
                          0.8628762542,
                          0.4948801125
                        ]
                      },
                      {
                        "learn": [
                          0.8847352025,
                          0.3782473005
                        ],
                        "iteration": 42,
                        "passed_time": 0.2713984057,
                        "remaining_time": 0.3597606773,
                        "test": [
                          0.8628762542,
                          0.4937316819
                        ]
                      },
                      {
                        "learn": [
                          0.8847352025,
                          0.3754949268
                        ],
                        "iteration": 43,
                        "passed_time": 0.2872576423,
                        "remaining_time": 0.3656006357,
                        "test": [
                          0.8628762542,
                          0.4930445854
                        ]
                      },
                      {
                        "learn": [
                          0.8847352025,
                          0.3733100984
                        ],
                        "iteration": 44,
                        "passed_time": 0.2936618639,
                        "remaining_time": 0.3589200559,
                        "test": [
                          0.8628762542,
                          0.4907273166
                        ]
                      },
                      {
                        "learn": [
                          0.8861154446,
                          0.3713678513
                        ],
                        "iteration": 45,
                        "passed_time": 0.3025799957,
                        "remaining_time": 0.3552026036,
                        "test": [
                          0.8628762542,
                          0.4908749435
                        ]
                      },
                      {
                        "learn": [
                          0.8875,
                          0.3691529508
                        ],
                        "iteration": 46,
                        "passed_time": 0.3123727669,
                        "remaining_time": 0.3522501414,
                        "test": [
                          0.8628762542,
                          0.4896133874
                        ]
                      },
                      {
                        "learn": [
                          0.8875,
                          0.3680420293
                        ],
                        "iteration": 47,
                        "passed_time": 0.3179134626,
                        "remaining_time": 0.3444062512,
                        "test": [
                          0.8628762542,
                          0.4889382799
                        ]
                      },
                      {
                        "learn": [
                          0.8875,
                          0.366099114
                        ],
                        "iteration": 48,
                        "passed_time": 0.323652174,
                        "remaining_time": 0.3368624668,
                        "test": [
                          0.8628762542,
                          0.4874205566
                        ]
                      },
                      {
                        "learn": [
                          0.8875,
                          0.3645862663
                        ],
                        "iteration": 49,
                        "passed_time": 0.3293723638,
                        "remaining_time": 0.3293723638,
                        "test": [
                          0.8628762542,
                          0.4868180599
                        ]
                      },
                      {
                        "learn": [
                          0.8875,
                          0.3615814357
                        ],
                        "iteration": 50,
                        "passed_time": 0.3353065884,
                        "remaining_time": 0.3221573104,
                        "test": [
                          0.8628762542,
                          0.4851776649
                        ]
                      },
                      {
                        "learn": [
                          0.8875,
                          0.3600781666
                        ],
                        "iteration": 51,
                        "passed_time": 0.346111805,
                        "remaining_time": 0.31948782,
                        "test": [
                          0.8628762542,
                          0.4849187917
                        ]
                      },
                      {
                        "learn": [
                          0.890625,
                          0.3580155199
                        ],
                        "iteration": 52,
                        "passed_time": 0.3517132777,
                        "remaining_time": 0.3118966803,
                        "test": [
                          0.8628762542,
                          0.4854489406
                        ]
                      },
                      {
                        "learn": [
                          0.8923556942,
                          0.3562744586
                        ],
                        "iteration": 53,
                        "passed_time": 0.3573123233,
                        "remaining_time": 0.3043771643,
                        "test": [
                          0.8628762542,
                          0.4851769133
                        ]
                      },
                      {
                        "learn": [
                          0.8909657321,
                          0.3552001805
                        ],
                        "iteration": 54,
                        "passed_time": 0.3628819407,
                        "remaining_time": 0.296903406,
                        "test": [
                          0.8628762542,
                          0.4846196668
                        ]
                      },
                      {
                        "learn": [
                          0.8923556942,
                          0.3537190013
                        ],
                        "iteration": 55,
                        "passed_time": 0.3685024989,
                        "remaining_time": 0.2895376777,
                        "test": [
                          0.8628762542,
                          0.4841652104
                        ]
                      },
                      {
                        "learn": [
                          0.8923556942,
                          0.3527366842
                        ],
                        "iteration": 56,
                        "passed_time": 0.3740445104,
                        "remaining_time": 0.2821739289,
                        "test": [
                          0.8628762542,
                          0.4847001325
                        ]
                      },
                      {
                        "learn": [
                          0.8923556942,
                          0.349933485
                        ],
                        "iteration": 57,
                        "passed_time": 0.3795967733,
                        "remaining_time": 0.274880422,
                        "test": [
                          0.8628762542,
                          0.4819616308
                        ]
                      },
                      {
                        "learn": [
                          0.89375,
                          0.3471166606
                        ],
                        "iteration": 58,
                        "passed_time": 0.3852224094,
                        "remaining_time": 0.2676969285,
                        "test": [
                          0.8628762542,
                          0.4820455918
                        ]
                      },
                      {
                        "learn": [
                          0.89375,
                          0.34598803
                        ],
                        "iteration": 59,
                        "passed_time": 0.390680479,
                        "remaining_time": 0.2604536526,
                        "test": [
                          0.8628762542,
                          0.4824480705
                        ]
                      },
                      {
                        "learn": [
                          0.89375,
                          0.3451593404
                        ],
                        "iteration": 60,
                        "passed_time": 0.3963987564,
                        "remaining_time": 0.2534352705,
                        "test": [
                          0.8628762542,
                          0.4826730813
                        ]
                      },
                      {
                        "learn": [
                          0.8951486698,
                          0.3440870299
                        ],
                        "iteration": 61,
                        "passed_time": 0.4023737014,
                        "remaining_time": 0.2466161396,
                        "test": [
                          0.8628762542,
                          0.4843171218
                        ]
                      },
                      {
                        "learn": [
                          0.8951486698,
                          0.3428156498
                        ],
                        "iteration": 62,
                        "passed_time": 0.4080259954,
                        "remaining_time": 0.2396343148,
                        "test": [
                          0.8628762542,
                          0.4848411071
                        ]
                      },
                      {
                        "learn": [
                          0.8951486698,
                          0.3403060059
                        ],
                        "iteration": 63,
                        "passed_time": 0.4136816301,
                        "remaining_time": 0.2326959169,
                        "test": [
                          0.8628762542,
                          0.4823422737
                        ]
                      },
                      {
                        "learn": [
                          0.8965517241,
                          0.3382374562
                        ],
                        "iteration": 64,
                        "passed_time": 0.4192928332,
                        "remaining_time": 0.225773064,
                        "test": [
                          0.8628762542,
                          0.4836414882
                        ]
                      },
                      {
                        "learn": [
                          0.8979591837,
                          0.3365187819
                        ],
                        "iteration": 65,
                        "passed_time": 0.4249191524,
                        "remaining_time": 0.2188977452,
                        "test": [
                          0.8628762542,
                          0.4829017376
                        ]
                      },
                      {
                        "learn": [
                          0.8979591837,
                          0.3355395092
                        ],
                        "iteration": 66,
                        "passed_time": 0.4303270403,
                        "remaining_time": 0.2119521243,
                        "test": [
                          0.8628762542,
                          0.4837543131
                        ]
                      },
                      {
                        "learn": [
                          0.8979591837,
                          0.3347826584
                        ],
                        "iteration": 67,
                        "passed_time": 0.4359158919,
                        "remaining_time": 0.2051368903,
                        "test": [
                          0.8628762542,
                          0.4843763906
                        ]
                      },
                      {
                        "learn": [
                          0.8979591837,
                          0.3338150062
                        ],
                        "iteration": 68,
                        "passed_time": 0.4416121736,
                        "remaining_time": 0.1984054693,
                        "test": [
                          0.8628762542,
                          0.4844379519
                        ]
                      },
                      {
                        "learn": [
                          0.8979591837,
                          0.3326834054
                        ],
                        "iteration": 69,
                        "passed_time": 0.4471779532,
                        "remaining_time": 0.1916476942,
                        "test": [
                          0.8628762542,
                          0.484360117
                        ]
                      },
                      {
                        "learn": [
                          0.8993710692,
                          0.3320964804
                        ],
                        "iteration": 70,
                        "passed_time": 0.4526187392,
                        "remaining_time": 0.1848724428,
                        "test": [
                          0.8628762542,
                          0.4846341363
                        ]
                      },
                      {
                        "learn": [
                          0.8993710692,
                          0.3312723202
                        ],
                        "iteration": 71,
                        "passed_time": 0.4582164024,
                        "remaining_time": 0.1781952676,
                        "test": [
                          0.8628762542,
                          0.4839725588
                        ]
                      },
                      {
                        "learn": [
                          0.8993710692,
                          0.3296225146
                        ],
                        "iteration": 72,
                        "passed_time": 0.4637967259,
                        "remaining_time": 0.1715412548,
                        "test": [
                          0.8628762542,
                          0.4843563587
                        ]
                      },
                      {
                        "learn": [
                          0.9007874016,
                          0.3270980946
                        ],
                        "iteration": 73,
                        "passed_time": 0.4692835884,
                        "remaining_time": 0.164883423,
                        "test": [
                          0.8590604027,
                          0.4823305478
                        ]
                      },
                      {
                        "learn": [
                          0.8993710692,
                          0.3266662449
                        ],
                        "iteration": 74,
                        "passed_time": 0.4747158884,
                        "remaining_time": 0.1582386295,
                        "test": [
                          0.8590604027,
                          0.4820582573
                        ]
                      },
                      {
                        "learn": [
                          0.9025157233,
                          0.3238329737
                        ],
                        "iteration": 75,
                        "passed_time": 0.4821318455,
                        "remaining_time": 0.1522521617,
                        "test": [
                          0.861952862,
                          0.4803212734
                        ]
                      },
                      {
                        "learn": [
                          0.9025157233,
                          0.3229793725
                        ],
                        "iteration": 76,
                        "passed_time": 0.4899453878,
                        "remaining_time": 0.1463473236,
                        "test": [
                          0.861952862,
                          0.4808473258
                        ]
                      },
                      {
                        "learn": [
                          0.9025157233,
                          0.3220084903
                        ],
                        "iteration": 77,
                        "passed_time": 0.4954963466,
                        "remaining_time": 0.1397553798,
                        "test": [
                          0.8590604027,
                          0.4810639931
                        ]
                      },
                      {
                        "learn": [
                          0.9039370079,
                          0.3214089795
                        ],
                        "iteration": 78,
                        "passed_time": 0.5011592615,
                        "remaining_time": 0.1332195505,
                        "test": [
                          0.8590604027,
                          0.4820869333
                        ]
                      },
                      {
                        "learn": [
                          0.906793049,
                          0.3202414408
                        ],
                        "iteration": 79,
                        "passed_time": 0.5066136625,
                        "remaining_time": 0.1266534156,
                        "test": [
                          0.8590604027,
                          0.4824863678
                        ]
                      },
                      {
                        "learn": [
                          0.905362776,
                          0.3186309889
                        ],
                        "iteration": 80,
                        "passed_time": 0.5121743083,
                        "remaining_time": 0.1201396526,
                        "test": [
                          0.8590604027,
                          0.4827512168
                        ]
                      },
                      {
                        "learn": [
                          0.905362776,
                          0.3167674861
                        ],
                        "iteration": 81,
                        "passed_time": 0.5177216725,
                        "remaining_time": 0.1136462208,
                        "test": [
                          0.8590604027,
                          0.4827630179
                        ]
                      },
                      {
                        "learn": [
                          0.905362776,
                          0.3147356539
                        ],
                        "iteration": 82,
                        "passed_time": 0.5232053038,
                        "remaining_time": 0.1071625321,
                        "test": [
                          0.861952862,
                          0.4825225229
                        ]
                      },
                      {
                        "learn": [
                          0.906793049,
                          0.3127403166
                        ],
                        "iteration": 83,
                        "passed_time": 0.5308856334,
                        "remaining_time": 0.101121073,
                        "test": [
                          0.861952862,
                          0.4845496492
                        ]
                      },
                      {
                        "learn": [
                          0.906793049,
                          0.3106023969
                        ],
                        "iteration": 84,
                        "passed_time": 0.5425772531,
                        "remaining_time": 0.09574892702,
                        "test": [
                          0.861952862,
                          0.4828764817
                        ]
                      },
                      {
                        "learn": [
                          0.9096671949,
                          0.3083608214
                        ],
                        "iteration": 85,
                        "passed_time": 0.5482993574,
                        "remaining_time": 0.08925803493,
                        "test": [
                          0.8648648649,
                          0.4813110276
                        ]
                      },
                      {
                        "learn": [
                          0.9096671949,
                          0.3075856304
                        ],
                        "iteration": 86,
                        "passed_time": 0.5540118457,
                        "remaining_time": 0.08278337924,
                        "test": [
                          0.8648648649,
                          0.481833923
                        ]
                      },
                      {
                        "learn": [
                          0.9096671949,
                          0.306054461
                        ],
                        "iteration": 87,
                        "passed_time": 0.5595225759,
                        "remaining_time": 0.07629853307,
                        "test": [
                          0.8648648649,
                          0.4817720611
                        ]
                      },
                      {
                        "learn": [
                          0.9154704944,
                          0.3047110193
                        ],
                        "iteration": 88,
                        "passed_time": 0.5665368478,
                        "remaining_time": 0.07002140816,
                        "test": [
                          0.8648648649,
                          0.482248917
                        ]
                      },
                      {
                        "learn": [
                          0.9154704944,
                          0.3035114595
                        ],
                        "iteration": 89,
                        "passed_time": 0.5719931594,
                        "remaining_time": 0.06355479549,
                        "test": [
                          0.8648648649,
                          0.4812042913
                        ]
                      },
                      {
                        "learn": [
                          0.9140127389,
                          0.3028092582
                        ],
                        "iteration": 90,
                        "passed_time": 0.5774833722,
                        "remaining_time": 0.05711374011,
                        "test": [
                          0.8648648649,
                          0.4807640038
                        ]
                      },
                      {
                        "learn": [
                          0.9140127389,
                          0.3017189044
                        ],
                        "iteration": 91,
                        "passed_time": 0.583181584,
                        "remaining_time": 0.05071144209,
                        "test": [
                          0.8648648649,
                          0.4804607448
                        ]
                      },
                      {
                        "learn": [
                          0.9154704944,
                          0.3008560589
                        ],
                        "iteration": 92,
                        "passed_time": 0.5886426556,
                        "remaining_time": 0.04430643644,
                        "test": [
                          0.8648648649,
                          0.4820470575
                        ]
                      },
                      {
                        "learn": [
                          0.9154704944,
                          0.2998589657
                        ],
                        "iteration": 93,
                        "passed_time": 0.5943059714,
                        "remaining_time": 0.03793442371,
                        "test": [
                          0.8648648649,
                          0.4827604999
                        ]
                      },
                      {
                        "learn": [
                          0.9154704944,
                          0.2984086382
                        ],
                        "iteration": 94,
                        "passed_time": 0.5997556003,
                        "remaining_time": 0.03156608423,
                        "test": [
                          0.8648648649,
                          0.4825259429
                        ]
                      },
                      {
                        "learn": [
                          0.9154704944,
                          0.2970422155
                        ],
                        "iteration": 95,
                        "passed_time": 0.6061147533,
                        "remaining_time": 0.02525478139,
                        "test": [
                          0.8648648649,
                          0.4831205471
                        ]
                      },
                      {
                        "learn": [
                          0.9154704944,
                          0.2954885293
                        ],
                        "iteration": 96,
                        "passed_time": 0.6116750481,
                        "remaining_time": 0.01891778499,
                        "test": [
                          0.8648648649,
                          0.4834674403
                        ]
                      },
                      {
                        "learn": [
                          0.9154704944,
                          0.2947580008
                        ],
                        "iteration": 97,
                        "passed_time": 0.6171310441,
                        "remaining_time": 0.0125945111,
                        "test": [
                          0.8648648649,
                          0.4826429771
                        ]
                      },
                      {
                        "learn": [
                          0.9169329073,
                          0.2930720531
                        ],
                        "iteration": 98,
                        "passed_time": 0.6227154875,
                        "remaining_time": 0.006290055429,
                        "test": [
                          0.8648648649,
                          0.4812638607
                        ]
                      },
                      {
                        "learn": [
                          0.9184,
                          0.2925914384
                        ],
                        "iteration": 99,
                        "passed_time": 0.6282210181,
                        "remaining_time": 0,
                        "test": [
                          0.8648648649,
                          0.4809252358
                        ]
                      }
                    ],
                    "meta": {
                      "test_sets": [
                        "test"
                      ],
                      "test_metrics": [
                        {
                          "best_value": "Max",
                          "name": "F1"
                        },
                        {
                          "best_value": "Min",
                          "name": "Logloss"
                        }
                      ],
                      "learn_metrics": [
                        {
                          "best_value": "Max",
                          "name": "F1"
                        },
                        {
                          "best_value": "Min",
                          "name": "Logloss"
                        }
                      ],
                      "launch_mode": "Train",
                      "parameters": "",
                      "iteration_count": 100,
                      "learn_sets": [
                        "learn"
                      ],
                      "name": "experiment"
                    }
                  }
                }
              }
            },
            "layout": "IPY_MODEL_2ac27d8085cd4dea928b35d2644f2f47"
          }
        }
      }
    }
  },
  "nbformat": 4,
  "nbformat_minor": 5
}